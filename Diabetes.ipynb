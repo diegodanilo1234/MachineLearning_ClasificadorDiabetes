{
 "cells": [
  {
   "cell_type": "markdown",
   "source": "# Machine Learning - Clasificador de diabetes\nEn este proyecto se busca la creación de un modelo de machine learning que clasfique si una persona tiene o no diabetes. Para esto se utilizara una regresión logística donde las variables independientes seran el colesterol, azucar en la sangre, HDL o colesterol bueno, edad, peso, altura, presión arterial, tamaño de la cintura y cadera. Y nuestra variable dependiente sera de caracter dummy y se clasificara en 0 sino tiene diabetes y 1 si tiene diabetes.\n\nFuente: data.world",
   "metadata": {
    "tags": [],
    "cell_id": "00000-65faf9c0-a58d-49f6-b187-df0913e51c74",
    "deepnote_app_coordinates": {
     "x": 0,
     "y": null,
     "w": 12,
     "h": 5
    },
    "deepnote_cell_type": "markdown"
   }
  },
  {
   "cell_type": "markdown",
   "source": "### 1. Cargamos las librerias\n",
   "metadata": {
    "tags": [],
    "cell_id": "00002-ccf18613-b7b2-4547-98b4-74ac7b53a9e1",
    "deepnote_app_coordinates": {
     "x": 0,
     "y": 12,
     "w": 12,
     "h": 5
    },
    "deepnote_cell_type": "markdown"
   }
  },
  {
   "cell_type": "code",
   "metadata": {
    "tags": [],
    "cell_id": "00003-7dfc1eb1-f772-4aff-a0e4-ee0d32d58378",
    "deepnote_to_be_reexecuted": false,
    "source_hash": "1730faa",
    "execution_start": 1643549931807,
    "execution_millis": 1934,
    "deepnote_app_coordinates": {
     "x": 0,
     "y": 18,
     "w": 12,
     "h": 5
    },
    "deepnote_cell_type": "code"
   },
   "source": "\nimport pandas as pd # Libreria para tratamiento de DataFrame\nimport numpy as np # Libreria de algebra lineal\nimport matplotlib.pyplot as plt # Libreria gráfica\nimport seaborn as sns # Libreria Gráfica\nfrom sklearn import metrics # Validar nuestro metodo\nfrom sklearn.model_selection import train_test_split # Entrenar y divir la información\nfrom sklearn.linear_model import LogisticRegression # Regresión logistica\nfrom sklearn.tree import DecisionTreeClassifier # Arboles de decisión\nfrom sklearn.ensemble import RandomForestClassifier # Bosques aleatorios\nfrom sklearn.svm import SVC # Máquinas de vectores de soporte",
   "execution_count": 1,
   "outputs": []
  },
  {
   "cell_type": "markdown",
   "source": "### 2. Cargamos el dataset",
   "metadata": {
    "tags": [],
    "cell_id": "00004-936a0bf2-6ae4-424c-ab8f-b1bd8ca36055",
    "deepnote_app_coordinates": {
     "x": 0,
     "y": 24,
     "w": 12,
     "h": 5
    },
    "deepnote_cell_type": "markdown"
   }
  },
  {
   "cell_type": "code",
   "metadata": {
    "tags": [],
    "cell_id": "00005-978e70cc-683d-435d-9e34-eea5fe44d462",
    "deepnote_to_be_reexecuted": false,
    "source_hash": "23519125",
    "execution_start": 1643549933747,
    "execution_millis": 10,
    "deepnote_app_coordinates": {
     "x": 0,
     "y": 30,
     "w": 12,
     "h": 5
    },
    "deepnote_cell_type": "code"
   },
   "source": "# Lectura del dataset\ndiabetes = pd.read_csv(\"/work/Diabetes.csv\")",
   "execution_count": 2,
   "outputs": []
  },
  {
   "cell_type": "code",
   "metadata": {
    "tags": [],
    "cell_id": "00006-9811fea9-620b-4d85-be6f-c603a3430a1c",
    "deepnote_to_be_reexecuted": false,
    "source_hash": "3c4f5eea",
    "execution_start": 1643549933858,
    "execution_millis": 30,
    "deepnote_app_coordinates": {
     "x": 0,
     "y": 36,
     "w": 12,
     "h": 5
    },
    "deepnote_cell_type": "code"
   },
   "source": "# Primeras 5 filas del dataset\ndiabetes.head()",
   "execution_count": 3,
   "outputs": [
    {
     "output_type": "execute_result",
     "execution_count": 3,
     "data": {
      "application/vnd.deepnote.dataframe.v3+json": {
       "column_count": 16,
       "row_count": 5,
       "columns": [
        {
         "name": "Patient number",
         "dtype": "int64",
         "stats": {
          "unique_count": 5,
          "nan_count": 0,
          "min": "1",
          "max": "5",
          "histogram": [
           {
            "bin_start": 1,
            "bin_end": 1.4,
            "count": 1
           },
           {
            "bin_start": 1.4,
            "bin_end": 1.8,
            "count": 0
           },
           {
            "bin_start": 1.8,
            "bin_end": 2.2,
            "count": 1
           },
           {
            "bin_start": 2.2,
            "bin_end": 2.6,
            "count": 0
           },
           {
            "bin_start": 2.6,
            "bin_end": 3,
            "count": 0
           },
           {
            "bin_start": 3,
            "bin_end": 3.4000000000000004,
            "count": 1
           },
           {
            "bin_start": 3.4000000000000004,
            "bin_end": 3.8000000000000003,
            "count": 0
           },
           {
            "bin_start": 3.8000000000000003,
            "bin_end": 4.2,
            "count": 1
           },
           {
            "bin_start": 4.2,
            "bin_end": 4.6,
            "count": 0
           },
           {
            "bin_start": 4.6,
            "bin_end": 5,
            "count": 1
           }
          ]
         }
        },
        {
         "name": "Cholesterol",
         "dtype": "int64",
         "stats": {
          "unique_count": 5,
          "nan_count": 0,
          "min": "146",
          "max": "226",
          "histogram": [
           {
            "bin_start": 146,
            "bin_end": 154,
            "count": 1
           },
           {
            "bin_start": 154,
            "bin_end": 162,
            "count": 0
           },
           {
            "bin_start": 162,
            "bin_end": 170,
            "count": 1
           },
           {
            "bin_start": 170,
            "bin_end": 178,
            "count": 0
           },
           {
            "bin_start": 178,
            "bin_end": 186,
            "count": 0
           },
           {
            "bin_start": 186,
            "bin_end": 194,
            "count": 1
           },
           {
            "bin_start": 194,
            "bin_end": 202,
            "count": 0
           },
           {
            "bin_start": 202,
            "bin_end": 210,
            "count": 0
           },
           {
            "bin_start": 210,
            "bin_end": 218,
            "count": 1
           },
           {
            "bin_start": 218,
            "bin_end": 226,
            "count": 1
           }
          ]
         }
        },
        {
         "name": "Glucose",
         "dtype": "int64",
         "stats": {
          "unique_count": 5,
          "nan_count": 0,
          "min": "75",
          "max": "97",
          "histogram": [
           {
            "bin_start": 75,
            "bin_end": 77.2,
            "count": 2
           },
           {
            "bin_start": 77.2,
            "bin_end": 79.4,
            "count": 1
           },
           {
            "bin_start": 79.4,
            "bin_end": 81.6,
            "count": 0
           },
           {
            "bin_start": 81.6,
            "bin_end": 83.8,
            "count": 0
           },
           {
            "bin_start": 83.8,
            "bin_end": 86,
            "count": 0
           },
           {
            "bin_start": 86,
            "bin_end": 88.2,
            "count": 0
           },
           {
            "bin_start": 88.2,
            "bin_end": 90.4,
            "count": 0
           },
           {
            "bin_start": 90.4,
            "bin_end": 92.6,
            "count": 1
           },
           {
            "bin_start": 92.6,
            "bin_end": 94.8,
            "count": 0
           },
           {
            "bin_start": 94.8,
            "bin_end": 97,
            "count": 1
           }
          ]
         }
        },
        {
         "name": "HDL Chol",
         "dtype": "int64",
         "stats": {
          "unique_count": 5,
          "nan_count": 0,
          "min": "41",
          "max": "70",
          "histogram": [
           {
            "bin_start": 41,
            "bin_end": 43.9,
            "count": 1
           },
           {
            "bin_start": 43.9,
            "bin_end": 46.8,
            "count": 0
           },
           {
            "bin_start": 46.8,
            "bin_end": 49.7,
            "count": 1
           },
           {
            "bin_start": 49.7,
            "bin_end": 52.6,
            "count": 0
           },
           {
            "bin_start": 52.6,
            "bin_end": 55.5,
            "count": 1
           },
           {
            "bin_start": 55.5,
            "bin_end": 58.4,
            "count": 0
           },
           {
            "bin_start": 58.4,
            "bin_end": 61.3,
            "count": 0
           },
           {
            "bin_start": 61.3,
            "bin_end": 64.2,
            "count": 0
           },
           {
            "bin_start": 64.2,
            "bin_end": 67.1,
            "count": 1
           },
           {
            "bin_start": 67.1,
            "bin_end": 70,
            "count": 1
           }
          ]
         }
        },
        {
         "name": "Chol/HDL ratio",
         "dtype": "float64",
         "stats": {
          "unique_count": 5,
          "nan_count": 0,
          "min": "2.4",
          "max": "4.0",
          "histogram": [
           {
            "bin_start": 2.4,
            "bin_end": 2.56,
            "count": 1
           },
           {
            "bin_start": 2.56,
            "bin_end": 2.7199999999999998,
            "count": 0
           },
           {
            "bin_start": 2.7199999999999998,
            "bin_end": 2.88,
            "count": 0
           },
           {
            "bin_start": 2.88,
            "bin_end": 3.04,
            "count": 0
           },
           {
            "bin_start": 3.04,
            "bin_end": 3.2,
            "count": 0
           },
           {
            "bin_start": 3.2,
            "bin_end": 3.36,
            "count": 1
           },
           {
            "bin_start": 3.36,
            "bin_end": 3.52,
            "count": 0
           },
           {
            "bin_start": 3.52,
            "bin_end": 3.6799999999999997,
            "count": 1
           },
           {
            "bin_start": 3.6799999999999997,
            "bin_end": 3.84,
            "count": 0
           },
           {
            "bin_start": 3.84,
            "bin_end": 4,
            "count": 2
           }
          ]
         }
        },
        {
         "name": "Age",
         "dtype": "int64",
         "stats": {
          "unique_count": 2,
          "nan_count": 0,
          "min": "19",
          "max": "20",
          "histogram": [
           {
            "bin_start": 19,
            "bin_end": 19.1,
            "count": 2
           },
           {
            "bin_start": 19.1,
            "bin_end": 19.2,
            "count": 0
           },
           {
            "bin_start": 19.2,
            "bin_end": 19.3,
            "count": 0
           },
           {
            "bin_start": 19.3,
            "bin_end": 19.4,
            "count": 0
           },
           {
            "bin_start": 19.4,
            "bin_end": 19.5,
            "count": 0
           },
           {
            "bin_start": 19.5,
            "bin_end": 19.6,
            "count": 0
           },
           {
            "bin_start": 19.6,
            "bin_end": 19.7,
            "count": 0
           },
           {
            "bin_start": 19.7,
            "bin_end": 19.8,
            "count": 0
           },
           {
            "bin_start": 19.8,
            "bin_end": 19.9,
            "count": 0
           },
           {
            "bin_start": 19.9,
            "bin_end": 20,
            "count": 3
           }
          ]
         }
        },
        {
         "name": "Gender",
         "dtype": "object",
         "stats": {
          "unique_count": 1,
          "nan_count": 0,
          "categories": [
           {
            "name": "female",
            "count": 5
           }
          ]
         }
        },
        {
         "name": "Height",
         "dtype": "int64",
         "stats": {
          "unique_count": 5,
          "nan_count": 0,
          "min": "60",
          "max": "70",
          "histogram": [
           {
            "bin_start": 60,
            "bin_end": 61,
            "count": 1
           },
           {
            "bin_start": 61,
            "bin_end": 62,
            "count": 1
           },
           {
            "bin_start": 62,
            "bin_end": 63,
            "count": 0
           },
           {
            "bin_start": 63,
            "bin_end": 64,
            "count": 0
           },
           {
            "bin_start": 64,
            "bin_end": 65,
            "count": 1
           },
           {
            "bin_start": 65,
            "bin_end": 66,
            "count": 0
           },
           {
            "bin_start": 66,
            "bin_end": 67,
            "count": 0
           },
           {
            "bin_start": 67,
            "bin_end": 68,
            "count": 1
           },
           {
            "bin_start": 68,
            "bin_end": 69,
            "count": 0
           },
           {
            "bin_start": 69,
            "bin_end": 70,
            "count": 1
           }
          ]
         }
        },
        {
         "name": "Weight",
         "dtype": "int64",
         "stats": {
          "unique_count": 5,
          "nan_count": 0,
          "min": "114",
          "max": "187",
          "histogram": [
           {
            "bin_start": 114,
            "bin_end": 121.3,
            "count": 2
           },
           {
            "bin_start": 121.3,
            "bin_end": 128.6,
            "count": 0
           },
           {
            "bin_start": 128.6,
            "bin_end": 135.9,
            "count": 1
           },
           {
            "bin_start": 135.9,
            "bin_end": 143.2,
            "count": 1
           },
           {
            "bin_start": 143.2,
            "bin_end": 150.5,
            "count": 0
           },
           {
            "bin_start": 150.5,
            "bin_end": 157.8,
            "count": 0
           },
           {
            "bin_start": 157.8,
            "bin_end": 165.1,
            "count": 0
           },
           {
            "bin_start": 165.1,
            "bin_end": 172.4,
            "count": 0
           },
           {
            "bin_start": 172.4,
            "bin_end": 179.7,
            "count": 0
           },
           {
            "bin_start": 179.7,
            "bin_end": 187,
            "count": 1
           }
          ]
         }
        },
        {
         "name": "BMI",
         "dtype": "float64",
         "stats": {
          "unique_count": 5,
          "nan_count": 0,
          "min": "19.6",
          "max": "29.3",
          "histogram": [
           {
            "bin_start": 19.6,
            "bin_end": 20.57,
            "count": 2
           },
           {
            "bin_start": 20.57,
            "bin_end": 21.540000000000003,
            "count": 0
           },
           {
            "bin_start": 21.540000000000003,
            "bin_end": 22.51,
            "count": 1
           },
           {
            "bin_start": 22.51,
            "bin_end": 23.48,
            "count": 0
           },
           {
            "bin_start": 23.48,
            "bin_end": 24.450000000000003,
            "count": 0
           },
           {
            "bin_start": 24.450000000000003,
            "bin_end": 25.42,
            "count": 0
           },
           {
            "bin_start": 25.42,
            "bin_end": 26.39,
            "count": 0
           },
           {
            "bin_start": 26.39,
            "bin_end": 27.36,
            "count": 1
           },
           {
            "bin_start": 27.36,
            "bin_end": 28.330000000000002,
            "count": 0
           },
           {
            "bin_start": 28.330000000000002,
            "bin_end": 29.3,
            "count": 1
           }
          ]
         }
        },
        {
         "name": "Systolic BP",
         "dtype": "int64",
         "stats": {
          "unique_count": 4,
          "nan_count": 0,
          "min": "108",
          "max": "122",
          "histogram": [
           {
            "bin_start": 108,
            "bin_end": 109.4,
            "count": 1
           },
           {
            "bin_start": 109.4,
            "bin_end": 110.8,
            "count": 1
           },
           {
            "bin_start": 110.8,
            "bin_end": 112.2,
            "count": 0
           },
           {
            "bin_start": 112.2,
            "bin_end": 113.6,
            "count": 0
           },
           {
            "bin_start": 113.6,
            "bin_end": 115,
            "count": 0
           },
           {
            "bin_start": 115,
            "bin_end": 116.4,
            "count": 0
           },
           {
            "bin_start": 116.4,
            "bin_end": 117.8,
            "count": 0
           },
           {
            "bin_start": 117.8,
            "bin_end": 119.2,
            "count": 1
           },
           {
            "bin_start": 119.2,
            "bin_end": 120.6,
            "count": 0
           },
           {
            "bin_start": 120.6,
            "bin_end": 122,
            "count": 2
           }
          ]
         }
        },
        {
         "name": "Diastolic BP",
         "dtype": "int64",
         "stats": {
          "unique_count": 5,
          "nan_count": 0,
          "min": "58",
          "max": "86",
          "histogram": [
           {
            "bin_start": 58,
            "bin_end": 60.8,
            "count": 1
           },
           {
            "bin_start": 60.8,
            "bin_end": 63.6,
            "count": 0
           },
           {
            "bin_start": 63.6,
            "bin_end": 66.4,
            "count": 1
           },
           {
            "bin_start": 66.4,
            "bin_end": 69.2,
            "count": 0
           },
           {
            "bin_start": 69.2,
            "bin_end": 72,
            "count": 1
           },
           {
            "bin_start": 72,
            "bin_end": 74.8,
            "count": 1
           },
           {
            "bin_start": 74.8,
            "bin_end": 77.6,
            "count": 0
           },
           {
            "bin_start": 77.6,
            "bin_end": 80.4,
            "count": 0
           },
           {
            "bin_start": 80.4,
            "bin_end": 83.2,
            "count": 0
           },
           {
            "bin_start": 83.2,
            "bin_end": 86,
            "count": 1
           }
          ]
         }
        },
        {
         "name": "waist",
         "dtype": "int64",
         "stats": {
          "unique_count": 4,
          "nan_count": 0,
          "min": "31",
          "max": "40",
          "histogram": [
           {
            "bin_start": 31,
            "bin_end": 31.9,
            "count": 1
           },
           {
            "bin_start": 31.9,
            "bin_end": 32.8,
            "count": 2
           },
           {
            "bin_start": 32.8,
            "bin_end": 33.7,
            "count": 1
           },
           {
            "bin_start": 33.7,
            "bin_end": 34.6,
            "count": 0
           },
           {
            "bin_start": 34.6,
            "bin_end": 35.5,
            "count": 0
           },
           {
            "bin_start": 35.5,
            "bin_end": 36.4,
            "count": 0
           },
           {
            "bin_start": 36.4,
            "bin_end": 37.3,
            "count": 0
           },
           {
            "bin_start": 37.3,
            "bin_end": 38.2,
            "count": 0
           },
           {
            "bin_start": 38.2,
            "bin_end": 39.1,
            "count": 0
           },
           {
            "bin_start": 39.1,
            "bin_end": 40,
            "count": 1
           }
          ]
         }
        },
        {
         "name": "hip",
         "dtype": "int64",
         "stats": {
          "unique_count": 4,
          "nan_count": 0,
          "min": "38",
          "max": "45",
          "histogram": [
           {
            "bin_start": 38,
            "bin_end": 38.7,
            "count": 1
           },
           {
            "bin_start": 38.7,
            "bin_end": 39.4,
            "count": 2
           },
           {
            "bin_start": 39.4,
            "bin_end": 40.1,
            "count": 1
           },
           {
            "bin_start": 40.1,
            "bin_end": 40.8,
            "count": 0
           },
           {
            "bin_start": 40.8,
            "bin_end": 41.5,
            "count": 0
           },
           {
            "bin_start": 41.5,
            "bin_end": 42.2,
            "count": 0
           },
           {
            "bin_start": 42.2,
            "bin_end": 42.9,
            "count": 0
           },
           {
            "bin_start": 42.9,
            "bin_end": 43.6,
            "count": 0
           },
           {
            "bin_start": 43.6,
            "bin_end": 44.3,
            "count": 0
           },
           {
            "bin_start": 44.3,
            "bin_end": 45,
            "count": 1
           }
          ]
         }
        },
        {
         "name": "Waist/hip ratio",
         "dtype": "float64",
         "stats": {
          "unique_count": 5,
          "nan_count": 0,
          "min": "0.79",
          "max": "0.89",
          "histogram": [
           {
            "bin_start": 0.79,
            "bin_end": 0.8,
            "count": 1
           },
           {
            "bin_start": 0.8,
            "bin_end": 0.81,
            "count": 0
           },
           {
            "bin_start": 0.81,
            "bin_end": 0.8200000000000001,
            "count": 1
           },
           {
            "bin_start": 0.8200000000000001,
            "bin_end": 0.8300000000000001,
            "count": 1
           },
           {
            "bin_start": 0.8300000000000001,
            "bin_end": 0.8400000000000001,
            "count": 1
           },
           {
            "bin_start": 0.8400000000000001,
            "bin_end": 0.85,
            "count": 0
           },
           {
            "bin_start": 0.85,
            "bin_end": 0.86,
            "count": 0
           },
           {
            "bin_start": 0.86,
            "bin_end": 0.87,
            "count": 0
           },
           {
            "bin_start": 0.87,
            "bin_end": 0.88,
            "count": 0
           },
           {
            "bin_start": 0.88,
            "bin_end": 0.89,
            "count": 1
           }
          ]
         }
        },
        {
         "name": "Diabetes",
         "dtype": "object",
         "stats": {
          "unique_count": 1,
          "nan_count": 0,
          "categories": [
           {
            "name": "No diabetes",
            "count": 5
           }
          ]
         }
        },
        {
         "name": "_deepnote_index_column",
         "dtype": "int64"
        }
       ],
       "rows": [
        {
         "Patient number": 1,
         "Cholesterol": 193,
         "Glucose": 77,
         "HDL Chol": 49,
         "Chol/HDL ratio": 3.9,
         "Age": 19,
         "Gender": "female",
         "Height": 61,
         "Weight": 119,
         "BMI": 22.5,
         "Systolic BP": 118,
         "Diastolic BP": 70,
         "waist": 32,
         "hip": 38,
         "Waist/hip ratio": 0.84,
         "Diabetes": "No diabetes",
         "_deepnote_index_column": 0
        },
        {
         "Patient number": 2,
         "Cholesterol": 146,
         "Glucose": 79,
         "HDL Chol": 41,
         "Chol/HDL ratio": 3.6,
         "Age": 19,
         "Gender": "female",
         "Height": 60,
         "Weight": 135,
         "BMI": 26.4,
         "Systolic BP": 108,
         "Diastolic BP": 58,
         "waist": 33,
         "hip": 40,
         "Waist/hip ratio": 0.83,
         "Diabetes": "No diabetes",
         "_deepnote_index_column": 1
        },
        {
         "Patient number": 3,
         "Cholesterol": 217,
         "Glucose": 75,
         "HDL Chol": 54,
         "Chol/HDL ratio": 4,
         "Age": 20,
         "Gender": "female",
         "Height": 67,
         "Weight": 187,
         "BMI": 29.3,
         "Systolic BP": 110,
         "Diastolic BP": 72,
         "waist": 40,
         "hip": 45,
         "Waist/hip ratio": 0.89,
         "Diabetes": "No diabetes",
         "_deepnote_index_column": 2
        },
        {
         "Patient number": 4,
         "Cholesterol": 226,
         "Glucose": 97,
         "HDL Chol": 70,
         "Chol/HDL ratio": 3.2,
         "Age": 20,
         "Gender": "female",
         "Height": 64,
         "Weight": 114,
         "BMI": 19.6,
         "Systolic BP": 122,
         "Diastolic BP": 64,
         "waist": 31,
         "hip": 39,
         "Waist/hip ratio": 0.79,
         "Diabetes": "No diabetes",
         "_deepnote_index_column": 3
        },
        {
         "Patient number": 5,
         "Cholesterol": 164,
         "Glucose": 91,
         "HDL Chol": 67,
         "Chol/HDL ratio": 2.4,
         "Age": 20,
         "Gender": "female",
         "Height": 70,
         "Weight": 141,
         "BMI": 20.2,
         "Systolic BP": 122,
         "Diastolic BP": 86,
         "waist": 32,
         "hip": 39,
         "Waist/hip ratio": 0.82,
         "Diabetes": "No diabetes",
         "_deepnote_index_column": 4
        }
       ]
      },
      "text/plain": "   Patient number  Cholesterol  Glucose  HDL Chol  Chol/HDL ratio  Age  \\\n0               1          193       77        49             3.9   19   \n1               2          146       79        41             3.6   19   \n2               3          217       75        54             4.0   20   \n3               4          226       97        70             3.2   20   \n4               5          164       91        67             2.4   20   \n\n   Gender  Height  Weight   BMI  Systolic BP  Diastolic BP  waist  hip  \\\n0  female      61     119  22.5          118            70     32   38   \n1  female      60     135  26.4          108            58     33   40   \n2  female      67     187  29.3          110            72     40   45   \n3  female      64     114  19.6          122            64     31   39   \n4  female      70     141  20.2          122            86     32   39   \n\n   Waist/hip ratio     Diabetes  \n0             0.84  No diabetes  \n1             0.83  No diabetes  \n2             0.89  No diabetes  \n3             0.79  No diabetes  \n4             0.82  No diabetes  ",
      "text/html": "<div>\n<style scoped>\n    .dataframe tbody tr th:only-of-type {\n        vertical-align: middle;\n    }\n\n    .dataframe tbody tr th {\n        vertical-align: top;\n    }\n\n    .dataframe thead th {\n        text-align: right;\n    }\n</style>\n<table border=\"1\" class=\"dataframe\">\n  <thead>\n    <tr style=\"text-align: right;\">\n      <th></th>\n      <th>Patient number</th>\n      <th>Cholesterol</th>\n      <th>Glucose</th>\n      <th>HDL Chol</th>\n      <th>Chol/HDL ratio</th>\n      <th>Age</th>\n      <th>Gender</th>\n      <th>Height</th>\n      <th>Weight</th>\n      <th>BMI</th>\n      <th>Systolic BP</th>\n      <th>Diastolic BP</th>\n      <th>waist</th>\n      <th>hip</th>\n      <th>Waist/hip ratio</th>\n      <th>Diabetes</th>\n    </tr>\n  </thead>\n  <tbody>\n    <tr>\n      <th>0</th>\n      <td>1</td>\n      <td>193</td>\n      <td>77</td>\n      <td>49</td>\n      <td>3.9</td>\n      <td>19</td>\n      <td>female</td>\n      <td>61</td>\n      <td>119</td>\n      <td>22.5</td>\n      <td>118</td>\n      <td>70</td>\n      <td>32</td>\n      <td>38</td>\n      <td>0.84</td>\n      <td>No diabetes</td>\n    </tr>\n    <tr>\n      <th>1</th>\n      <td>2</td>\n      <td>146</td>\n      <td>79</td>\n      <td>41</td>\n      <td>3.6</td>\n      <td>19</td>\n      <td>female</td>\n      <td>60</td>\n      <td>135</td>\n      <td>26.4</td>\n      <td>108</td>\n      <td>58</td>\n      <td>33</td>\n      <td>40</td>\n      <td>0.83</td>\n      <td>No diabetes</td>\n    </tr>\n    <tr>\n      <th>2</th>\n      <td>3</td>\n      <td>217</td>\n      <td>75</td>\n      <td>54</td>\n      <td>4.0</td>\n      <td>20</td>\n      <td>female</td>\n      <td>67</td>\n      <td>187</td>\n      <td>29.3</td>\n      <td>110</td>\n      <td>72</td>\n      <td>40</td>\n      <td>45</td>\n      <td>0.89</td>\n      <td>No diabetes</td>\n    </tr>\n    <tr>\n      <th>3</th>\n      <td>4</td>\n      <td>226</td>\n      <td>97</td>\n      <td>70</td>\n      <td>3.2</td>\n      <td>20</td>\n      <td>female</td>\n      <td>64</td>\n      <td>114</td>\n      <td>19.6</td>\n      <td>122</td>\n      <td>64</td>\n      <td>31</td>\n      <td>39</td>\n      <td>0.79</td>\n      <td>No diabetes</td>\n    </tr>\n    <tr>\n      <th>4</th>\n      <td>5</td>\n      <td>164</td>\n      <td>91</td>\n      <td>67</td>\n      <td>2.4</td>\n      <td>20</td>\n      <td>female</td>\n      <td>70</td>\n      <td>141</td>\n      <td>20.2</td>\n      <td>122</td>\n      <td>86</td>\n      <td>32</td>\n      <td>39</td>\n      <td>0.82</td>\n      <td>No diabetes</td>\n    </tr>\n  </tbody>\n</table>\n</div>"
     },
     "metadata": {}
    }
   ]
  },
  {
   "cell_type": "markdown",
   "source": "### 3. Exploración de datos ",
   "metadata": {
    "tags": [],
    "cell_id": "00007-a6edf6ca-3069-4b4e-9cf7-01ba69326b0e",
    "deepnote_app_coordinates": {
     "x": 0,
     "y": 42,
     "w": 12,
     "h": 5
    },
    "deepnote_cell_type": "markdown"
   }
  },
  {
   "cell_type": "code",
   "metadata": {
    "tags": [],
    "cell_id": "00008-324932b1-d830-4806-a826-ca264925729f",
    "deepnote_to_be_reexecuted": false,
    "source_hash": "30e1f40b",
    "execution_start": 1643549933891,
    "execution_millis": 3,
    "deepnote_output_heights": [
     97.9375
    ],
    "deepnote_app_coordinates": {
     "x": 0,
     "y": 48,
     "w": 12,
     "h": 5
    },
    "deepnote_cell_type": "code"
   },
   "source": "# ¿Que columnas tienen los datos?\ndiabetes.columns",
   "execution_count": 4,
   "outputs": [
    {
     "output_type": "execute_result",
     "execution_count": 4,
     "data": {
      "text/plain": "Index(['Patient number', 'Cholesterol', 'Glucose', 'HDL Chol',\n       'Chol/HDL ratio', 'Age', 'Gender', 'Height', 'Weight', 'BMI',\n       'Systolic BP', 'Diastolic BP', 'waist', 'hip', 'Waist/hip ratio',\n       'Diabetes'],\n      dtype='object')"
     },
     "metadata": {}
    }
   ]
  },
  {
   "cell_type": "code",
   "metadata": {
    "tags": [],
    "cell_id": "00009-5d5dce6e-3777-40a3-bc62-cd82a247b527",
    "deepnote_to_be_reexecuted": false,
    "source_hash": "78f693f8",
    "execution_start": 1643549933943,
    "execution_millis": 3,
    "deepnote_output_heights": [
     21.1875
    ],
    "deepnote_app_coordinates": {
     "x": 0,
     "y": 54,
     "w": 12,
     "h": 5
    },
    "deepnote_cell_type": "code"
   },
   "source": "# ¿Que tamaño tiene el dataset?\ndiabetes.shape",
   "execution_count": 5,
   "outputs": [
    {
     "output_type": "execute_result",
     "execution_count": 5,
     "data": {
      "text/plain": "(390, 16)"
     },
     "metadata": {}
    }
   ]
  },
  {
   "cell_type": "code",
   "metadata": {
    "tags": [],
    "cell_id": "00010-479b99bb-0716-460f-a1f1-60206f4506d4",
    "deepnote_to_be_reexecuted": false,
    "source_hash": "1c64ed54",
    "execution_start": 1643549933944,
    "execution_millis": 3,
    "deepnote_app_coordinates": {
     "x": 0,
     "y": 60,
     "w": 12,
     "h": 5
    },
    "deepnote_cell_type": "code"
   },
   "source": "# ¿Hay datos nulos?\ndiabetes.info()",
   "execution_count": 6,
   "outputs": [
    {
     "name": "stdout",
     "text": "<class 'pandas.core.frame.DataFrame'>\nRangeIndex: 390 entries, 0 to 389\nData columns (total 16 columns):\n #   Column           Non-Null Count  Dtype  \n---  ------           --------------  -----  \n 0   Patient number   390 non-null    int64  \n 1   Cholesterol      390 non-null    int64  \n 2   Glucose          390 non-null    int64  \n 3   HDL Chol         390 non-null    int64  \n 4   Chol/HDL ratio   390 non-null    float64\n 5   Age              390 non-null    int64  \n 6   Gender           390 non-null    object \n 7   Height           390 non-null    int64  \n 8   Weight           390 non-null    int64  \n 9   BMI              390 non-null    float64\n 10  Systolic BP      390 non-null    int64  \n 11  Diastolic BP     390 non-null    int64  \n 12  waist            390 non-null    int64  \n 13  hip              390 non-null    int64  \n 14  Waist/hip ratio  390 non-null    float64\n 15  Diabetes         390 non-null    object \ndtypes: float64(3), int64(11), object(2)\nmemory usage: 48.9+ KB\n",
     "output_type": "stream"
    }
   ]
  },
  {
   "cell_type": "code",
   "metadata": {
    "tags": [],
    "cell_id": "00011-6559cc65-41c1-42b5-8f04-b776d9a297fd",
    "deepnote_to_be_reexecuted": false,
    "source_hash": "a1bd1e3f",
    "execution_start": 1643549933945,
    "execution_millis": 128,
    "deepnote_app_coordinates": {
     "x": 0,
     "y": 66,
     "w": 12,
     "h": 5
    },
    "deepnote_cell_type": "code"
   },
   "source": "# Como se distribuyen las variables numéricas \ndiabetes.describe()",
   "execution_count": 7,
   "outputs": [
    {
     "output_type": "execute_result",
     "execution_count": 7,
     "data": {
      "application/vnd.deepnote.dataframe.v3+json": {
       "column_count": 14,
       "row_count": 8,
       "columns": [
        {
         "name": "Patient number",
         "dtype": "float64",
         "stats": {
          "unique_count": 6,
          "nan_count": 0,
          "min": "1.0",
          "max": "390.0",
          "histogram": [
           {
            "bin_start": 1,
            "bin_end": 39.9,
            "count": 1
           },
           {
            "bin_start": 39.9,
            "bin_end": 78.8,
            "count": 0
           },
           {
            "bin_start": 78.8,
            "bin_end": 117.69999999999999,
            "count": 2
           },
           {
            "bin_start": 117.69999999999999,
            "bin_end": 156.6,
            "count": 0
           },
           {
            "bin_start": 156.6,
            "bin_end": 195.5,
            "count": 0
           },
           {
            "bin_start": 195.5,
            "bin_end": 234.39999999999998,
            "count": 2
           },
           {
            "bin_start": 234.39999999999998,
            "bin_end": 273.3,
            "count": 0
           },
           {
            "bin_start": 273.3,
            "bin_end": 312.2,
            "count": 1
           },
           {
            "bin_start": 312.2,
            "bin_end": 351.09999999999997,
            "count": 0
           },
           {
            "bin_start": 351.09999999999997,
            "bin_end": 390,
            "count": 2
           }
          ]
         }
        },
        {
         "name": "Cholesterol",
         "dtype": "float64",
         "stats": {
          "unique_count": 8,
          "nan_count": 0,
          "min": "44.666005049912904",
          "max": "443.0",
          "histogram": [
           {
            "bin_start": 44.666005049912904,
            "bin_end": 84.49940454492162,
            "count": 2
           },
           {
            "bin_start": 84.49940454492162,
            "bin_end": 124.33280403993032,
            "count": 0
           },
           {
            "bin_start": 124.33280403993032,
            "bin_end": 164.16620353493906,
            "count": 0
           },
           {
            "bin_start": 164.16620353493906,
            "bin_end": 203.99960302994776,
            "count": 2
           },
           {
            "bin_start": 203.99960302994776,
            "bin_end": 243.83300252495647,
            "count": 2
           },
           {
            "bin_start": 243.83300252495647,
            "bin_end": 283.6664020199652,
            "count": 0
           },
           {
            "bin_start": 283.6664020199652,
            "bin_end": 323.49980151497385,
            "count": 0
           },
           {
            "bin_start": 323.49980151497385,
            "bin_end": 363.3332010099826,
            "count": 0
           },
           {
            "bin_start": 363.3332010099826,
            "bin_end": 403.1666005049913,
            "count": 1
           },
           {
            "bin_start": 403.1666005049913,
            "bin_end": 443,
            "count": 1
           }
          ]
         }
        },
        {
         "name": "Glucose",
         "dtype": "float64",
         "stats": {
          "unique_count": 8,
          "nan_count": 0,
          "min": "48.0",
          "max": "390.0",
          "histogram": [
           {
            "bin_start": 48,
            "bin_end": 82.2,
            "count": 3
           },
           {
            "bin_start": 82.2,
            "bin_end": 116.4,
            "count": 3
           },
           {
            "bin_start": 116.4,
            "bin_end": 150.60000000000002,
            "count": 0
           },
           {
            "bin_start": 150.60000000000002,
            "bin_end": 184.8,
            "count": 0
           },
           {
            "bin_start": 184.8,
            "bin_end": 219,
            "count": 0
           },
           {
            "bin_start": 219,
            "bin_end": 253.20000000000002,
            "count": 0
           },
           {
            "bin_start": 253.20000000000002,
            "bin_end": 287.40000000000003,
            "count": 0
           },
           {
            "bin_start": 287.40000000000003,
            "bin_end": 321.6,
            "count": 0
           },
           {
            "bin_start": 321.6,
            "bin_end": 355.8,
            "count": 0
           },
           {
            "bin_start": 355.8,
            "bin_end": 390,
            "count": 2
           }
          ]
         }
        },
        {
         "name": "HDL Chol",
         "dtype": "float64",
         "stats": {
          "unique_count": 8,
          "nan_count": 0,
          "min": "12.0",
          "max": "390.0",
          "histogram": [
           {
            "bin_start": 12,
            "bin_end": 49.8,
            "count": 4
           },
           {
            "bin_start": 49.8,
            "bin_end": 87.6,
            "count": 2
           },
           {
            "bin_start": 87.6,
            "bin_end": 125.39999999999999,
            "count": 1
           },
           {
            "bin_start": 125.39999999999999,
            "bin_end": 163.2,
            "count": 0
           },
           {
            "bin_start": 163.2,
            "bin_end": 201,
            "count": 0
           },
           {
            "bin_start": 201,
            "bin_end": 238.79999999999998,
            "count": 0
           },
           {
            "bin_start": 238.79999999999998,
            "bin_end": 276.59999999999997,
            "count": 0
           },
           {
            "bin_start": 276.59999999999997,
            "bin_end": 314.4,
            "count": 0
           },
           {
            "bin_start": 314.4,
            "bin_end": 352.2,
            "count": 0
           },
           {
            "bin_start": 352.2,
            "bin_end": 390,
            "count": 1
           }
          ]
         }
        },
        {
         "name": "Chol/HDL ratio",
         "dtype": "float64",
         "stats": {
          "unique_count": 8,
          "nan_count": 0,
          "min": "1.5",
          "max": "390.0",
          "histogram": [
           {
            "bin_start": 1.5,
            "bin_end": 40.35,
            "count": 7
           },
           {
            "bin_start": 40.35,
            "bin_end": 79.2,
            "count": 0
           },
           {
            "bin_start": 79.2,
            "bin_end": 118.05000000000001,
            "count": 0
           },
           {
            "bin_start": 118.05000000000001,
            "bin_end": 156.9,
            "count": 0
           },
           {
            "bin_start": 156.9,
            "bin_end": 195.75,
            "count": 0
           },
           {
            "bin_start": 195.75,
            "bin_end": 234.60000000000002,
            "count": 0
           },
           {
            "bin_start": 234.60000000000002,
            "bin_end": 273.45,
            "count": 0
           },
           {
            "bin_start": 273.45,
            "bin_end": 312.3,
            "count": 0
           },
           {
            "bin_start": 312.3,
            "bin_end": 351.15000000000003,
            "count": 0
           },
           {
            "bin_start": 351.15000000000003,
            "bin_end": 390,
            "count": 1
           }
          ]
         }
        },
        {
         "name": "Age",
         "dtype": "float64",
         "stats": {
          "unique_count": 8,
          "nan_count": 0,
          "min": "16.435911493008977",
          "max": "390.0",
          "histogram": [
           {
            "bin_start": 16.435911493008977,
            "bin_end": 53.792320343708084,
            "count": 5
           },
           {
            "bin_start": 53.792320343708084,
            "bin_end": 91.14872919440718,
            "count": 1
           },
           {
            "bin_start": 91.14872919440718,
            "bin_end": 128.5051380451063,
            "count": 1
           },
           {
            "bin_start": 128.5051380451063,
            "bin_end": 165.8615468958054,
            "count": 0
           },
           {
            "bin_start": 165.8615468958054,
            "bin_end": 203.2179557465045,
            "count": 0
           },
           {
            "bin_start": 203.2179557465045,
            "bin_end": 240.5743645972036,
            "count": 0
           },
           {
            "bin_start": 240.5743645972036,
            "bin_end": 277.9307734479027,
            "count": 0
           },
           {
            "bin_start": 277.9307734479027,
            "bin_end": 315.2871822986018,
            "count": 0
           },
           {
            "bin_start": 315.2871822986018,
            "bin_end": 352.6435911493009,
            "count": 0
           },
           {
            "bin_start": 352.6435911493009,
            "bin_end": 390,
            "count": 1
           }
          ]
         }
        },
        {
         "name": "Height",
         "dtype": "float64",
         "stats": {
          "unique_count": 8,
          "nan_count": 0,
          "min": "3.9188668811692025",
          "max": "390.0",
          "histogram": [
           {
            "bin_start": 3.9188668811692025,
            "bin_end": 42.52698019305228,
            "count": 1
           },
           {
            "bin_start": 42.52698019305228,
            "bin_end": 81.13509350493537,
            "count": 6
           },
           {
            "bin_start": 81.13509350493537,
            "bin_end": 119.74320681681846,
            "count": 0
           },
           {
            "bin_start": 119.74320681681846,
            "bin_end": 158.35132012870153,
            "count": 0
           },
           {
            "bin_start": 158.35132012870153,
            "bin_end": 196.9594334405846,
            "count": 0
           },
           {
            "bin_start": 196.9594334405846,
            "bin_end": 235.5675467524677,
            "count": 0
           },
           {
            "bin_start": 235.5675467524677,
            "bin_end": 274.1756600643508,
            "count": 0
           },
           {
            "bin_start": 274.1756600643508,
            "bin_end": 312.78377337623385,
            "count": 0
           },
           {
            "bin_start": 312.78377337623385,
            "bin_end": 351.3918866881169,
            "count": 0
           },
           {
            "bin_start": 351.3918866881169,
            "bin_end": 390,
            "count": 1
           }
          ]
         }
        },
        {
         "name": "Weight",
         "dtype": "float64",
         "stats": {
          "unique_count": 8,
          "nan_count": 0,
          "min": "40.40782385372946",
          "max": "390.0",
          "histogram": [
           {
            "bin_start": 40.40782385372946,
            "bin_end": 75.36704146835652,
            "count": 1
           },
           {
            "bin_start": 75.36704146835652,
            "bin_end": 110.32625908298357,
            "count": 1
           },
           {
            "bin_start": 110.32625908298357,
            "bin_end": 145.28547669761065,
            "count": 0
           },
           {
            "bin_start": 145.28547669761065,
            "bin_end": 180.2446943122377,
            "count": 3
           },
           {
            "bin_start": 180.2446943122377,
            "bin_end": 215.20391192686475,
            "count": 1
           },
           {
            "bin_start": 215.20391192686475,
            "bin_end": 250.16312954149183,
            "count": 0
           },
           {
            "bin_start": 250.16312954149183,
            "bin_end": 285.12234715611885,
            "count": 0
           },
           {
            "bin_start": 285.12234715611885,
            "bin_end": 320.0815647707459,
            "count": 0
           },
           {
            "bin_start": 320.0815647707459,
            "bin_end": 355.04078238537295,
            "count": 1
           },
           {
            "bin_start": 355.04078238537295,
            "bin_end": 390,
            "count": 1
           }
          ]
         }
        },
        {
         "name": "BMI",
         "dtype": "float64",
         "stats": {
          "unique_count": 8,
          "nan_count": 0,
          "min": "6.600914984823921",
          "max": "390.0",
          "histogram": [
           {
            "bin_start": 6.600914984823921,
            "bin_end": 44.94082348634153,
            "count": 6
           },
           {
            "bin_start": 44.94082348634153,
            "bin_end": 83.28073198785913,
            "count": 1
           },
           {
            "bin_start": 83.28073198785913,
            "bin_end": 121.62064048937673,
            "count": 0
           },
           {
            "bin_start": 121.62064048937673,
            "bin_end": 159.96054899089435,
            "count": 0
           },
           {
            "bin_start": 159.96054899089435,
            "bin_end": 198.30045749241197,
            "count": 0
           },
           {
            "bin_start": 198.30045749241197,
            "bin_end": 236.64036599392955,
            "count": 0
           },
           {
            "bin_start": 236.64036599392955,
            "bin_end": 274.9802744954472,
            "count": 0
           },
           {
            "bin_start": 274.9802744954472,
            "bin_end": 313.3201829969648,
            "count": 0
           },
           {
            "bin_start": 313.3201829969648,
            "bin_end": 351.66009149848236,
            "count": 0
           },
           {
            "bin_start": 351.66009149848236,
            "bin_end": 390,
            "count": 1
           }
          ]
         }
        },
        {
         "name": "Systolic BP",
         "dtype": "float64",
         "stats": {
          "unique_count": 8,
          "nan_count": 0,
          "min": "22.85952781657076",
          "max": "390.0",
          "histogram": [
           {
            "bin_start": 22.85952781657076,
            "bin_end": 59.57357503491368,
            "count": 1
           },
           {
            "bin_start": 59.57357503491368,
            "bin_end": 96.2876222532566,
            "count": 1
           },
           {
            "bin_start": 96.2876222532566,
            "bin_end": 133.0016694715995,
            "count": 1
           },
           {
            "bin_start": 133.0016694715995,
            "bin_end": 169.71571668994244,
            "count": 3
           },
           {
            "bin_start": 169.71571668994244,
            "bin_end": 206.42976390828537,
            "count": 0
           },
           {
            "bin_start": 206.42976390828537,
            "bin_end": 243.14381112662826,
            "count": 0
           },
           {
            "bin_start": 243.14381112662826,
            "bin_end": 279.8578583449712,
            "count": 1
           },
           {
            "bin_start": 279.8578583449712,
            "bin_end": 316.5719055633141,
            "count": 0
           },
           {
            "bin_start": 316.5719055633141,
            "bin_end": 353.285952781657,
            "count": 0
           },
           {
            "bin_start": 353.285952781657,
            "bin_end": 390,
            "count": 1
           }
          ]
         }
        },
        {
         "name": "Diastolic BP",
         "dtype": "float64",
         "stats": {
          "unique_count": 8,
          "nan_count": 0,
          "min": "13.498191726400647",
          "max": "390.0",
          "histogram": [
           {
            "bin_start": 13.498191726400647,
            "bin_end": 51.14837255376058,
            "count": 2
           },
           {
            "bin_start": 51.14837255376058,
            "bin_end": 88.79855338112051,
            "count": 3
           },
           {
            "bin_start": 88.79855338112051,
            "bin_end": 126.44873420848045,
            "count": 2
           },
           {
            "bin_start": 126.44873420848045,
            "bin_end": 164.09891503584038,
            "count": 0
           },
           {
            "bin_start": 164.09891503584038,
            "bin_end": 201.7490958632003,
            "count": 0
           },
           {
            "bin_start": 201.7490958632003,
            "bin_end": 239.39927669056024,
            "count": 0
           },
           {
            "bin_start": 239.39927669056024,
            "bin_end": 277.0494575179202,
            "count": 0
           },
           {
            "bin_start": 277.0494575179202,
            "bin_end": 314.6996383452801,
            "count": 0
           },
           {
            "bin_start": 314.6996383452801,
            "bin_end": 352.34981917264,
            "count": 0
           },
           {
            "bin_start": 352.34981917264,
            "bin_end": 390,
            "count": 1
           }
          ]
         }
        },
        {
         "name": "waist",
         "dtype": "float64",
         "stats": {
          "unique_count": 8,
          "nan_count": 0,
          "min": "5.760947055379549",
          "max": "390.0",
          "histogram": [
           {
            "bin_start": 5.760947055379549,
            "bin_end": 44.18485234984159,
            "count": 6
           },
           {
            "bin_start": 44.18485234984159,
            "bin_end": 82.60875764430364,
            "count": 1
           },
           {
            "bin_start": 82.60875764430364,
            "bin_end": 121.03266293876568,
            "count": 0
           },
           {
            "bin_start": 121.03266293876568,
            "bin_end": 159.45656823322773,
            "count": 0
           },
           {
            "bin_start": 159.45656823322773,
            "bin_end": 197.88047352768976,
            "count": 0
           },
           {
            "bin_start": 197.88047352768976,
            "bin_end": 236.30437882215182,
            "count": 0
           },
           {
            "bin_start": 236.30437882215182,
            "bin_end": 274.7282841166139,
            "count": 0
           },
           {
            "bin_start": 274.7282841166139,
            "bin_end": 313.15218941107594,
            "count": 0
           },
           {
            "bin_start": 313.15218941107594,
            "bin_end": 351.57609470553797,
            "count": 0
           },
           {
            "bin_start": 351.57609470553797,
            "bin_end": 390,
            "count": 1
           }
          ]
         }
        },
        {
         "name": "hip",
         "dtype": "float64",
         "stats": {
          "unique_count": 8,
          "nan_count": 0,
          "min": "5.664342290255296",
          "max": "390.0",
          "histogram": [
           {
            "bin_start": 5.664342290255296,
            "bin_end": 44.09790806122977,
            "count": 5
           },
           {
            "bin_start": 44.09790806122977,
            "bin_end": 82.53147383220423,
            "count": 2
           },
           {
            "bin_start": 82.53147383220423,
            "bin_end": 120.9650396031787,
            "count": 0
           },
           {
            "bin_start": 120.9650396031787,
            "bin_end": 159.39860537415316,
            "count": 0
           },
           {
            "bin_start": 159.39860537415316,
            "bin_end": 197.83217114512763,
            "count": 0
           },
           {
            "bin_start": 197.83217114512763,
            "bin_end": 236.2657369161021,
            "count": 0
           },
           {
            "bin_start": 236.2657369161021,
            "bin_end": 274.69930268707657,
            "count": 0
           },
           {
            "bin_start": 274.69930268707657,
            "bin_end": 313.13286845805106,
            "count": 0
           },
           {
            "bin_start": 313.13286845805106,
            "bin_end": 351.56643422902556,
            "count": 0
           },
           {
            "bin_start": 351.56643422902556,
            "bin_end": 390,
            "count": 1
           }
          ]
         }
        },
        {
         "name": "Waist/hip ratio",
         "dtype": "float64",
         "stats": {
          "unique_count": 8,
          "nan_count": 0,
          "min": "0.07321223695060713",
          "max": "390.0",
          "histogram": [
           {
            "bin_start": 0.07321223695060713,
            "bin_end": 39.06589101325555,
            "count": 7
           },
           {
            "bin_start": 39.06589101325555,
            "bin_end": 78.0585697895605,
            "count": 0
           },
           {
            "bin_start": 78.0585697895605,
            "bin_end": 117.05124856586544,
            "count": 0
           },
           {
            "bin_start": 117.05124856586544,
            "bin_end": 156.04392734217038,
            "count": 0
           },
           {
            "bin_start": 156.04392734217038,
            "bin_end": 195.03660611847533,
            "count": 0
           },
           {
            "bin_start": 195.03660611847533,
            "bin_end": 234.02928489478026,
            "count": 0
           },
           {
            "bin_start": 234.02928489478026,
            "bin_end": 273.0219636710852,
            "count": 0
           },
           {
            "bin_start": 273.0219636710852,
            "bin_end": 312.01464244739014,
            "count": 0
           },
           {
            "bin_start": 312.01464244739014,
            "bin_end": 351.0073212236951,
            "count": 0
           },
           {
            "bin_start": 351.0073212236951,
            "bin_end": 390,
            "count": 1
           }
          ]
         }
        },
        {
         "name": "_deepnote_index_column",
         "dtype": "object"
        }
       ],
       "rows": [
        {
         "Patient number": 390,
         "Cholesterol": 390,
         "Glucose": 390,
         "HDL Chol": 390,
         "Chol/HDL ratio": 390,
         "Age": 390,
         "Height": 390,
         "Weight": 390,
         "BMI": 390,
         "Systolic BP": 390,
         "Diastolic BP": 390,
         "waist": 390,
         "hip": 390,
         "Waist/hip ratio": 390,
         "_deepnote_index_column": "count"
        },
        {
         "Patient number": 195.5,
         "Cholesterol": 207.23076923076923,
         "Glucose": 107.33846153846154,
         "HDL Chol": 50.266666666666666,
         "Chol/HDL ratio": 4.524615384615385,
         "Age": 46.774358974358975,
         "Height": 65.95128205128205,
         "Weight": 177.40769230769232,
         "BMI": 28.775641025641026,
         "Systolic BP": 137.13333333333333,
         "Diastolic BP": 83.2897435897436,
         "waist": 37.86923076923077,
         "hip": 42.99230769230769,
         "Waist/hip ratio": 0.8813846153846154,
         "_deepnote_index_column": "mean"
        },
        {
         "Patient number": 112.72754765362369,
         "Cholesterol": 44.666005049912904,
         "Glucose": 53.798188133711704,
         "HDL Chol": 17.2790693678118,
         "Chol/HDL ratio": 1.7366336347237168,
         "Age": 16.435911493008977,
         "Height": 3.9188668811692025,
         "Weight": 40.40782385372946,
         "BMI": 6.600914984823921,
         "Systolic BP": 22.85952781657076,
         "Diastolic BP": 13.498191726400647,
         "waist": 5.760947055379549,
         "hip": 5.664342290255296,
         "Waist/hip ratio": 0.07321223695060713,
         "_deepnote_index_column": "std"
        },
        {
         "Patient number": 1,
         "Cholesterol": 78,
         "Glucose": 48,
         "HDL Chol": 12,
         "Chol/HDL ratio": 1.5,
         "Age": 19,
         "Height": 52,
         "Weight": 99,
         "BMI": 15.2,
         "Systolic BP": 90,
         "Diastolic BP": 48,
         "waist": 26,
         "hip": 30,
         "Waist/hip ratio": 0.68,
         "_deepnote_index_column": "min"
        },
        {
         "Patient number": 98.25,
         "Cholesterol": 179,
         "Glucose": 81,
         "HDL Chol": 38,
         "Chol/HDL ratio": 3.2,
         "Age": 34,
         "Height": 63,
         "Weight": 150.25,
         "BMI": 24.1,
         "Systolic BP": 122,
         "Diastolic BP": 75,
         "waist": 33,
         "hip": 39,
         "Waist/hip ratio": 0.83,
         "_deepnote_index_column": "25%"
        },
        {
         "Patient number": 195.5,
         "Cholesterol": 203,
         "Glucose": 90,
         "HDL Chol": 46,
         "Chol/HDL ratio": 4.2,
         "Age": 44.5,
         "Height": 66,
         "Weight": 173,
         "BMI": 27.8,
         "Systolic BP": 136,
         "Diastolic BP": 82,
         "waist": 37,
         "hip": 42,
         "Waist/hip ratio": 0.88,
         "_deepnote_index_column": "50%"
        },
        {
         "Patient number": 292.75,
         "Cholesterol": 229,
         "Glucose": 107.75,
         "HDL Chol": 59,
         "Chol/HDL ratio": 5.4,
         "Age": 60,
         "Height": 69,
         "Weight": 200,
         "BMI": 32.275,
         "Systolic BP": 148,
         "Diastolic BP": 90,
         "waist": 41,
         "hip": 46,
         "Waist/hip ratio": 0.93,
         "_deepnote_index_column": "75%"
        },
        {
         "Patient number": 390,
         "Cholesterol": 443,
         "Glucose": 385,
         "HDL Chol": 120,
         "Chol/HDL ratio": 19.3,
         "Age": 92,
         "Height": 76,
         "Weight": 325,
         "BMI": 55.8,
         "Systolic BP": 250,
         "Diastolic BP": 124,
         "waist": 56,
         "hip": 64,
         "Waist/hip ratio": 1.14,
         "_deepnote_index_column": "max"
        }
       ]
      },
      "text/plain": "       Patient number  Cholesterol     Glucose    HDL Chol  Chol/HDL ratio  \\\ncount      390.000000   390.000000  390.000000  390.000000      390.000000   \nmean       195.500000   207.230769  107.338462   50.266667        4.524615   \nstd        112.727548    44.666005   53.798188   17.279069        1.736634   \nmin          1.000000    78.000000   48.000000   12.000000        1.500000   \n25%         98.250000   179.000000   81.000000   38.000000        3.200000   \n50%        195.500000   203.000000   90.000000   46.000000        4.200000   \n75%        292.750000   229.000000  107.750000   59.000000        5.400000   \nmax        390.000000   443.000000  385.000000  120.000000       19.300000   \n\n              Age      Height      Weight         BMI  Systolic BP  \\\ncount  390.000000  390.000000  390.000000  390.000000   390.000000   \nmean    46.774359   65.951282  177.407692   28.775641   137.133333   \nstd     16.435911    3.918867   40.407824    6.600915    22.859528   \nmin     19.000000   52.000000   99.000000   15.200000    90.000000   \n25%     34.000000   63.000000  150.250000   24.100000   122.000000   \n50%     44.500000   66.000000  173.000000   27.800000   136.000000   \n75%     60.000000   69.000000  200.000000   32.275000   148.000000   \nmax     92.000000   76.000000  325.000000   55.800000   250.000000   \n\n       Diastolic BP       waist         hip  Waist/hip ratio  \ncount    390.000000  390.000000  390.000000       390.000000  \nmean      83.289744   37.869231   42.992308         0.881385  \nstd       13.498192    5.760947    5.664342         0.073212  \nmin       48.000000   26.000000   30.000000         0.680000  \n25%       75.000000   33.000000   39.000000         0.830000  \n50%       82.000000   37.000000   42.000000         0.880000  \n75%       90.000000   41.000000   46.000000         0.930000  \nmax      124.000000   56.000000   64.000000         1.140000  ",
      "text/html": "<div>\n<style scoped>\n    .dataframe tbody tr th:only-of-type {\n        vertical-align: middle;\n    }\n\n    .dataframe tbody tr th {\n        vertical-align: top;\n    }\n\n    .dataframe thead th {\n        text-align: right;\n    }\n</style>\n<table border=\"1\" class=\"dataframe\">\n  <thead>\n    <tr style=\"text-align: right;\">\n      <th></th>\n      <th>Patient number</th>\n      <th>Cholesterol</th>\n      <th>Glucose</th>\n      <th>HDL Chol</th>\n      <th>Chol/HDL ratio</th>\n      <th>Age</th>\n      <th>Height</th>\n      <th>Weight</th>\n      <th>BMI</th>\n      <th>Systolic BP</th>\n      <th>Diastolic BP</th>\n      <th>waist</th>\n      <th>hip</th>\n      <th>Waist/hip ratio</th>\n    </tr>\n  </thead>\n  <tbody>\n    <tr>\n      <th>count</th>\n      <td>390.000000</td>\n      <td>390.000000</td>\n      <td>390.000000</td>\n      <td>390.000000</td>\n      <td>390.000000</td>\n      <td>390.000000</td>\n      <td>390.000000</td>\n      <td>390.000000</td>\n      <td>390.000000</td>\n      <td>390.000000</td>\n      <td>390.000000</td>\n      <td>390.000000</td>\n      <td>390.000000</td>\n      <td>390.000000</td>\n    </tr>\n    <tr>\n      <th>mean</th>\n      <td>195.500000</td>\n      <td>207.230769</td>\n      <td>107.338462</td>\n      <td>50.266667</td>\n      <td>4.524615</td>\n      <td>46.774359</td>\n      <td>65.951282</td>\n      <td>177.407692</td>\n      <td>28.775641</td>\n      <td>137.133333</td>\n      <td>83.289744</td>\n      <td>37.869231</td>\n      <td>42.992308</td>\n      <td>0.881385</td>\n    </tr>\n    <tr>\n      <th>std</th>\n      <td>112.727548</td>\n      <td>44.666005</td>\n      <td>53.798188</td>\n      <td>17.279069</td>\n      <td>1.736634</td>\n      <td>16.435911</td>\n      <td>3.918867</td>\n      <td>40.407824</td>\n      <td>6.600915</td>\n      <td>22.859528</td>\n      <td>13.498192</td>\n      <td>5.760947</td>\n      <td>5.664342</td>\n      <td>0.073212</td>\n    </tr>\n    <tr>\n      <th>min</th>\n      <td>1.000000</td>\n      <td>78.000000</td>\n      <td>48.000000</td>\n      <td>12.000000</td>\n      <td>1.500000</td>\n      <td>19.000000</td>\n      <td>52.000000</td>\n      <td>99.000000</td>\n      <td>15.200000</td>\n      <td>90.000000</td>\n      <td>48.000000</td>\n      <td>26.000000</td>\n      <td>30.000000</td>\n      <td>0.680000</td>\n    </tr>\n    <tr>\n      <th>25%</th>\n      <td>98.250000</td>\n      <td>179.000000</td>\n      <td>81.000000</td>\n      <td>38.000000</td>\n      <td>3.200000</td>\n      <td>34.000000</td>\n      <td>63.000000</td>\n      <td>150.250000</td>\n      <td>24.100000</td>\n      <td>122.000000</td>\n      <td>75.000000</td>\n      <td>33.000000</td>\n      <td>39.000000</td>\n      <td>0.830000</td>\n    </tr>\n    <tr>\n      <th>50%</th>\n      <td>195.500000</td>\n      <td>203.000000</td>\n      <td>90.000000</td>\n      <td>46.000000</td>\n      <td>4.200000</td>\n      <td>44.500000</td>\n      <td>66.000000</td>\n      <td>173.000000</td>\n      <td>27.800000</td>\n      <td>136.000000</td>\n      <td>82.000000</td>\n      <td>37.000000</td>\n      <td>42.000000</td>\n      <td>0.880000</td>\n    </tr>\n    <tr>\n      <th>75%</th>\n      <td>292.750000</td>\n      <td>229.000000</td>\n      <td>107.750000</td>\n      <td>59.000000</td>\n      <td>5.400000</td>\n      <td>60.000000</td>\n      <td>69.000000</td>\n      <td>200.000000</td>\n      <td>32.275000</td>\n      <td>148.000000</td>\n      <td>90.000000</td>\n      <td>41.000000</td>\n      <td>46.000000</td>\n      <td>0.930000</td>\n    </tr>\n    <tr>\n      <th>max</th>\n      <td>390.000000</td>\n      <td>443.000000</td>\n      <td>385.000000</td>\n      <td>120.000000</td>\n      <td>19.300000</td>\n      <td>92.000000</td>\n      <td>76.000000</td>\n      <td>325.000000</td>\n      <td>55.800000</td>\n      <td>250.000000</td>\n      <td>124.000000</td>\n      <td>56.000000</td>\n      <td>64.000000</td>\n      <td>1.140000</td>\n    </tr>\n  </tbody>\n</table>\n</div>"
     },
     "metadata": {}
    }
   ]
  },
  {
   "cell_type": "code",
   "metadata": {
    "tags": [],
    "cell_id": "00011-0f2efb13-a601-49ee-a73f-ea85aaf1485e",
    "deepnote_to_be_reexecuted": false,
    "source_hash": "8272d436",
    "execution_start": 1643549934076,
    "execution_millis": 48,
    "deepnote_app_coordinates": {
     "x": 0,
     "y": 72,
     "w": 12,
     "h": 5
    },
    "deepnote_cell_type": "code"
   },
   "source": "# ¿Como se comportan las variables categoricas?\ndiabetes.describe(include=[\"O\"])",
   "execution_count": 8,
   "outputs": [
    {
     "output_type": "execute_result",
     "execution_count": 8,
     "data": {
      "application/vnd.deepnote.dataframe.v3+json": {
       "column_count": 2,
       "row_count": 4,
       "columns": [
        {
         "name": "Gender",
         "dtype": "object",
         "stats": {
          "unique_count": 4,
          "nan_count": 0,
          "categories": [
           {
            "name": "390",
            "count": 1
           },
           {
            "name": "2",
            "count": 1
           },
           {
            "name": "2 others",
            "count": 2
           }
          ]
         }
        },
        {
         "name": "Diabetes",
         "dtype": "object",
         "stats": {
          "unique_count": 4,
          "nan_count": 0,
          "categories": [
           {
            "name": "390",
            "count": 1
           },
           {
            "name": "2",
            "count": 1
           },
           {
            "name": "2 others",
            "count": 2
           }
          ]
         }
        },
        {
         "name": "_deepnote_index_column",
         "dtype": "object"
        }
       ],
       "rows": [
        {
         "Gender": "390",
         "Diabetes": "390",
         "_deepnote_index_column": "count"
        },
        {
         "Gender": "2",
         "Diabetes": "2",
         "_deepnote_index_column": "unique"
        },
        {
         "Gender": "female",
         "Diabetes": "No diabetes",
         "_deepnote_index_column": "top"
        },
        {
         "Gender": "228",
         "Diabetes": "330",
         "_deepnote_index_column": "freq"
        }
       ]
      },
      "text/plain": "        Gender     Diabetes\ncount      390          390\nunique       2            2\ntop     female  No diabetes\nfreq       228          330",
      "text/html": "<div>\n<style scoped>\n    .dataframe tbody tr th:only-of-type {\n        vertical-align: middle;\n    }\n\n    .dataframe tbody tr th {\n        vertical-align: top;\n    }\n\n    .dataframe thead th {\n        text-align: right;\n    }\n</style>\n<table border=\"1\" class=\"dataframe\">\n  <thead>\n    <tr style=\"text-align: right;\">\n      <th></th>\n      <th>Gender</th>\n      <th>Diabetes</th>\n    </tr>\n  </thead>\n  <tbody>\n    <tr>\n      <th>count</th>\n      <td>390</td>\n      <td>390</td>\n    </tr>\n    <tr>\n      <th>unique</th>\n      <td>2</td>\n      <td>2</td>\n    </tr>\n    <tr>\n      <th>top</th>\n      <td>female</td>\n      <td>No diabetes</td>\n    </tr>\n    <tr>\n      <th>freq</th>\n      <td>228</td>\n      <td>330</td>\n    </tr>\n  </tbody>\n</table>\n</div>"
     },
     "metadata": {}
    }
   ]
  },
  {
   "cell_type": "markdown",
   "source": "### 3.1 Procesamiento de datos",
   "metadata": {
    "tags": [],
    "cell_id": "00013-cba962d2-df30-4e3e-900a-96b4c4b7143d",
    "deepnote_app_coordinates": {
     "x": 0,
     "y": 78,
     "w": 12,
     "h": 5
    },
    "deepnote_cell_type": "markdown"
   }
  },
  {
   "cell_type": "code",
   "metadata": {
    "tags": [],
    "cell_id": "00012-de3acedf-5403-45af-ab48-817057918770",
    "deepnote_to_be_reexecuted": false,
    "source_hash": "89c5ed2d",
    "execution_start": 1643549934113,
    "execution_millis": 5,
    "deepnote_app_coordinates": {
     "x": 0,
     "y": 84,
     "w": 12,
     "h": 5
    },
    "deepnote_cell_type": "code"
   },
   "source": "# Renombramos algunas columnas\ndiabetes = diabetes.rename(columns={\"Cholesterol\":\"Colesterol\",\n                                    \"Glucose\":\"Glucosa\",\n                                    \"HDL Chol\": \"HDL colesterol\",\n                                    \"Age\":\"Edad\",\n                                    \"Gender\":\"Género\",\n                                    \"Height\":\"Altura\",\n                                    \"Weight\":\"Peso\",\n                                    \"Systolic BP\":\"Presión arterial alta\",\n                                    \"Diastolic BP\": \"Presión arterial baja\",\n                                    \"waist\":\"Cintura\",\n                                    \"hip\":\"Cadera\"})",
   "execution_count": 9,
   "outputs": []
  },
  {
   "cell_type": "code",
   "metadata": {
    "tags": [],
    "cell_id": "00013-74911b90-8354-4edb-98f7-39883e51fcbc",
    "deepnote_to_be_reexecuted": false,
    "source_hash": "31a90e6e",
    "execution_start": 1643549934121,
    "execution_millis": 365,
    "deepnote_output_heights": [
     97.9375
    ],
    "deepnote_app_coordinates": {
     "x": 0,
     "y": 90,
     "w": 12,
     "h": 5
    },
    "deepnote_cell_type": "code"
   },
   "source": "# Observamos el cambio de los nombres de las columnas\ndiabetes.columns",
   "execution_count": 10,
   "outputs": [
    {
     "output_type": "execute_result",
     "execution_count": 10,
     "data": {
      "text/plain": "Index(['Patient number', 'Colesterol', 'Glucosa', 'HDL colesterol',\n       'Chol/HDL ratio', 'Edad', 'Género', 'Altura', 'Peso', 'BMI',\n       'Presión arterial alta', 'Presión arterial baja', 'Cintura', 'Cadera',\n       'Waist/hip ratio', 'Diabetes'],\n      dtype='object')"
     },
     "metadata": {}
    }
   ]
  },
  {
   "cell_type": "code",
   "metadata": {
    "tags": [],
    "cell_id": "00015-900ecf17-af76-4fa9-9a2c-c19610f61d60",
    "deepnote_to_be_reexecuted": false,
    "source_hash": "f932f8c",
    "execution_start": 1643549934130,
    "execution_millis": 5,
    "deepnote_app_coordinates": {
     "x": 0,
     "y": 96,
     "w": 12,
     "h": 5
    },
    "deepnote_cell_type": "code"
   },
   "source": "# Procedemos a eliminar columnas\ndiabetes = diabetes.drop([\"Patient number\",\n                          \"Chol/HDL ratio\",\n                          \"BMI\",\n                          \"Waist/hip ratio\"], axis = 1)",
   "execution_count": 11,
   "outputs": []
  },
  {
   "cell_type": "markdown",
   "source": "### 3.2 Estudio de la variable diabetes",
   "metadata": {
    "tags": [],
    "cell_id": "00017-3ffe93eb-d48c-4409-86b9-2e65ed11f3ff",
    "deepnote_app_coordinates": {
     "x": 0,
     "y": 102,
     "w": 12,
     "h": 5
    },
    "deepnote_cell_type": "markdown"
   }
  },
  {
   "cell_type": "code",
   "metadata": {
    "tags": [],
    "cell_id": "00012-b6aa5ebf-731e-44c2-bbea-c2a60bad7f32",
    "deepnote_to_be_reexecuted": false,
    "source_hash": "8cdb5eed",
    "execution_start": 1643549934182,
    "execution_millis": 308,
    "deepnote_output_heights": [
     null,
     335
    ],
    "deepnote_app_coordinates": {
     "x": 0,
     "y": 108,
     "w": 12,
     "h": 5
    },
    "deepnote_cell_type": "code"
   },
   "source": "# Gráficamos la variable dependiente\nplt.figure(figsize=(8,5))\nsns.countplot(diabetes['Diabetes'])\nplt.title(\"Personas con o sin diabetes\")\nplt.xlabel(\"Diabetes\")\nplt.show()",
   "execution_count": 12,
   "outputs": [
    {
     "name": "stderr",
     "text": "/shared-libs/python3.9/py/lib/python3.9/site-packages/seaborn/_decorators.py:36: FutureWarning: Pass the following variable as a keyword arg: x. From version 0.12, the only valid positional argument will be `data`, and passing other arguments without an explicit keyword will result in an error or misinterpretation.\n  warnings.warn(\n",
     "output_type": "stream"
    },
    {
     "data": {
      "text/plain": "<Figure size 576x360 with 1 Axes>",
      "image/png": "[encoded data removed]"
     },
     "metadata": {
      "needs_background": "light",
      "image/png": {
       "width": 500,
       "height": 333
      }
     },
     "output_type": "display_data"
    }
   ]
  },
  {
   "cell_type": "code",
   "metadata": {
    "tags": [],
    "cell_id": "00020-ec05e2f7-c942-4851-9adc-d4ebedfe11fe",
    "deepnote_to_be_reexecuted": false,
    "source_hash": "c96bd99e",
    "execution_start": 1643549934385,
    "execution_millis": 298,
    "deepnote_output_heights": [
     335
    ],
    "deepnote_app_coordinates": {
     "x": 0,
     "y": 114,
     "w": 12,
     "h": 5
    },
    "deepnote_cell_type": "code"
   },
   "source": "# Edad en función del género\nplt.figure(figsize=(8,5))\nsns.barplot(data = diabetes, x = \"Diabetes\", y = \"Edad\", \n            hue = \"Género\", palette = \"rocket\", ci = None)\nplt.title(\"Edad en función del género\")\nplt.xlabel(\"Diabetes\")\nplt.ylabel(\"Edad\")\nplt.show()",
   "execution_count": 13,
   "outputs": [
    {
     "data": {
      "text/plain": "<Figure size 576x360 with 1 Axes>",
      "image/png": "[encoded data removed]"
     },
     "metadata": {
      "needs_background": "light",
      "image/png": {
       "width": 494,
       "height": 333
      }
     },
     "output_type": "display_data"
    }
   ]
  },
  {
   "cell_type": "code",
   "metadata": {
    "tags": [],
    "cell_id": "00021-4b89d8e6-15c7-4dda-abda-32b4a19d132c",
    "deepnote_to_be_reexecuted": false,
    "source_hash": "28aa3391",
    "execution_start": 1643549934718,
    "execution_millis": 200,
    "deepnote_output_heights": [
     335
    ],
    "deepnote_app_coordinates": {
     "x": 0,
     "y": 120,
     "w": 12,
     "h": 5
    },
    "deepnote_cell_type": "code"
   },
   "source": "# Colesterol en función del género\nplt.figure(figsize=(8,5))\nsns.barplot(data = diabetes, x = \"Diabetes\", y = \"Colesterol\", \n            hue = \"Género\", palette = \"crest\", ci = None)\nplt.title(\"Colesterol en función del género\")\nplt.xlabel(\"Diabetes\")\nplt.ylabel(\"Colesterol\")\nplt.show()",
   "execution_count": 14,
   "outputs": [
    {
     "data": {
      "text/plain": "<Figure size 576x360 with 1 Axes>",
      "image/png": "[encoded data removed]"
     },
     "metadata": {
      "needs_background": "light",
      "image/png": {
       "width": 500,
       "height": 333
      }
     },
     "output_type": "display_data"
    }
   ]
  },
  {
   "cell_type": "code",
   "metadata": {
    "tags": [],
    "cell_id": "00018-c90d4bfd-26ac-4b4d-9121-3b9247bfc0d8",
    "deepnote_to_be_reexecuted": false,
    "source_hash": "18a262ee",
    "execution_start": 1643549934925,
    "execution_millis": 211,
    "deepnote_output_heights": [
     335
    ],
    "deepnote_app_coordinates": {
     "x": 0,
     "y": 126,
     "w": 12,
     "h": 5
    },
    "deepnote_cell_type": "code"
   },
   "source": "# Glucosa en función del género\nplt.figure(figsize=(8,5))\nsns.barplot(data = diabetes, x = \"Diabetes\", y = \"Glucosa\", \n            hue = \"Género\", palette = \"magma\", ci = None)\nplt.title(\"Glucosa en función del género\")\nplt.xlabel(\"Diabetes\")\nplt.ylabel(\"Glucosa\")\nplt.show()",
   "execution_count": 15,
   "outputs": [
    {
     "data": {
      "text/plain": "<Figure size 576x360 with 1 Axes>",
      "image/png": "[encoded data removed]"
     },
     "metadata": {
      "needs_background": "light",
      "image/png": {
       "width": 500,
       "height": 333
      }
     },
     "output_type": "display_data"
    }
   ]
  },
  {
   "cell_type": "code",
   "metadata": {
    "tags": [],
    "cell_id": "00019-dbb2a922-c549-434d-beb8-915bf2b30adf",
    "deepnote_to_be_reexecuted": false,
    "source_hash": "a83ec70f",
    "execution_start": 1643549935186,
    "execution_millis": 207,
    "deepnote_output_heights": [
     335
    ],
    "deepnote_app_coordinates": {
     "x": 0,
     "y": 132,
     "w": 12,
     "h": 5
    },
    "deepnote_cell_type": "code"
   },
   "source": "# HDL colesterol en función del género\nplt.figure(figsize=(8,5))\nsns.barplot(data = diabetes, x = \"Diabetes\", y = \"HDL colesterol\", \n            hue = \"Género\", palette = \"cubehelix\", ci = None)\nplt.title(\"HDL colesterol en función del género\")\nplt.xlabel(\"Diabetes\")\nplt.ylabel(\"HDL colesterol\")\nplt.show()",
   "execution_count": 16,
   "outputs": [
    {
     "data": {
      "text/plain": "<Figure size 576x360 with 1 Axes>",
      "image/png": "[encoded data removed]"
     },
     "metadata": {
      "needs_background": "light",
      "image/png": {
       "width": 494,
       "height": 333
      }
     },
     "output_type": "display_data"
    }
   ]
  },
  {
   "cell_type": "code",
   "metadata": {
    "tags": [],
    "cell_id": "00020-9b282082-0555-4ace-879f-2b007280c066",
    "deepnote_to_be_reexecuted": false,
    "source_hash": "8b237d7",
    "execution_start": 1643549935399,
    "execution_millis": 264,
    "deepnote_output_heights": [
     335
    ],
    "deepnote_app_coordinates": {
     "x": 0,
     "y": 138,
     "w": 12,
     "h": 5
    },
    "deepnote_cell_type": "code"
   },
   "source": "# Peso en función del género\nplt.figure(figsize=(8,5))\nsns.barplot(data = diabetes, x = \"Diabetes\", y = \"Peso\", \n            hue = \"Género\", palette = \"YlOrBr\", ci = None)\nplt.title(\"Peso en función del género\")\nplt.xlabel(\"Diabetes\")\nplt.ylabel(\"Peso\")\nplt.show()",
   "execution_count": 17,
   "outputs": [
    {
     "data": {
      "text/plain": "<Figure size 576x360 with 1 Axes>",
      "image/png": "[encoded data removed]"
     },
     "metadata": {
      "needs_background": "light",
      "image/png": {
       "width": 500,
       "height": 333
      }
     },
     "output_type": "display_data"
    }
   ]
  },
  {
   "cell_type": "markdown",
   "source": "### 4. Tratamiento de los datos para modelación\nA continuación convertimos la variable diabletes en dummy para posteriomente crear el modelo de clasificación.",
   "metadata": {
    "tags": [],
    "cell_id": "00022-620ac346-368d-4c5c-82da-7d2ec80a5a80",
    "deepnote_app_coordinates": {
     "x": 0,
     "y": 144,
     "w": 12,
     "h": 5
    },
    "deepnote_cell_type": "markdown"
   }
  },
  {
   "cell_type": "code",
   "metadata": {
    "tags": [],
    "cell_id": "00025-d9ca54a9-72b6-447c-b536-27bd8a7969e5",
    "deepnote_to_be_reexecuted": false,
    "source_hash": "d6693655",
    "execution_start": 1643549935671,
    "execution_millis": 4,
    "deepnote_app_coordinates": {
     "x": 0,
     "y": 150,
     "w": 12,
     "h": 5
    },
    "deepnote_cell_type": "code"
   },
   "source": "# Creación de la variable dummy\ndiabetes[\"Diabetes\"] = diabetes.Diabetes.map({\"No diabetes\":0,\n                                              \"Diabetes\":1})\ndiabetes[\"Género\"] = diabetes.Género.map({\"female\":0,\n                                          \"male\":1})\n",
   "execution_count": 18,
   "outputs": []
  },
  {
   "cell_type": "code",
   "metadata": {
    "tags": [],
    "cell_id": "00026-bec50bce-b84d-4663-b140-c528c678b7b7",
    "deepnote_to_be_reexecuted": false,
    "source_hash": "3e4dd807",
    "execution_start": 1643549935690,
    "execution_millis": 7,
    "deepnote_output_heights": [
     59
    ],
    "deepnote_app_coordinates": {
     "x": 0,
     "y": 156,
     "w": 12,
     "h": 5
    },
    "deepnote_cell_type": "code"
   },
   "source": "# Observamos nuevamente la información de nuestras variables\ndiabetes.info()",
   "execution_count": 19,
   "outputs": [
    {
     "name": "stdout",
     "text": "<class 'pandas.core.frame.DataFrame'>\nRangeIndex: 390 entries, 0 to 389\nData columns (total 12 columns):\n #   Column                 Non-Null Count  Dtype\n---  ------                 --------------  -----\n 0   Colesterol             390 non-null    int64\n 1   Glucosa                390 non-null    int64\n 2   HDL colesterol         390 non-null    int64\n 3   Edad                   390 non-null    int64\n 4   Género                 390 non-null    int64\n 5   Altura                 390 non-null    int64\n 6   Peso                   390 non-null    int64\n 7   Presión arterial alta  390 non-null    int64\n 8   Presión arterial baja  390 non-null    int64\n 9   Cintura                390 non-null    int64\n 10  Cadera                 390 non-null    int64\n 11  Diabetes               390 non-null    int64\ndtypes: int64(12)\nmemory usage: 36.7 KB\n",
     "output_type": "stream"
    }
   ]
  },
  {
   "cell_type": "code",
   "metadata": {
    "tags": [],
    "cell_id": "00027-c06ed950-63d8-429c-88d5-09d9a8ab0cc1",
    "deepnote_to_be_reexecuted": false,
    "source_hash": "732e375d",
    "execution_start": 1643549935817,
    "execution_millis": 1525,
    "deepnote_output_heights": [
     611
    ],
    "deepnote_app_coordinates": {
     "x": 0,
     "y": 168,
     "w": 12,
     "h": 5
    },
    "deepnote_cell_type": "code"
   },
   "source": "# Gráfica de matriz de correlación\nplt.figure(figsize=(15,15))\nsns.heatmap(diabetes.corr(),annot=True, linewidths=.3, fmt= '.1f', vmax = 0.9, square= True)\nplt.title(\"Matriz de correlación de Pearson\")\nplt.show()\n",
   "execution_count": 21,
   "outputs": [
    {
     "data": {
      "text/plain": "<Figure size 1080x1080 with 2 Axes>",
      "image/png": "[encoded data removed]"
     },
     "metadata": {
      "needs_background": "light",
      "image/png": {
       "width": 905,
       "height": 864
      }
     },
     "output_type": "display_data"
    }
   ]
  },
  {
   "cell_type": "markdown",
   "source": "### 5. Modelos de clasificación con scikit-learn\nEn esta sección vamos a crear 4 algoritmos de clasificación con la libreria scikit-learn como lo son arboles de decisión, bosques aleatorios, regresión logística y máquinas de vectores de soporte.",
   "metadata": {
    "tags": [],
    "cell_id": "00029-1eeb4beb-df49-4d14-9bea-7422ae213305",
    "deepnote_app_coordinates": {
     "x": 0,
     "y": 174,
     "w": 12,
     "h": 5
    },
    "deepnote_cell_type": "markdown"
   }
  },
  {
   "cell_type": "code",
   "metadata": {
    "tags": [],
    "cell_id": "00030-b493767b-5ca3-4141-80be-78f7f45dc0ee",
    "deepnote_to_be_reexecuted": false,
    "source_hash": "988ac958",
    "execution_start": 1643549937347,
    "execution_millis": 5,
    "deepnote_app_coordinates": {
     "x": 0,
     "y": 180,
     "w": 12,
     "h": 5
    },
    "deepnote_cell_type": "code"
   },
   "source": "# Creamos nuestra varible dependiente y independientes\nX = diabetes.drop([\"Diabetes\"],axis=1) # Varibles independientes o explicativas\nY = diabetes[\"Diabetes\"] # Variable dependiente en este caso si tiene o no diabetes",
   "execution_count": 22,
   "outputs": []
  },
  {
   "cell_type": "code",
   "metadata": {
    "tags": [],
    "cell_id": "00031-d6d44c92-4e09-4cb0-859b-d70300bd57e2",
    "deepnote_to_be_reexecuted": false,
    "source_hash": "60ded688",
    "execution_start": 1643549937357,
    "execution_millis": 4,
    "deepnote_app_coordinates": {
     "x": 0,
     "y": 186,
     "w": 12,
     "h": 5
    },
    "deepnote_cell_type": "code"
   },
   "source": "# Dividimos nuestros datos\nX_train, X_test, y_train, y_test = train_test_split(X, Y, test_size= 0.2, random_state= 0)",
   "execution_count": 23,
   "outputs": []
  },
  {
   "cell_type": "markdown",
   "source": "### 5.1 Arboles de decisión\n",
   "metadata": {
    "tags": [],
    "deepnote_app_coordinates": {
     "x": 0,
     "y": 0,
     "w": 12,
     "h": 5
    },
    "cell_id": "00036-608a14fb-ee29-4b4b-bbdd-a18b2d71723f",
    "deepnote_cell_type": "markdown"
   }
  },
  {
   "cell_type": "code",
   "source": "# Procedemos a aplicar nuestro algoritmo\narbol_decisión = DecisionTreeClassifier(criterion= \"entropy\")\narbol_decisión.fit(X_train, y_train) # Ejecución del modelo\nY_pred_arbol = arbol_decisión.predict(X_test)",
   "metadata": {
    "cell_id": "9a8070c1-4c9f-49ef-b2d6-deb9e9d90936",
    "tags": [],
    "deepnote_app_coordinates": {
     "x": 0,
     "y": 0,
     "w": 12,
     "h": 5
    },
    "deepnote_to_be_reexecuted": false,
    "source_hash": "c533d7a5",
    "execution_start": 1643550265874,
    "execution_millis": 1,
    "deepnote_cell_type": "code"
   },
   "outputs": [],
   "execution_count": 30
  },
  {
   "cell_type": "code",
   "source": "# Creamos la matriz de confusión \nmatriz_arbol = metrics.confusion_matrix(y_test, Y_pred_arbol)\nmatriz_arbol",
   "metadata": {
    "cell_id": "aa16c55c-a841-43c0-9156-048100f1e7a4",
    "tags": [],
    "deepnote_app_coordinates": {
     "x": 0,
     "y": 0,
     "w": 12,
     "h": 5
    },
    "deepnote_to_be_reexecuted": false,
    "source_hash": "395f62c9",
    "execution_start": 1643550282402,
    "execution_millis": 7,
    "deepnote_output_heights": [
     40.375
    ],
    "deepnote_cell_type": "code"
   },
   "outputs": [
    {
     "output_type": "execute_result",
     "execution_count": 31,
     "data": {
      "text/plain": "array([[58,  6],\n       [ 4, 10]])"
     },
     "metadata": {}
    }
   ],
   "execution_count": 31
  },
  {
   "cell_type": "code",
   "source": "# Exactitud del modelo\nprint(\"Exactitud\", metrics.accuracy_score(y_test, Y_pred_arbol))",
   "metadata": {
    "cell_id": "cdc63111-1583-4357-a53e-183b2d1affef",
    "tags": [],
    "deepnote_app_coordinates": {
     "x": 0,
     "y": 0,
     "w": 12,
     "h": 5
    },
    "deepnote_to_be_reexecuted": false,
    "source_hash": "6e71fa96",
    "execution_start": 1643550293802,
    "execution_millis": 3,
    "deepnote_cell_type": "code"
   },
   "outputs": [
    {
     "name": "stdout",
     "text": "Exactitud 0.8717948717948718\n",
     "output_type": "stream"
    }
   ],
   "execution_count": 32
  },
  {
   "cell_type": "markdown",
   "source": "### 5.2 Bosques aleatorios ",
   "metadata": {
    "cell_id": "4c75eee6-effc-4933-9b20-2ddf1a53c762",
    "tags": [],
    "deepnote_app_coordinates": {
     "x": 0,
     "y": 0,
     "w": 12,
     "h": 5
    },
    "deepnote_cell_type": "markdown"
   }
  },
  {
   "cell_type": "code",
   "source": "# Procedemos a aplicar nuestro algoritmo\nbosques_aleatorios = RandomForestClassifier(n_estimators=10, criterion=\"entropy\")\nbosques_aleatorios.fit(X_train, y_train) # Ejecución del modelo\nY_pred_bosques = bosques_aleatorios.predict(X_test)",
   "metadata": {
    "cell_id": "f5a3d9d1-8de3-4c4c-b841-58f870c246eb",
    "tags": [],
    "deepnote_app_coordinates": {
     "x": 0,
     "y": 0,
     "w": 12,
     "h": 5
    },
    "deepnote_to_be_reexecuted": false,
    "source_hash": "8a273b91",
    "execution_start": 1643550362122,
    "execution_millis": 18,
    "deepnote_cell_type": "code"
   },
   "outputs": [],
   "execution_count": 33
  },
  {
   "cell_type": "code",
   "source": "# Creamos la matriz de confusión \nmatriz_bosques = metrics.confusion_matrix(y_test, Y_pred_bosques)\nmatriz_bosques",
   "metadata": {
    "cell_id": "599e96ec-1b33-46a6-9975-09f2323557b1",
    "tags": [],
    "deepnote_app_coordinates": {
     "x": 0,
     "y": 0,
     "w": 12,
     "h": 5
    },
    "deepnote_to_be_reexecuted": false,
    "source_hash": "9423f7b3",
    "execution_start": 1643550371374,
    "execution_millis": 6,
    "deepnote_output_heights": [
     40.375
    ],
    "deepnote_cell_type": "code"
   },
   "outputs": [
    {
     "output_type": "execute_result",
     "execution_count": 34,
     "data": {
      "text/plain": "array([[62,  2],\n       [ 7,  7]])"
     },
     "metadata": {}
    }
   ],
   "execution_count": 34
  },
  {
   "cell_type": "code",
   "source": "# Exactitud del modelo\nprint(\"Exactitud\", metrics.accuracy_score(y_test, Y_pred_bosques))",
   "metadata": {
    "cell_id": "9dee291c-68ee-4184-ba27-eb1c16cc1b6f",
    "tags": [],
    "deepnote_app_coordinates": {
     "x": 0,
     "y": 0,
     "w": 12,
     "h": 5
    },
    "deepnote_to_be_reexecuted": false,
    "source_hash": "931b9ca4",
    "execution_start": 1643550394351,
    "execution_millis": 0,
    "deepnote_cell_type": "code"
   },
   "outputs": [
    {
     "name": "stdout",
     "text": "Exactitud 0.8846153846153846\n",
     "output_type": "stream"
    }
   ],
   "execution_count": 35
  },
  {
   "cell_type": "markdown",
   "source": "### 5.3 Regresión logística",
   "metadata": {
    "cell_id": "9ea2a58a-9c7b-469b-9f24-e24120c93e56",
    "tags": [],
    "deepnote_app_coordinates": {
     "x": 0,
     "y": 0,
     "w": 12,
     "h": 5
    },
    "deepnote_cell_type": "markdown"
   }
  },
  {
   "cell_type": "code",
   "source": "# Procedemos aplicar nuestro algoritmo\nlogreg = LogisticRegression()\nlogreg.fit(X_train, y_train) # Ejecución del modelo\nY_pred_log = logreg.predict(X_test)",
   "metadata": {
    "cell_id": "e23ba342-30cf-40e6-a85c-7e1e79fa1a18",
    "tags": [],
    "deepnote_app_coordinates": {
     "x": 0,
     "y": 0,
     "w": 12,
     "h": 5
    },
    "deepnote_to_be_reexecuted": false,
    "source_hash": "d6d1b635",
    "execution_start": 1643550765094,
    "execution_millis": 31,
    "deepnote_cell_type": "code"
   },
   "outputs": [
    {
     "name": "stderr",
     "text": "/shared-libs/python3.9/py/lib/python3.9/site-packages/sklearn/linear_model/_logistic.py:814: ConvergenceWarning: lbfgs failed to converge (status=1):\nSTOP: TOTAL NO. of ITERATIONS REACHED LIMIT.\n\nIncrease the number of iterations (max_iter) or scale the data as shown in:\n    https://scikit-learn.org/stable/modules/preprocessing.html\nPlease also refer to the documentation for alternative solver options:\n    https://scikit-learn.org/stable/modules/linear_model.html#logistic-regression\n  n_iter_i = _check_optimize_result(\n",
     "output_type": "stream"
    }
   ],
   "execution_count": 45
  },
  {
   "cell_type": "code",
   "source": "# Creamos una matriz de confusión\ncnf_matrix = metrics.confusion_matrix(y_test, Y_pred_log)\ncnf_matrix",
   "metadata": {
    "cell_id": "ed08755c-09a0-4c45-b675-6fc7e5d234a0",
    "tags": [],
    "deepnote_app_coordinates": {
     "x": 0,
     "y": 0,
     "w": 12,
     "h": 5
    },
    "deepnote_to_be_reexecuted": false,
    "source_hash": "a29a0dea",
    "execution_start": 1643550767830,
    "execution_millis": 15,
    "deepnote_output_heights": [
     40.375
    ],
    "deepnote_cell_type": "code"
   },
   "outputs": [
    {
     "output_type": "execute_result",
     "execution_count": 46,
     "data": {
      "text/plain": "array([[63,  1],\n       [ 6,  8]])"
     },
     "metadata": {}
    }
   ],
   "execution_count": 46
  },
  {
   "cell_type": "code",
   "source": "# Exactitud del modelo\nprint(\"Exactitud\", metrics.accuracy_score(y_test, Y_pred))",
   "metadata": {
    "cell_id": "855880cd-22a0-40e0-b14b-3b5d35cc3fd6",
    "tags": [],
    "deepnote_app_coordinates": {
     "x": 0,
     "y": 0,
     "w": 12,
     "h": 5
    },
    "deepnote_to_be_reexecuted": false,
    "source_hash": "b89078b2",
    "execution_start": 1643550770205,
    "execution_millis": 178,
    "deepnote_cell_type": "code"
   },
   "outputs": [
    {
     "name": "stdout",
     "text": "Exactitud 0.9102564102564102\n",
     "output_type": "stream"
    }
   ],
   "execution_count": 47
  },
  {
   "cell_type": "markdown",
   "source": "### 5.4 Máquinas de vectores de soporte",
   "metadata": {
    "cell_id": "32ab1a39-d420-42b3-a799-b305a1599ed5",
    "tags": [],
    "deepnote_app_coordinates": {
     "x": 0,
     "y": 0,
     "w": 12,
     "h": 5
    },
    "deepnote_cell_type": "markdown"
   }
  },
  {
   "cell_type": "code",
   "source": "# Procedemos aplicar nuestro algoritmo\nvcs = SVC(kernel=\"linear\")\nvcs.fit(X_train, y_train) # Ejecución del modelo\nY_pred_vcs = vcs.predict(X_test)",
   "metadata": {
    "cell_id": "21753fab-8a25-4772-876b-80ca442d2b42",
    "tags": [],
    "deepnote_app_coordinates": {
     "x": 0,
     "y": 0,
     "w": 12,
     "h": 5
    },
    "deepnote_to_be_reexecuted": false,
    "source_hash": "ebf9ffc",
    "execution_start": 1643550431017,
    "execution_millis": 698,
    "deepnote_cell_type": "code"
   },
   "outputs": [],
   "execution_count": 36
  },
  {
   "cell_type": "code",
   "source": "# Creamos una matriz de confusión\nmatriz_vcs = metrics.confusion_matrix(y_test, Y_pred_vcs)\nmatriz_vcs",
   "metadata": {
    "cell_id": "1cdc2a4d-533b-41f3-8157-37d7b62e5735",
    "tags": [],
    "deepnote_app_coordinates": {
     "x": 0,
     "y": 0,
     "w": 12,
     "h": 5
    },
    "deepnote_to_be_reexecuted": false,
    "source_hash": "ad9fded9",
    "execution_start": 1643550442094,
    "execution_millis": 5,
    "deepnote_output_heights": [
     40.375
    ],
    "deepnote_cell_type": "code"
   },
   "outputs": [
    {
     "output_type": "execute_result",
     "execution_count": 37,
     "data": {
      "text/plain": "array([[63,  1],\n       [ 5,  9]])"
     },
     "metadata": {}
    }
   ],
   "execution_count": 37
  },
  {
   "cell_type": "code",
   "source": "# Exactitud del modelo\nprint(\"Exactitud\", metrics.accuracy_score(y_test, Y_pred_vcs))",
   "metadata": {
    "cell_id": "ffc7f6d0-8f87-499b-a2b6-65e8a470b8a0",
    "tags": [],
    "deepnote_app_coordinates": {
     "x": 0,
     "y": 0,
     "w": 12,
     "h": 5
    },
    "deepnote_to_be_reexecuted": false,
    "source_hash": "385ba9e6",
    "execution_start": 1643550451763,
    "execution_millis": 3,
    "deepnote_cell_type": "code"
   },
   "outputs": [
    {
     "name": "stdout",
     "text": "Exactitud 0.9230769230769231\n",
     "output_type": "stream"
    }
   ],
   "execution_count": 38
  },
  {
   "cell_type": "markdown",
   "source": "### 5.5 Comparación de los modelos",
   "metadata": {
    "cell_id": "a859c666-add8-4377-ad3a-741256072423",
    "tags": [],
    "deepnote_app_coordinates": {
     "x": 0,
     "y": 0,
     "w": 12,
     "h": 5
    },
    "deepnote_cell_type": "markdown"
   }
  },
  {
   "cell_type": "code",
   "source": "plt.figure(figsize=(9,5))\nacc = [metrics.accuracy_score(Y_pred_arbol,y_test),metrics.accuracy_score(Y_pred_bosques,y_test), metrics.accuracy_score(Y_pred_log,y_test), metrics.accuracy_score(Y_pred_vcs,y_test)]\nmodels = [\"Decision Tree\", \"Random Forest\", \"Logistic Regression\", \"Support Vector Machine\"]\nacc_ = np.array(acc)*100\nsns.barplot(acc_, models)\nplt.title(\"Exactitud de los modelos\")\nplt.xlim([10,100])\nplt.xlabel(\"Accuracy %\")\nplt.show()",
   "metadata": {
    "cell_id": "a55fe2e0-f875-494d-9f95-22f7fc5ca290",
    "tags": [],
    "deepnote_app_coordinates": {
     "x": 0,
     "y": 0,
     "w": 12,
     "h": 5
    },
    "deepnote_to_be_reexecuted": false,
    "source_hash": "e4a8e42f",
    "execution_start": 1643550670005,
    "execution_millis": 428,
    "deepnote_output_heights": [
     null,
     335
    ],
    "deepnote_cell_type": "code"
   },
   "outputs": [
    {
     "name": "stderr",
     "text": "/shared-libs/python3.9/py/lib/python3.9/site-packages/seaborn/_decorators.py:36: FutureWarning: Pass the following variables as keyword args: x, y. From version 0.12, the only valid positional argument will be `data`, and passing other arguments without an explicit keyword will result in an error or misinterpretation.\n  warnings.warn(\n",
     "output_type": "stream"
    },
    {
     "data": {
      "text/plain": "<Figure size 648x360 with 1 Axes>",
      "image/png": "[encoded data removed]"
     },
     "metadata": {
      "needs_background": "light",
      "image/png": {
       "width": 652,
       "height": 333
      }
     },
     "output_type": "display_data"
    }
   ],
   "execution_count": 44
  },
  {
   "cell_type": "markdown",
   "source": "### 6. Conclusiones\nEn conclusión, los modelos tiene una exactitud entre un 87% y 92%. La variable mas significativa es la glucosa en la sangre. Además, a nivel gráfico se puede valorar que el mayor porcentaje con diabetes son mujeres. No obstante, la muestra sigue siendo muy pequeña, además de la falta de variables socieconómicas que nos puden proporcionar mayor información para llegar a conclusiones más significativas sobre el tema de la diabetes.\n",
   "metadata": {
    "tags": [],
    "cell_id": "00037-e6f8cb57-8aea-4b76-917e-453f29ea9910",
    "deepnote_app_coordinates": {
     "x": 0,
     "y": 222,
     "w": 12,
     "h": 5
    },
    "deepnote_cell_type": "markdown"
   }
  },
  {
   "cell_type": "markdown",
   "source": "<a style='text-decoration:none;line-height:16px;display:flex;color:#5B5B62;padding:10px;justify-content:end;' href='https://deepnote.com?utm_source=created-in-deepnote-cell&projectId=eeb74c36-f3dd-4b1e-8914-154c400aca7b' target=\"_blank\">\n<img alt='Created in deepnote.com' style='display:inline;max-height:16px;margin:0px;margin-right:7.5px;' src='data:image/svg+xml;base64,PD94bWwgdmVyc2lvbj0iMS4wIiBlbmNvZGluZz0iVVRGLTgiPz4KPHN2ZyB3aWR0aD0iODBweCIgaGVpZ2h0PSI4MHB4IiB2aWV3Qm94PSIwIDAgODAgODAiIHZlcnNpb249IjEuMSIgeG1sbnM9Imh0dHA6Ly93d3cudzMub3JnLzIwMDAvc3ZnIiB4bWxuczp4bGluaz0iaHR0cDovL3d3dy53My5vcmcvMTk5OS94bGluayI+CiAgICA8IS0tIEdlbmVyYXRvcjogU2tldGNoIDU0LjEgKDc2NDkwKSAtIGh0dHBzOi8vc2tldGNoYXBwLmNvbSAtLT4KICAgIDx0aXRsZT5Hcm91cCAzPC90aXRsZT4KICAgIDxkZXNjPkNyZWF0ZWQgd2l0aCBTa2V0Y2guPC9kZXNjPgogICAgPGcgaWQ9IkxhbmRpbmciIHN0cm9rZT0ibm9uZSIgc3Ryb2tlLXdpZHRoPSIxIiBmaWxsPSJub25lIiBmaWxsLXJ1bGU9ImV2ZW5vZGQiPgogICAgICAgIDxnIGlkPSJBcnRib2FyZCIgdHJhbnNmb3JtPSJ0cmFuc2xhdGUoLTEyMzUuMDAwMDAwLCAtNzkuMDAwMDAwKSI+CiAgICAgICAgICAgIDxnIGlkPSJHcm91cC0zIiB0cmFuc2Zvcm09InRyYW5zbGF0ZSgxMjM1LjAwMDAwMCwgNzkuMDAwMDAwKSI+CiAgICAgICAgICAgICAgICA8cG9seWdvbiBpZD0iUGF0aC0yMCIgZmlsbD0iIzAyNjVCNCIgcG9pbnRzPSIyLjM3NjIzNzYyIDgwIDM4LjA0NzY2NjcgODAgNTcuODIxNzgyMiA3My44MDU3NTkyIDU3LjgyMTc4MjIgMzIuNzU5MjczOSAzOS4xNDAyMjc4IDMxLjY4MzE2ODMiPjwvcG9seWdvbj4KICAgICAgICAgICAgICAgIDxwYXRoIGQ9Ik0zNS4wMDc3MTgsODAgQzQyLjkwNjIwMDcsNzYuNDU0OTM1OCA0Ny41NjQ5MTY3LDcxLjU0MjI2NzEgNDguOTgzODY2LDY1LjI2MTk5MzkgQzUxLjExMjI4OTksNTUuODQxNTg0MiA0MS42NzcxNzk1LDQ5LjIxMjIyODQgMjUuNjIzOTg0Niw0OS4yMTIyMjg0IEMyNS40ODQ5Mjg5LDQ5LjEyNjg0NDggMjkuODI2MTI5Niw0My4yODM4MjQ4IDM4LjY0NzU4NjksMzEuNjgzMTY4MyBMNzIuODcxMjg3MSwzMi41NTQ0MjUgTDY1LjI4MDk3Myw2Ny42NzYzNDIxIEw1MS4xMTIyODk5LDc3LjM3NjE0NCBMMzUuMDA3NzE4LDgwIFoiIGlkPSJQYXRoLTIyIiBmaWxsPSIjMDAyODY4Ij48L3BhdGg+CiAgICAgICAgICAgICAgICA8cGF0aCBkPSJNMCwzNy43MzA0NDA1IEwyNy4xMTQ1MzcsMC4yNTcxMTE0MzYgQzYyLjM3MTUxMjMsLTEuOTkwNzE3MDEgODAsMTAuNTAwMzkyNyA4MCwzNy43MzA0NDA1IEM4MCw2NC45NjA0ODgyIDY0Ljc3NjUwMzgsNzkuMDUwMzQxNCAzNC4zMjk1MTEzLDgwIEM0Ny4wNTUzNDg5LDc3LjU2NzA4MDggNTMuNDE4MjY3Nyw3MC4zMTM2MTAzIDUzLjQxODI2NzcsNTguMjM5NTg4NSBDNTMuNDE4MjY3Nyw0MC4xMjg1NTU3IDM2LjMwMzk1NDQsMzcuNzMwNDQwNSAyNS4yMjc0MTcsMzcuNzMwNDQwNSBDMTcuODQzMDU4NiwzNy43MzA0NDA1IDkuNDMzOTE5NjYsMzcuNzMwNDQwNSAwLDM3LjczMDQ0MDUgWiIgaWQ9IlBhdGgtMTkiIGZpbGw9IiMzNzkzRUYiPjwvcGF0aD4KICAgICAgICAgICAgPC9nPgogICAgICAgIDwvZz4KICAgIDwvZz4KPC9zdmc+' > </img>\nCreated in <span style='font-weight:600;margin-left:4px;'>Deepnote</span></a>",
   "metadata": {
    "tags": [],
    "created_in_deepnote_cell": true,
    "deepnote_cell_type": "markdown"
   }
  }
 ],
 "nbformat": 4,
 "nbformat_minor": 2,
 "metadata": {
  "orig_nbformat": 2,
  "deepnote": {
   "is_reactive": false
  },
  "deepnote_notebook_id": "04d492f2-7907-4e3b-8690-23cff65a77a1",
  "deepnote_execution_queue": [],
  "deepnote_app_layout": "article"
 }
}