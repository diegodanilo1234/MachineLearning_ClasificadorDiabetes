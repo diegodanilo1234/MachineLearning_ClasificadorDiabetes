{
 "cells": [
  {
   "cell_type": "markdown",
   "source": "# Machine Learning - Clasificador de diabetes\nEn este proyecto se busca la creación de un modelo de machine learning que clasfique si una persona tiene o no diabetes. Para esto se utilizara una regresión logística donde las variables independientes seran el colesterol, azucar en la sangre, HDL o colesterol bueno, edad, peso, altura, presión arterial, tamaño de la cintura y cadera. Y nuestra variable dependiente sera de caracter dummy y se clasificara en 0 sino tiene diabetes y 1 si tiene diabetes.\n\nFuente: data.world",
   "metadata": {
    "tags": [],
    "cell_id": "00000-65faf9c0-a58d-49f6-b187-df0913e51c74",
    "deepnote_app_coordinates": {
     "x": 0,
     "y": null,
     "w": 12,
     "h": 5
    },
    "deepnote_cell_type": "markdown"
   }
  },
  {
   "cell_type": "markdown",
   "source": "### 1. Cargamos las librerias\n",
   "metadata": {
    "tags": [],
    "cell_id": "00002-ccf18613-b7b2-4547-98b4-74ac7b53a9e1",
    "deepnote_app_coordinates": {
     "x": 0,
     "y": 12,
     "w": 12,
     "h": 5
    },
    "deepnote_cell_type": "markdown"
   }
  },
  {
   "cell_type": "code",
   "metadata": {
    "tags": [],
    "cell_id": "00003-7dfc1eb1-f772-4aff-a0e4-ee0d32d58378",
    "deepnote_to_be_reexecuted": false,
    "source_hash": "ceea9d80",
    "execution_start": 1640006913972,
    "execution_millis": 2845,
    "deepnote_app_coordinates": {
     "x": 0,
     "y": 18,
     "w": 12,
     "h": 5
    },
    "deepnote_cell_type": "code"
   },
   "source": "\nimport pandas as pd # Libreria para tratamiento de DataFrame\nimport numpy as np # Libreria de algebra lineal\nimport matplotlib.pyplot as plt # Libreria gráfica\nimport seaborn as sns # Libreria Gráfica\nfrom sklearn import metrics # Validar nuestro metodo\nfrom sklearn.model_selection import train_test_split # Entrenar y divir la información\nfrom sklearn.linear_model import LogisticRegression # Regresión logistica\nfrom sklearn.decomposition import PCA # Modulo de PCA\nfrom sklearn.decomposition import IncrementalPCA # Modulo IncrementalPCA\nfrom sklearn.preprocessing import StandardScaler # Normalizar datos",
   "outputs": [],
   "execution_count": null
  },
  {
   "cell_type": "markdown",
   "source": "### 2. Cargamos el dataset",
   "metadata": {
    "tags": [],
    "cell_id": "00004-936a0bf2-6ae4-424c-ab8f-b1bd8ca36055",
    "deepnote_app_coordinates": {
     "x": 0,
     "y": 24,
     "w": 12,
     "h": 5
    },
    "deepnote_cell_type": "markdown"
   }
  },
  {
   "cell_type": "code",
   "metadata": {
    "tags": [],
    "cell_id": "00005-978e70cc-683d-435d-9e34-eea5fe44d462",
    "deepnote_to_be_reexecuted": false,
    "source_hash": "23519125",
    "execution_start": 1640006916826,
    "execution_millis": 11,
    "deepnote_app_coordinates": {
     "x": 0,
     "y": 30,
     "w": 12,
     "h": 5
    },
    "deepnote_cell_type": "code"
   },
   "source": "# Lectura del dataset\ndiabetes = pd.read_csv(\"/work/Diabetes.csv\")",
   "outputs": [],
   "execution_count": null
  },
  {
   "cell_type": "code",
   "metadata": {
    "tags": [],
    "cell_id": "00006-9811fea9-620b-4d85-be6f-c603a3430a1c",
    "deepnote_to_be_reexecuted": false,
    "source_hash": "3c4f5eea",
    "execution_start": 1640006916935,
    "execution_millis": 54,
    "deepnote_app_coordinates": {
     "x": 0,
     "y": 36,
     "w": 12,
     "h": 5
    },
    "deepnote_cell_type": "code"
   },
   "source": "# Primeras 5 filas del dataset\ndiabetes.head()",
   "outputs": [
    {
     "output_type": "execute_result",
     "execution_count": 3,
     "data": {
      "application/vnd.deepnote.dataframe.v3+json": {
       "column_count": 16,
       "row_count": 5,
       "columns": [
        {
         "name": "Patient number",
         "dtype": "int64",
         "stats": {
          "unique_count": 5,
          "nan_count": 0,
          "min": "1",
          "max": "5",
          "histogram": [
           {
            "bin_start": 1,
            "bin_end": 1.4,
            "count": 1
           },
           {
            "bin_start": 1.4,
            "bin_end": 1.8,
            "count": 0
           },
           {
            "bin_start": 1.8,
            "bin_end": 2.2,
            "count": 1
           },
           {
            "bin_start": 2.2,
            "bin_end": 2.6,
            "count": 0
           },
           {
            "bin_start": 2.6,
            "bin_end": 3,
            "count": 0
           },
           {
            "bin_start": 3,
            "bin_end": 3.4000000000000004,
            "count": 1
           },
           {
            "bin_start": 3.4000000000000004,
            "bin_end": 3.8000000000000003,
            "count": 0
           },
           {
            "bin_start": 3.8000000000000003,
            "bin_end": 4.2,
            "count": 1
           },
           {
            "bin_start": 4.2,
            "bin_end": 4.6,
            "count": 0
           },
           {
            "bin_start": 4.6,
            "bin_end": 5,
            "count": 1
           }
          ]
         }
        },
        {
         "name": "Cholesterol",
         "dtype": "int64",
         "stats": {
          "unique_count": 5,
          "nan_count": 0,
          "min": "146",
          "max": "226",
          "histogram": [
           {
            "bin_start": 146,
            "bin_end": 154,
            "count": 1
           },
           {
            "bin_start": 154,
            "bin_end": 162,
            "count": 0
           },
           {
            "bin_start": 162,
            "bin_end": 170,
            "count": 1
           },
           {
            "bin_start": 170,
            "bin_end": 178,
            "count": 0
           },
           {
            "bin_start": 178,
            "bin_end": 186,
            "count": 0
           },
           {
            "bin_start": 186,
            "bin_end": 194,
            "count": 1
           },
           {
            "bin_start": 194,
            "bin_end": 202,
            "count": 0
           },
           {
            "bin_start": 202,
            "bin_end": 210,
            "count": 0
           },
           {
            "bin_start": 210,
            "bin_end": 218,
            "count": 1
           },
           {
            "bin_start": 218,
            "bin_end": 226,
            "count": 1
           }
          ]
         }
        },
        {
         "name": "Glucose",
         "dtype": "int64",
         "stats": {
          "unique_count": 5,
          "nan_count": 0,
          "min": "75",
          "max": "97",
          "histogram": [
           {
            "bin_start": 75,
            "bin_end": 77.2,
            "count": 2
           },
           {
            "bin_start": 77.2,
            "bin_end": 79.4,
            "count": 1
           },
           {
            "bin_start": 79.4,
            "bin_end": 81.6,
            "count": 0
           },
           {
            "bin_start": 81.6,
            "bin_end": 83.8,
            "count": 0
           },
           {
            "bin_start": 83.8,
            "bin_end": 86,
            "count": 0
           },
           {
            "bin_start": 86,
            "bin_end": 88.2,
            "count": 0
           },
           {
            "bin_start": 88.2,
            "bin_end": 90.4,
            "count": 0
           },
           {
            "bin_start": 90.4,
            "bin_end": 92.6,
            "count": 1
           },
           {
            "bin_start": 92.6,
            "bin_end": 94.8,
            "count": 0
           },
           {
            "bin_start": 94.8,
            "bin_end": 97,
            "count": 1
           }
          ]
         }
        },
        {
         "name": "HDL Chol",
         "dtype": "int64",
         "stats": {
          "unique_count": 5,
          "nan_count": 0,
          "min": "41",
          "max": "70",
          "histogram": [
           {
            "bin_start": 41,
            "bin_end": 43.9,
            "count": 1
           },
           {
            "bin_start": 43.9,
            "bin_end": 46.8,
            "count": 0
           },
           {
            "bin_start": 46.8,
            "bin_end": 49.7,
            "count": 1
           },
           {
            "bin_start": 49.7,
            "bin_end": 52.6,
            "count": 0
           },
           {
            "bin_start": 52.6,
            "bin_end": 55.5,
            "count": 1
           },
           {
            "bin_start": 55.5,
            "bin_end": 58.4,
            "count": 0
           },
           {
            "bin_start": 58.4,
            "bin_end": 61.3,
            "count": 0
           },
           {
            "bin_start": 61.3,
            "bin_end": 64.2,
            "count": 0
           },
           {
            "bin_start": 64.2,
            "bin_end": 67.1,
            "count": 1
           },
           {
            "bin_start": 67.1,
            "bin_end": 70,
            "count": 1
           }
          ]
         }
        },
        {
         "name": "Chol/HDL ratio",
         "dtype": "float64",
         "stats": {
          "unique_count": 5,
          "nan_count": 0,
          "min": "2.4",
          "max": "4.0",
          "histogram": [
           {
            "bin_start": 2.4,
            "bin_end": 2.56,
            "count": 1
           },
           {
            "bin_start": 2.56,
            "bin_end": 2.7199999999999998,
            "count": 0
           },
           {
            "bin_start": 2.7199999999999998,
            "bin_end": 2.88,
            "count": 0
           },
           {
            "bin_start": 2.88,
            "bin_end": 3.04,
            "count": 0
           },
           {
            "bin_start": 3.04,
            "bin_end": 3.2,
            "count": 0
           },
           {
            "bin_start": 3.2,
            "bin_end": 3.36,
            "count": 1
           },
           {
            "bin_start": 3.36,
            "bin_end": 3.52,
            "count": 0
           },
           {
            "bin_start": 3.52,
            "bin_end": 3.6799999999999997,
            "count": 1
           },
           {
            "bin_start": 3.6799999999999997,
            "bin_end": 3.84,
            "count": 0
           },
           {
            "bin_start": 3.84,
            "bin_end": 4,
            "count": 2
           }
          ]
         }
        },
        {
         "name": "Age",
         "dtype": "int64",
         "stats": {
          "unique_count": 2,
          "nan_count": 0,
          "min": "19",
          "max": "20",
          "histogram": [
           {
            "bin_start": 19,
            "bin_end": 19.1,
            "count": 2
           },
           {
            "bin_start": 19.1,
            "bin_end": 19.2,
            "count": 0
           },
           {
            "bin_start": 19.2,
            "bin_end": 19.3,
            "count": 0
           },
           {
            "bin_start": 19.3,
            "bin_end": 19.4,
            "count": 0
           },
           {
            "bin_start": 19.4,
            "bin_end": 19.5,
            "count": 0
           },
           {
            "bin_start": 19.5,
            "bin_end": 19.6,
            "count": 0
           },
           {
            "bin_start": 19.6,
            "bin_end": 19.7,
            "count": 0
           },
           {
            "bin_start": 19.7,
            "bin_end": 19.8,
            "count": 0
           },
           {
            "bin_start": 19.8,
            "bin_end": 19.9,
            "count": 0
           },
           {
            "bin_start": 19.9,
            "bin_end": 20,
            "count": 3
           }
          ]
         }
        },
        {
         "name": "Gender",
         "dtype": "object",
         "stats": {
          "unique_count": 1,
          "nan_count": 0,
          "categories": [
           {
            "name": "female",
            "count": 5
           }
          ]
         }
        },
        {
         "name": "Height",
         "dtype": "int64",
         "stats": {
          "unique_count": 5,
          "nan_count": 0,
          "min": "60",
          "max": "70",
          "histogram": [
           {
            "bin_start": 60,
            "bin_end": 61,
            "count": 1
           },
           {
            "bin_start": 61,
            "bin_end": 62,
            "count": 1
           },
           {
            "bin_start": 62,
            "bin_end": 63,
            "count": 0
           },
           {
            "bin_start": 63,
            "bin_end": 64,
            "count": 0
           },
           {
            "bin_start": 64,
            "bin_end": 65,
            "count": 1
           },
           {
            "bin_start": 65,
            "bin_end": 66,
            "count": 0
           },
           {
            "bin_start": 66,
            "bin_end": 67,
            "count": 0
           },
           {
            "bin_start": 67,
            "bin_end": 68,
            "count": 1
           },
           {
            "bin_start": 68,
            "bin_end": 69,
            "count": 0
           },
           {
            "bin_start": 69,
            "bin_end": 70,
            "count": 1
           }
          ]
         }
        },
        {
         "name": "Weight",
         "dtype": "int64",
         "stats": {
          "unique_count": 5,
          "nan_count": 0,
          "min": "114",
          "max": "187",
          "histogram": [
           {
            "bin_start": 114,
            "bin_end": 121.3,
            "count": 2
           },
           {
            "bin_start": 121.3,
            "bin_end": 128.6,
            "count": 0
           },
           {
            "bin_start": 128.6,
            "bin_end": 135.9,
            "count": 1
           },
           {
            "bin_start": 135.9,
            "bin_end": 143.2,
            "count": 1
           },
           {
            "bin_start": 143.2,
            "bin_end": 150.5,
            "count": 0
           },
           {
            "bin_start": 150.5,
            "bin_end": 157.8,
            "count": 0
           },
           {
            "bin_start": 157.8,
            "bin_end": 165.1,
            "count": 0
           },
           {
            "bin_start": 165.1,
            "bin_end": 172.4,
            "count": 0
           },
           {
            "bin_start": 172.4,
            "bin_end": 179.7,
            "count": 0
           },
           {
            "bin_start": 179.7,
            "bin_end": 187,
            "count": 1
           }
          ]
         }
        },
        {
         "name": "BMI",
         "dtype": "float64",
         "stats": {
          "unique_count": 5,
          "nan_count": 0,
          "min": "19.6",
          "max": "29.3",
          "histogram": [
           {
            "bin_start": 19.6,
            "bin_end": 20.57,
            "count": 2
           },
           {
            "bin_start": 20.57,
            "bin_end": 21.540000000000003,
            "count": 0
           },
           {
            "bin_start": 21.540000000000003,
            "bin_end": 22.51,
            "count": 1
           },
           {
            "bin_start": 22.51,
            "bin_end": 23.48,
            "count": 0
           },
           {
            "bin_start": 23.48,
            "bin_end": 24.450000000000003,
            "count": 0
           },
           {
            "bin_start": 24.450000000000003,
            "bin_end": 25.42,
            "count": 0
           },
           {
            "bin_start": 25.42,
            "bin_end": 26.39,
            "count": 0
           },
           {
            "bin_start": 26.39,
            "bin_end": 27.36,
            "count": 1
           },
           {
            "bin_start": 27.36,
            "bin_end": 28.330000000000002,
            "count": 0
           },
           {
            "bin_start": 28.330000000000002,
            "bin_end": 29.3,
            "count": 1
           }
          ]
         }
        },
        {
         "name": "Systolic BP",
         "dtype": "int64",
         "stats": {
          "unique_count": 4,
          "nan_count": 0,
          "min": "108",
          "max": "122",
          "histogram": [
           {
            "bin_start": 108,
            "bin_end": 109.4,
            "count": 1
           },
           {
            "bin_start": 109.4,
            "bin_end": 110.8,
            "count": 1
           },
           {
            "bin_start": 110.8,
            "bin_end": 112.2,
            "count": 0
           },
           {
            "bin_start": 112.2,
            "bin_end": 113.6,
            "count": 0
           },
           {
            "bin_start": 113.6,
            "bin_end": 115,
            "count": 0
           },
           {
            "bin_start": 115,
            "bin_end": 116.4,
            "count": 0
           },
           {
            "bin_start": 116.4,
            "bin_end": 117.8,
            "count": 0
           },
           {
            "bin_start": 117.8,
            "bin_end": 119.2,
            "count": 1
           },
           {
            "bin_start": 119.2,
            "bin_end": 120.6,
            "count": 0
           },
           {
            "bin_start": 120.6,
            "bin_end": 122,
            "count": 2
           }
          ]
         }
        },
        {
         "name": "Diastolic BP",
         "dtype": "int64",
         "stats": {
          "unique_count": 5,
          "nan_count": 0,
          "min": "58",
          "max": "86",
          "histogram": [
           {
            "bin_start": 58,
            "bin_end": 60.8,
            "count": 1
           },
           {
            "bin_start": 60.8,
            "bin_end": 63.6,
            "count": 0
           },
           {
            "bin_start": 63.6,
            "bin_end": 66.4,
            "count": 1
           },
           {
            "bin_start": 66.4,
            "bin_end": 69.2,
            "count": 0
           },
           {
            "bin_start": 69.2,
            "bin_end": 72,
            "count": 1
           },
           {
            "bin_start": 72,
            "bin_end": 74.8,
            "count": 1
           },
           {
            "bin_start": 74.8,
            "bin_end": 77.6,
            "count": 0
           },
           {
            "bin_start": 77.6,
            "bin_end": 80.4,
            "count": 0
           },
           {
            "bin_start": 80.4,
            "bin_end": 83.2,
            "count": 0
           },
           {
            "bin_start": 83.2,
            "bin_end": 86,
            "count": 1
           }
          ]
         }
        },
        {
         "name": "waist",
         "dtype": "int64",
         "stats": {
          "unique_count": 4,
          "nan_count": 0,
          "min": "31",
          "max": "40",
          "histogram": [
           {
            "bin_start": 31,
            "bin_end": 31.9,
            "count": 1
           },
           {
            "bin_start": 31.9,
            "bin_end": 32.8,
            "count": 2
           },
           {
            "bin_start": 32.8,
            "bin_end": 33.7,
            "count": 1
           },
           {
            "bin_start": 33.7,
            "bin_end": 34.6,
            "count": 0
           },
           {
            "bin_start": 34.6,
            "bin_end": 35.5,
            "count": 0
           },
           {
            "bin_start": 35.5,
            "bin_end": 36.4,
            "count": 0
           },
           {
            "bin_start": 36.4,
            "bin_end": 37.3,
            "count": 0
           },
           {
            "bin_start": 37.3,
            "bin_end": 38.2,
            "count": 0
           },
           {
            "bin_start": 38.2,
            "bin_end": 39.1,
            "count": 0
           },
           {
            "bin_start": 39.1,
            "bin_end": 40,
            "count": 1
           }
          ]
         }
        },
        {
         "name": "hip",
         "dtype": "int64",
         "stats": {
          "unique_count": 4,
          "nan_count": 0,
          "min": "38",
          "max": "45",
          "histogram": [
           {
            "bin_start": 38,
            "bin_end": 38.7,
            "count": 1
           },
           {
            "bin_start": 38.7,
            "bin_end": 39.4,
            "count": 2
           },
           {
            "bin_start": 39.4,
            "bin_end": 40.1,
            "count": 1
           },
           {
            "bin_start": 40.1,
            "bin_end": 40.8,
            "count": 0
           },
           {
            "bin_start": 40.8,
            "bin_end": 41.5,
            "count": 0
           },
           {
            "bin_start": 41.5,
            "bin_end": 42.2,
            "count": 0
           },
           {
            "bin_start": 42.2,
            "bin_end": 42.9,
            "count": 0
           },
           {
            "bin_start": 42.9,
            "bin_end": 43.6,
            "count": 0
           },
           {
            "bin_start": 43.6,
            "bin_end": 44.3,
            "count": 0
           },
           {
            "bin_start": 44.3,
            "bin_end": 45,
            "count": 1
           }
          ]
         }
        },
        {
         "name": "Waist/hip ratio",
         "dtype": "float64",
         "stats": {
          "unique_count": 5,
          "nan_count": 0,
          "min": "0.79",
          "max": "0.89",
          "histogram": [
           {
            "bin_start": 0.79,
            "bin_end": 0.8,
            "count": 1
           },
           {
            "bin_start": 0.8,
            "bin_end": 0.81,
            "count": 0
           },
           {
            "bin_start": 0.81,
            "bin_end": 0.8200000000000001,
            "count": 1
           },
           {
            "bin_start": 0.8200000000000001,
            "bin_end": 0.8300000000000001,
            "count": 1
           },
           {
            "bin_start": 0.8300000000000001,
            "bin_end": 0.8400000000000001,
            "count": 1
           },
           {
            "bin_start": 0.8400000000000001,
            "bin_end": 0.85,
            "count": 0
           },
           {
            "bin_start": 0.85,
            "bin_end": 0.86,
            "count": 0
           },
           {
            "bin_start": 0.86,
            "bin_end": 0.87,
            "count": 0
           },
           {
            "bin_start": 0.87,
            "bin_end": 0.88,
            "count": 0
           },
           {
            "bin_start": 0.88,
            "bin_end": 0.89,
            "count": 1
           }
          ]
         }
        },
        {
         "name": "Diabetes",
         "dtype": "object",
         "stats": {
          "unique_count": 1,
          "nan_count": 0,
          "categories": [
           {
            "name": "No diabetes",
            "count": 5
           }
          ]
         }
        },
        {
         "name": "_deepnote_index_column",
         "dtype": "int64"
        }
       ],
       "rows": [
        {
         "Patient number": 1,
         "Cholesterol": 193,
         "Glucose": 77,
         "HDL Chol": 49,
         "Chol/HDL ratio": 3.9,
         "Age": 19,
         "Gender": "female",
         "Height": 61,
         "Weight": 119,
         "BMI": 22.5,
         "Systolic BP": 118,
         "Diastolic BP": 70,
         "waist": 32,
         "hip": 38,
         "Waist/hip ratio": 0.84,
         "Diabetes": "No diabetes",
         "_deepnote_index_column": 0
        },
        {
         "Patient number": 2,
         "Cholesterol": 146,
         "Glucose": 79,
         "HDL Chol": 41,
         "Chol/HDL ratio": 3.6,
         "Age": 19,
         "Gender": "female",
         "Height": 60,
         "Weight": 135,
         "BMI": 26.4,
         "Systolic BP": 108,
         "Diastolic BP": 58,
         "waist": 33,
         "hip": 40,
         "Waist/hip ratio": 0.83,
         "Diabetes": "No diabetes",
         "_deepnote_index_column": 1
        },
        {
         "Patient number": 3,
         "Cholesterol": 217,
         "Glucose": 75,
         "HDL Chol": 54,
         "Chol/HDL ratio": 4,
         "Age": 20,
         "Gender": "female",
         "Height": 67,
         "Weight": 187,
         "BMI": 29.3,
         "Systolic BP": 110,
         "Diastolic BP": 72,
         "waist": 40,
         "hip": 45,
         "Waist/hip ratio": 0.89,
         "Diabetes": "No diabetes",
         "_deepnote_index_column": 2
        },
        {
         "Patient number": 4,
         "Cholesterol": 226,
         "Glucose": 97,
         "HDL Chol": 70,
         "Chol/HDL ratio": 3.2,
         "Age": 20,
         "Gender": "female",
         "Height": 64,
         "Weight": 114,
         "BMI": 19.6,
         "Systolic BP": 122,
         "Diastolic BP": 64,
         "waist": 31,
         "hip": 39,
         "Waist/hip ratio": 0.79,
         "Diabetes": "No diabetes",
         "_deepnote_index_column": 3
        },
        {
         "Patient number": 5,
         "Cholesterol": 164,
         "Glucose": 91,
         "HDL Chol": 67,
         "Chol/HDL ratio": 2.4,
         "Age": 20,
         "Gender": "female",
         "Height": 70,
         "Weight": 141,
         "BMI": 20.2,
         "Systolic BP": 122,
         "Diastolic BP": 86,
         "waist": 32,
         "hip": 39,
         "Waist/hip ratio": 0.82,
         "Diabetes": "No diabetes",
         "_deepnote_index_column": 4
        }
       ]
      },
      "text/plain": "   Patient number  Cholesterol  Glucose  HDL Chol  Chol/HDL ratio  Age  \\\n0               1          193       77        49             3.9   19   \n1               2          146       79        41             3.6   19   \n2               3          217       75        54             4.0   20   \n3               4          226       97        70             3.2   20   \n4               5          164       91        67             2.4   20   \n\n   Gender  Height  Weight   BMI  Systolic BP  Diastolic BP  waist  hip  \\\n0  female      61     119  22.5          118            70     32   38   \n1  female      60     135  26.4          108            58     33   40   \n2  female      67     187  29.3          110            72     40   45   \n3  female      64     114  19.6          122            64     31   39   \n4  female      70     141  20.2          122            86     32   39   \n\n   Waist/hip ratio     Diabetes  \n0             0.84  No diabetes  \n1             0.83  No diabetes  \n2             0.89  No diabetes  \n3             0.79  No diabetes  \n4             0.82  No diabetes  ",
      "text/html": "<div>\n<style scoped>\n    .dataframe tbody tr th:only-of-type {\n        vertical-align: middle;\n    }\n\n    .dataframe tbody tr th {\n        vertical-align: top;\n    }\n\n    .dataframe thead th {\n        text-align: right;\n    }\n</style>\n<table border=\"1\" class=\"dataframe\">\n  <thead>\n    <tr style=\"text-align: right;\">\n      <th></th>\n      <th>Patient number</th>\n      <th>Cholesterol</th>\n      <th>Glucose</th>\n      <th>HDL Chol</th>\n      <th>Chol/HDL ratio</th>\n      <th>Age</th>\n      <th>Gender</th>\n      <th>Height</th>\n      <th>Weight</th>\n      <th>BMI</th>\n      <th>Systolic BP</th>\n      <th>Diastolic BP</th>\n      <th>waist</th>\n      <th>hip</th>\n      <th>Waist/hip ratio</th>\n      <th>Diabetes</th>\n    </tr>\n  </thead>\n  <tbody>\n    <tr>\n      <th>0</th>\n      <td>1</td>\n      <td>193</td>\n      <td>77</td>\n      <td>49</td>\n      <td>3.9</td>\n      <td>19</td>\n      <td>female</td>\n      <td>61</td>\n      <td>119</td>\n      <td>22.5</td>\n      <td>118</td>\n      <td>70</td>\n      <td>32</td>\n      <td>38</td>\n      <td>0.84</td>\n      <td>No diabetes</td>\n    </tr>\n    <tr>\n      <th>1</th>\n      <td>2</td>\n      <td>146</td>\n      <td>79</td>\n      <td>41</td>\n      <td>3.6</td>\n      <td>19</td>\n      <td>female</td>\n      <td>60</td>\n      <td>135</td>\n      <td>26.4</td>\n      <td>108</td>\n      <td>58</td>\n      <td>33</td>\n      <td>40</td>\n      <td>0.83</td>\n      <td>No diabetes</td>\n    </tr>\n    <tr>\n      <th>2</th>\n      <td>3</td>\n      <td>217</td>\n      <td>75</td>\n      <td>54</td>\n      <td>4.0</td>\n      <td>20</td>\n      <td>female</td>\n      <td>67</td>\n      <td>187</td>\n      <td>29.3</td>\n      <td>110</td>\n      <td>72</td>\n      <td>40</td>\n      <td>45</td>\n      <td>0.89</td>\n      <td>No diabetes</td>\n    </tr>\n    <tr>\n      <th>3</th>\n      <td>4</td>\n      <td>226</td>\n      <td>97</td>\n      <td>70</td>\n      <td>3.2</td>\n      <td>20</td>\n      <td>female</td>\n      <td>64</td>\n      <td>114</td>\n      <td>19.6</td>\n      <td>122</td>\n      <td>64</td>\n      <td>31</td>\n      <td>39</td>\n      <td>0.79</td>\n      <td>No diabetes</td>\n    </tr>\n    <tr>\n      <th>4</th>\n      <td>5</td>\n      <td>164</td>\n      <td>91</td>\n      <td>67</td>\n      <td>2.4</td>\n      <td>20</td>\n      <td>female</td>\n      <td>70</td>\n      <td>141</td>\n      <td>20.2</td>\n      <td>122</td>\n      <td>86</td>\n      <td>32</td>\n      <td>39</td>\n      <td>0.82</td>\n      <td>No diabetes</td>\n    </tr>\n  </tbody>\n</table>\n</div>"
     },
     "metadata": {}
    }
   ],
   "execution_count": null
  },
  {
   "cell_type": "markdown",
   "source": "### 3. Exploración de datos ",
   "metadata": {
    "tags": [],
    "cell_id": "00007-a6edf6ca-3069-4b4e-9cf7-01ba69326b0e",
    "deepnote_app_coordinates": {
     "x": 0,
     "y": 42,
     "w": 12,
     "h": 5
    },
    "deepnote_cell_type": "markdown"
   }
  },
  {
   "cell_type": "code",
   "metadata": {
    "tags": [],
    "cell_id": "00008-324932b1-d830-4806-a826-ca264925729f",
    "deepnote_to_be_reexecuted": false,
    "source_hash": "30e1f40b",
    "execution_start": 1640006917035,
    "execution_millis": 3,
    "deepnote_output_heights": [
     97
    ],
    "deepnote_app_coordinates": {
     "x": 0,
     "y": 48,
     "w": 12,
     "h": 5
    },
    "deepnote_cell_type": "code"
   },
   "source": "# ¿Que columnas tienen los datos?\ndiabetes.columns",
   "outputs": [
    {
     "output_type": "execute_result",
     "execution_count": 4,
     "data": {
      "text/plain": "Index(['Patient number', 'Cholesterol', 'Glucose', 'HDL Chol',\n       'Chol/HDL ratio', 'Age', 'Gender', 'Height', 'Weight', 'BMI',\n       'Systolic BP', 'Diastolic BP', 'waist', 'hip', 'Waist/hip ratio',\n       'Diabetes'],\n      dtype='object')"
     },
     "metadata": {}
    }
   ],
   "execution_count": null
  },
  {
   "cell_type": "code",
   "metadata": {
    "tags": [],
    "cell_id": "00009-5d5dce6e-3777-40a3-bc62-cd82a247b527",
    "deepnote_to_be_reexecuted": false,
    "source_hash": "78f693f8",
    "execution_start": 1640006917036,
    "execution_millis": 1436414,
    "deepnote_output_heights": [
     21
    ],
    "deepnote_app_coordinates": {
     "x": 0,
     "y": 54,
     "w": 12,
     "h": 5
    },
    "deepnote_cell_type": "code"
   },
   "source": "# ¿Que tamaño tiene el dataset?\ndiabetes.shape",
   "outputs": [
    {
     "output_type": "execute_result",
     "execution_count": 5,
     "data": {
      "text/plain": "(390, 16)"
     },
     "metadata": {}
    }
   ],
   "execution_count": null
  },
  {
   "cell_type": "code",
   "metadata": {
    "tags": [],
    "cell_id": "00010-479b99bb-0716-460f-a1f1-60206f4506d4",
    "deepnote_to_be_reexecuted": false,
    "source_hash": "1c64ed54",
    "execution_start": 1640006917037,
    "execution_millis": 48,
    "deepnote_app_coordinates": {
     "x": 0,
     "y": 60,
     "w": 12,
     "h": 5
    },
    "deepnote_cell_type": "code"
   },
   "source": "# ¿Hay datos nulos?\ndiabetes.info()",
   "outputs": [
    {
     "name": "stdout",
     "text": "<class 'pandas.core.frame.DataFrame'>\nRangeIndex: 390 entries, 0 to 389\nData columns (total 16 columns):\n #   Column           Non-Null Count  Dtype  \n---  ------           --------------  -----  \n 0   Patient number   390 non-null    int64  \n 1   Cholesterol      390 non-null    int64  \n 2   Glucose          390 non-null    int64  \n 3   HDL Chol         390 non-null    int64  \n 4   Chol/HDL ratio   390 non-null    float64\n 5   Age              390 non-null    int64  \n 6   Gender           390 non-null    object \n 7   Height           390 non-null    int64  \n 8   Weight           390 non-null    int64  \n 9   BMI              390 non-null    float64\n 10  Systolic BP      390 non-null    int64  \n 11  Diastolic BP     390 non-null    int64  \n 12  waist            390 non-null    int64  \n 13  hip              390 non-null    int64  \n 14  Waist/hip ratio  390 non-null    float64\n 15  Diabetes         390 non-null    object \ndtypes: float64(3), int64(11), object(2)\nmemory usage: 48.9+ KB\n",
     "output_type": "stream",
     "data": {}
    }
   ],
   "execution_count": null
  },
  {
   "cell_type": "code",
   "metadata": {
    "tags": [],
    "cell_id": "00011-6559cc65-41c1-42b5-8f04-b776d9a297fd",
    "deepnote_to_be_reexecuted": false,
    "source_hash": "a1bd1e3f",
    "execution_start": 1640006917084,
    "execution_millis": 356,
    "deepnote_app_coordinates": {
     "x": 0,
     "y": 66,
     "w": 12,
     "h": 5
    },
    "deepnote_cell_type": "code"
   },
   "source": "# Como se distribuyen las variables numéricas \ndiabetes.describe()",
   "outputs": [
    {
     "output_type": "execute_result",
     "execution_count": 7,
     "data": {
      "application/vnd.deepnote.dataframe.v3+json": {
       "column_count": 14,
       "row_count": 8,
       "columns": [
        {
         "name": "Patient number",
         "dtype": "float64",
         "stats": {
          "unique_count": 6,
          "nan_count": 0,
          "min": "1.0",
          "max": "390.0",
          "histogram": [
           {
            "bin_start": 1,
            "bin_end": 39.9,
            "count": 1
           },
           {
            "bin_start": 39.9,
            "bin_end": 78.8,
            "count": 0
           },
           {
            "bin_start": 78.8,
            "bin_end": 117.69999999999999,
            "count": 2
           },
           {
            "bin_start": 117.69999999999999,
            "bin_end": 156.6,
            "count": 0
           },
           {
            "bin_start": 156.6,
            "bin_end": 195.5,
            "count": 0
           },
           {
            "bin_start": 195.5,
            "bin_end": 234.39999999999998,
            "count": 2
           },
           {
            "bin_start": 234.39999999999998,
            "bin_end": 273.3,
            "count": 0
           },
           {
            "bin_start": 273.3,
            "bin_end": 312.2,
            "count": 1
           },
           {
            "bin_start": 312.2,
            "bin_end": 351.09999999999997,
            "count": 0
           },
           {
            "bin_start": 351.09999999999997,
            "bin_end": 390,
            "count": 2
           }
          ]
         }
        },
        {
         "name": "Cholesterol",
         "dtype": "float64",
         "stats": {
          "unique_count": 8,
          "nan_count": 0,
          "min": "44.666005049912904",
          "max": "443.0",
          "histogram": [
           {
            "bin_start": 44.666005049912904,
            "bin_end": 84.49940454492162,
            "count": 2
           },
           {
            "bin_start": 84.49940454492162,
            "bin_end": 124.33280403993032,
            "count": 0
           },
           {
            "bin_start": 124.33280403993032,
            "bin_end": 164.16620353493906,
            "count": 0
           },
           {
            "bin_start": 164.16620353493906,
            "bin_end": 203.99960302994776,
            "count": 2
           },
           {
            "bin_start": 203.99960302994776,
            "bin_end": 243.83300252495647,
            "count": 2
           },
           {
            "bin_start": 243.83300252495647,
            "bin_end": 283.6664020199652,
            "count": 0
           },
           {
            "bin_start": 283.6664020199652,
            "bin_end": 323.49980151497385,
            "count": 0
           },
           {
            "bin_start": 323.49980151497385,
            "bin_end": 363.3332010099826,
            "count": 0
           },
           {
            "bin_start": 363.3332010099826,
            "bin_end": 403.1666005049913,
            "count": 1
           },
           {
            "bin_start": 403.1666005049913,
            "bin_end": 443,
            "count": 1
           }
          ]
         }
        },
        {
         "name": "Glucose",
         "dtype": "float64",
         "stats": {
          "unique_count": 8,
          "nan_count": 0,
          "min": "48.0",
          "max": "390.0",
          "histogram": [
           {
            "bin_start": 48,
            "bin_end": 82.2,
            "count": 3
           },
           {
            "bin_start": 82.2,
            "bin_end": 116.4,
            "count": 3
           },
           {
            "bin_start": 116.4,
            "bin_end": 150.60000000000002,
            "count": 0
           },
           {
            "bin_start": 150.60000000000002,
            "bin_end": 184.8,
            "count": 0
           },
           {
            "bin_start": 184.8,
            "bin_end": 219,
            "count": 0
           },
           {
            "bin_start": 219,
            "bin_end": 253.20000000000002,
            "count": 0
           },
           {
            "bin_start": 253.20000000000002,
            "bin_end": 287.40000000000003,
            "count": 0
           },
           {
            "bin_start": 287.40000000000003,
            "bin_end": 321.6,
            "count": 0
           },
           {
            "bin_start": 321.6,
            "bin_end": 355.8,
            "count": 0
           },
           {
            "bin_start": 355.8,
            "bin_end": 390,
            "count": 2
           }
          ]
         }
        },
        {
         "name": "HDL Chol",
         "dtype": "float64",
         "stats": {
          "unique_count": 8,
          "nan_count": 0,
          "min": "12.0",
          "max": "390.0",
          "histogram": [
           {
            "bin_start": 12,
            "bin_end": 49.8,
            "count": 4
           },
           {
            "bin_start": 49.8,
            "bin_end": 87.6,
            "count": 2
           },
           {
            "bin_start": 87.6,
            "bin_end": 125.39999999999999,
            "count": 1
           },
           {
            "bin_start": 125.39999999999999,
            "bin_end": 163.2,
            "count": 0
           },
           {
            "bin_start": 163.2,
            "bin_end": 201,
            "count": 0
           },
           {
            "bin_start": 201,
            "bin_end": 238.79999999999998,
            "count": 0
           },
           {
            "bin_start": 238.79999999999998,
            "bin_end": 276.59999999999997,
            "count": 0
           },
           {
            "bin_start": 276.59999999999997,
            "bin_end": 314.4,
            "count": 0
           },
           {
            "bin_start": 314.4,
            "bin_end": 352.2,
            "count": 0
           },
           {
            "bin_start": 352.2,
            "bin_end": 390,
            "count": 1
           }
          ]
         }
        },
        {
         "name": "Chol/HDL ratio",
         "dtype": "float64",
         "stats": {
          "unique_count": 8,
          "nan_count": 0,
          "min": "1.5",
          "max": "390.0",
          "histogram": [
           {
            "bin_start": 1.5,
            "bin_end": 40.35,
            "count": 7
           },
           {
            "bin_start": 40.35,
            "bin_end": 79.2,
            "count": 0
           },
           {
            "bin_start": 79.2,
            "bin_end": 118.05000000000001,
            "count": 0
           },
           {
            "bin_start": 118.05000000000001,
            "bin_end": 156.9,
            "count": 0
           },
           {
            "bin_start": 156.9,
            "bin_end": 195.75,
            "count": 0
           },
           {
            "bin_start": 195.75,
            "bin_end": 234.60000000000002,
            "count": 0
           },
           {
            "bin_start": 234.60000000000002,
            "bin_end": 273.45,
            "count": 0
           },
           {
            "bin_start": 273.45,
            "bin_end": 312.3,
            "count": 0
           },
           {
            "bin_start": 312.3,
            "bin_end": 351.15000000000003,
            "count": 0
           },
           {
            "bin_start": 351.15000000000003,
            "bin_end": 390,
            "count": 1
           }
          ]
         }
        },
        {
         "name": "Age",
         "dtype": "float64",
         "stats": {
          "unique_count": 8,
          "nan_count": 0,
          "min": "16.435911493008977",
          "max": "390.0",
          "histogram": [
           {
            "bin_start": 16.435911493008977,
            "bin_end": 53.792320343708084,
            "count": 5
           },
           {
            "bin_start": 53.792320343708084,
            "bin_end": 91.14872919440718,
            "count": 1
           },
           {
            "bin_start": 91.14872919440718,
            "bin_end": 128.5051380451063,
            "count": 1
           },
           {
            "bin_start": 128.5051380451063,
            "bin_end": 165.8615468958054,
            "count": 0
           },
           {
            "bin_start": 165.8615468958054,
            "bin_end": 203.2179557465045,
            "count": 0
           },
           {
            "bin_start": 203.2179557465045,
            "bin_end": 240.5743645972036,
            "count": 0
           },
           {
            "bin_start": 240.5743645972036,
            "bin_end": 277.9307734479027,
            "count": 0
           },
           {
            "bin_start": 277.9307734479027,
            "bin_end": 315.2871822986018,
            "count": 0
           },
           {
            "bin_start": 315.2871822986018,
            "bin_end": 352.6435911493009,
            "count": 0
           },
           {
            "bin_start": 352.6435911493009,
            "bin_end": 390,
            "count": 1
           }
          ]
         }
        },
        {
         "name": "Height",
         "dtype": "float64",
         "stats": {
          "unique_count": 8,
          "nan_count": 0,
          "min": "3.9188668811692025",
          "max": "390.0",
          "histogram": [
           {
            "bin_start": 3.9188668811692025,
            "bin_end": 42.52698019305228,
            "count": 1
           },
           {
            "bin_start": 42.52698019305228,
            "bin_end": 81.13509350493537,
            "count": 6
           },
           {
            "bin_start": 81.13509350493537,
            "bin_end": 119.74320681681846,
            "count": 0
           },
           {
            "bin_start": 119.74320681681846,
            "bin_end": 158.35132012870153,
            "count": 0
           },
           {
            "bin_start": 158.35132012870153,
            "bin_end": 196.9594334405846,
            "count": 0
           },
           {
            "bin_start": 196.9594334405846,
            "bin_end": 235.5675467524677,
            "count": 0
           },
           {
            "bin_start": 235.5675467524677,
            "bin_end": 274.1756600643508,
            "count": 0
           },
           {
            "bin_start": 274.1756600643508,
            "bin_end": 312.78377337623385,
            "count": 0
           },
           {
            "bin_start": 312.78377337623385,
            "bin_end": 351.3918866881169,
            "count": 0
           },
           {
            "bin_start": 351.3918866881169,
            "bin_end": 390,
            "count": 1
           }
          ]
         }
        },
        {
         "name": "Weight",
         "dtype": "float64",
         "stats": {
          "unique_count": 8,
          "nan_count": 0,
          "min": "40.40782385372946",
          "max": "390.0",
          "histogram": [
           {
            "bin_start": 40.40782385372946,
            "bin_end": 75.36704146835652,
            "count": 1
           },
           {
            "bin_start": 75.36704146835652,
            "bin_end": 110.32625908298357,
            "count": 1
           },
           {
            "bin_start": 110.32625908298357,
            "bin_end": 145.28547669761065,
            "count": 0
           },
           {
            "bin_start": 145.28547669761065,
            "bin_end": 180.2446943122377,
            "count": 3
           },
           {
            "bin_start": 180.2446943122377,
            "bin_end": 215.20391192686475,
            "count": 1
           },
           {
            "bin_start": 215.20391192686475,
            "bin_end": 250.16312954149183,
            "count": 0
           },
           {
            "bin_start": 250.16312954149183,
            "bin_end": 285.12234715611885,
            "count": 0
           },
           {
            "bin_start": 285.12234715611885,
            "bin_end": 320.0815647707459,
            "count": 0
           },
           {
            "bin_start": 320.0815647707459,
            "bin_end": 355.04078238537295,
            "count": 1
           },
           {
            "bin_start": 355.04078238537295,
            "bin_end": 390,
            "count": 1
           }
          ]
         }
        },
        {
         "name": "BMI",
         "dtype": "float64",
         "stats": {
          "unique_count": 8,
          "nan_count": 0,
          "min": "6.600914984823921",
          "max": "390.0",
          "histogram": [
           {
            "bin_start": 6.600914984823921,
            "bin_end": 44.94082348634153,
            "count": 6
           },
           {
            "bin_start": 44.94082348634153,
            "bin_end": 83.28073198785913,
            "count": 1
           },
           {
            "bin_start": 83.28073198785913,
            "bin_end": 121.62064048937673,
            "count": 0
           },
           {
            "bin_start": 121.62064048937673,
            "bin_end": 159.96054899089435,
            "count": 0
           },
           {
            "bin_start": 159.96054899089435,
            "bin_end": 198.30045749241197,
            "count": 0
           },
           {
            "bin_start": 198.30045749241197,
            "bin_end": 236.64036599392955,
            "count": 0
           },
           {
            "bin_start": 236.64036599392955,
            "bin_end": 274.9802744954472,
            "count": 0
           },
           {
            "bin_start": 274.9802744954472,
            "bin_end": 313.3201829969648,
            "count": 0
           },
           {
            "bin_start": 313.3201829969648,
            "bin_end": 351.66009149848236,
            "count": 0
           },
           {
            "bin_start": 351.66009149848236,
            "bin_end": 390,
            "count": 1
           }
          ]
         }
        },
        {
         "name": "Systolic BP",
         "dtype": "float64",
         "stats": {
          "unique_count": 8,
          "nan_count": 0,
          "min": "22.85952781657076",
          "max": "390.0",
          "histogram": [
           {
            "bin_start": 22.85952781657076,
            "bin_end": 59.57357503491368,
            "count": 1
           },
           {
            "bin_start": 59.57357503491368,
            "bin_end": 96.2876222532566,
            "count": 1
           },
           {
            "bin_start": 96.2876222532566,
            "bin_end": 133.0016694715995,
            "count": 1
           },
           {
            "bin_start": 133.0016694715995,
            "bin_end": 169.71571668994244,
            "count": 3
           },
           {
            "bin_start": 169.71571668994244,
            "bin_end": 206.42976390828537,
            "count": 0
           },
           {
            "bin_start": 206.42976390828537,
            "bin_end": 243.14381112662826,
            "count": 0
           },
           {
            "bin_start": 243.14381112662826,
            "bin_end": 279.8578583449712,
            "count": 1
           },
           {
            "bin_start": 279.8578583449712,
            "bin_end": 316.5719055633141,
            "count": 0
           },
           {
            "bin_start": 316.5719055633141,
            "bin_end": 353.285952781657,
            "count": 0
           },
           {
            "bin_start": 353.285952781657,
            "bin_end": 390,
            "count": 1
           }
          ]
         }
        },
        {
         "name": "Diastolic BP",
         "dtype": "float64",
         "stats": {
          "unique_count": 8,
          "nan_count": 0,
          "min": "13.498191726400647",
          "max": "390.0",
          "histogram": [
           {
            "bin_start": 13.498191726400647,
            "bin_end": 51.14837255376058,
            "count": 2
           },
           {
            "bin_start": 51.14837255376058,
            "bin_end": 88.79855338112051,
            "count": 3
           },
           {
            "bin_start": 88.79855338112051,
            "bin_end": 126.44873420848045,
            "count": 2
           },
           {
            "bin_start": 126.44873420848045,
            "bin_end": 164.09891503584038,
            "count": 0
           },
           {
            "bin_start": 164.09891503584038,
            "bin_end": 201.7490958632003,
            "count": 0
           },
           {
            "bin_start": 201.7490958632003,
            "bin_end": 239.39927669056024,
            "count": 0
           },
           {
            "bin_start": 239.39927669056024,
            "bin_end": 277.0494575179202,
            "count": 0
           },
           {
            "bin_start": 277.0494575179202,
            "bin_end": 314.6996383452801,
            "count": 0
           },
           {
            "bin_start": 314.6996383452801,
            "bin_end": 352.34981917264,
            "count": 0
           },
           {
            "bin_start": 352.34981917264,
            "bin_end": 390,
            "count": 1
           }
          ]
         }
        },
        {
         "name": "waist",
         "dtype": "float64",
         "stats": {
          "unique_count": 8,
          "nan_count": 0,
          "min": "5.760947055379549",
          "max": "390.0",
          "histogram": [
           {
            "bin_start": 5.760947055379549,
            "bin_end": 44.18485234984159,
            "count": 6
           },
           {
            "bin_start": 44.18485234984159,
            "bin_end": 82.60875764430364,
            "count": 1
           },
           {
            "bin_start": 82.60875764430364,
            "bin_end": 121.03266293876568,
            "count": 0
           },
           {
            "bin_start": 121.03266293876568,
            "bin_end": 159.45656823322773,
            "count": 0
           },
           {
            "bin_start": 159.45656823322773,
            "bin_end": 197.88047352768976,
            "count": 0
           },
           {
            "bin_start": 197.88047352768976,
            "bin_end": 236.30437882215182,
            "count": 0
           },
           {
            "bin_start": 236.30437882215182,
            "bin_end": 274.7282841166139,
            "count": 0
           },
           {
            "bin_start": 274.7282841166139,
            "bin_end": 313.15218941107594,
            "count": 0
           },
           {
            "bin_start": 313.15218941107594,
            "bin_end": 351.57609470553797,
            "count": 0
           },
           {
            "bin_start": 351.57609470553797,
            "bin_end": 390,
            "count": 1
           }
          ]
         }
        },
        {
         "name": "hip",
         "dtype": "float64",
         "stats": {
          "unique_count": 8,
          "nan_count": 0,
          "min": "5.664342290255296",
          "max": "390.0",
          "histogram": [
           {
            "bin_start": 5.664342290255296,
            "bin_end": 44.09790806122977,
            "count": 5
           },
           {
            "bin_start": 44.09790806122977,
            "bin_end": 82.53147383220423,
            "count": 2
           },
           {
            "bin_start": 82.53147383220423,
            "bin_end": 120.9650396031787,
            "count": 0
           },
           {
            "bin_start": 120.9650396031787,
            "bin_end": 159.39860537415316,
            "count": 0
           },
           {
            "bin_start": 159.39860537415316,
            "bin_end": 197.83217114512763,
            "count": 0
           },
           {
            "bin_start": 197.83217114512763,
            "bin_end": 236.2657369161021,
            "count": 0
           },
           {
            "bin_start": 236.2657369161021,
            "bin_end": 274.69930268707657,
            "count": 0
           },
           {
            "bin_start": 274.69930268707657,
            "bin_end": 313.13286845805106,
            "count": 0
           },
           {
            "bin_start": 313.13286845805106,
            "bin_end": 351.56643422902556,
            "count": 0
           },
           {
            "bin_start": 351.56643422902556,
            "bin_end": 390,
            "count": 1
           }
          ]
         }
        },
        {
         "name": "Waist/hip ratio",
         "dtype": "float64",
         "stats": {
          "unique_count": 8,
          "nan_count": 0,
          "min": "0.07321223695060713",
          "max": "390.0",
          "histogram": [
           {
            "bin_start": 0.07321223695060713,
            "bin_end": 39.06589101325555,
            "count": 7
           },
           {
            "bin_start": 39.06589101325555,
            "bin_end": 78.0585697895605,
            "count": 0
           },
           {
            "bin_start": 78.0585697895605,
            "bin_end": 117.05124856586544,
            "count": 0
           },
           {
            "bin_start": 117.05124856586544,
            "bin_end": 156.04392734217038,
            "count": 0
           },
           {
            "bin_start": 156.04392734217038,
            "bin_end": 195.03660611847533,
            "count": 0
           },
           {
            "bin_start": 195.03660611847533,
            "bin_end": 234.02928489478026,
            "count": 0
           },
           {
            "bin_start": 234.02928489478026,
            "bin_end": 273.0219636710852,
            "count": 0
           },
           {
            "bin_start": 273.0219636710852,
            "bin_end": 312.01464244739014,
            "count": 0
           },
           {
            "bin_start": 312.01464244739014,
            "bin_end": 351.0073212236951,
            "count": 0
           },
           {
            "bin_start": 351.0073212236951,
            "bin_end": 390,
            "count": 1
           }
          ]
         }
        },
        {
         "name": "_deepnote_index_column",
         "dtype": "object"
        }
       ],
       "rows": [
        {
         "Patient number": 390,
         "Cholesterol": 390,
         "Glucose": 390,
         "HDL Chol": 390,
         "Chol/HDL ratio": 390,
         "Age": 390,
         "Height": 390,
         "Weight": 390,
         "BMI": 390,
         "Systolic BP": 390,
         "Diastolic BP": 390,
         "waist": 390,
         "hip": 390,
         "Waist/hip ratio": 390,
         "_deepnote_index_column": "count"
        },
        {
         "Patient number": 195.5,
         "Cholesterol": 207.23076923076923,
         "Glucose": 107.33846153846154,
         "HDL Chol": 50.266666666666666,
         "Chol/HDL ratio": 4.524615384615385,
         "Age": 46.774358974358975,
         "Height": 65.95128205128205,
         "Weight": 177.40769230769232,
         "BMI": 28.775641025641026,
         "Systolic BP": 137.13333333333333,
         "Diastolic BP": 83.2897435897436,
         "waist": 37.86923076923077,
         "hip": 42.99230769230769,
         "Waist/hip ratio": 0.8813846153846154,
         "_deepnote_index_column": "mean"
        },
        {
         "Patient number": 112.72754765362369,
         "Cholesterol": 44.666005049912904,
         "Glucose": 53.798188133711704,
         "HDL Chol": 17.2790693678118,
         "Chol/HDL ratio": 1.7366336347237168,
         "Age": 16.435911493008977,
         "Height": 3.9188668811692025,
         "Weight": 40.40782385372946,
         "BMI": 6.600914984823921,
         "Systolic BP": 22.85952781657076,
         "Diastolic BP": 13.498191726400647,
         "waist": 5.760947055379549,
         "hip": 5.664342290255296,
         "Waist/hip ratio": 0.07321223695060713,
         "_deepnote_index_column": "std"
        },
        {
         "Patient number": 1,
         "Cholesterol": 78,
         "Glucose": 48,
         "HDL Chol": 12,
         "Chol/HDL ratio": 1.5,
         "Age": 19,
         "Height": 52,
         "Weight": 99,
         "BMI": 15.2,
         "Systolic BP": 90,
         "Diastolic BP": 48,
         "waist": 26,
         "hip": 30,
         "Waist/hip ratio": 0.68,
         "_deepnote_index_column": "min"
        },
        {
         "Patient number": 98.25,
         "Cholesterol": 179,
         "Glucose": 81,
         "HDL Chol": 38,
         "Chol/HDL ratio": 3.2,
         "Age": 34,
         "Height": 63,
         "Weight": 150.25,
         "BMI": 24.1,
         "Systolic BP": 122,
         "Diastolic BP": 75,
         "waist": 33,
         "hip": 39,
         "Waist/hip ratio": 0.83,
         "_deepnote_index_column": "25%"
        },
        {
         "Patient number": 195.5,
         "Cholesterol": 203,
         "Glucose": 90,
         "HDL Chol": 46,
         "Chol/HDL ratio": 4.2,
         "Age": 44.5,
         "Height": 66,
         "Weight": 173,
         "BMI": 27.8,
         "Systolic BP": 136,
         "Diastolic BP": 82,
         "waist": 37,
         "hip": 42,
         "Waist/hip ratio": 0.88,
         "_deepnote_index_column": "50%"
        },
        {
         "Patient number": 292.75,
         "Cholesterol": 229,
         "Glucose": 107.75,
         "HDL Chol": 59,
         "Chol/HDL ratio": 5.4,
         "Age": 60,
         "Height": 69,
         "Weight": 200,
         "BMI": 32.275,
         "Systolic BP": 148,
         "Diastolic BP": 90,
         "waist": 41,
         "hip": 46,
         "Waist/hip ratio": 0.93,
         "_deepnote_index_column": "75%"
        },
        {
         "Patient number": 390,
         "Cholesterol": 443,
         "Glucose": 385,
         "HDL Chol": 120,
         "Chol/HDL ratio": 19.3,
         "Age": 92,
         "Height": 76,
         "Weight": 325,
         "BMI": 55.8,
         "Systolic BP": 250,
         "Diastolic BP": 124,
         "waist": 56,
         "hip": 64,
         "Waist/hip ratio": 1.14,
         "_deepnote_index_column": "max"
        }
       ]
      },
      "text/plain": "       Patient number  Cholesterol     Glucose    HDL Chol  Chol/HDL ratio  \\\ncount      390.000000   390.000000  390.000000  390.000000      390.000000   \nmean       195.500000   207.230769  107.338462   50.266667        4.524615   \nstd        112.727548    44.666005   53.798188   17.279069        1.736634   \nmin          1.000000    78.000000   48.000000   12.000000        1.500000   \n25%         98.250000   179.000000   81.000000   38.000000        3.200000   \n50%        195.500000   203.000000   90.000000   46.000000        4.200000   \n75%        292.750000   229.000000  107.750000   59.000000        5.400000   \nmax        390.000000   443.000000  385.000000  120.000000       19.300000   \n\n              Age      Height      Weight         BMI  Systolic BP  \\\ncount  390.000000  390.000000  390.000000  390.000000   390.000000   \nmean    46.774359   65.951282  177.407692   28.775641   137.133333   \nstd     16.435911    3.918867   40.407824    6.600915    22.859528   \nmin     19.000000   52.000000   99.000000   15.200000    90.000000   \n25%     34.000000   63.000000  150.250000   24.100000   122.000000   \n50%     44.500000   66.000000  173.000000   27.800000   136.000000   \n75%     60.000000   69.000000  200.000000   32.275000   148.000000   \nmax     92.000000   76.000000  325.000000   55.800000   250.000000   \n\n       Diastolic BP       waist         hip  Waist/hip ratio  \ncount    390.000000  390.000000  390.000000       390.000000  \nmean      83.289744   37.869231   42.992308         0.881385  \nstd       13.498192    5.760947    5.664342         0.073212  \nmin       48.000000   26.000000   30.000000         0.680000  \n25%       75.000000   33.000000   39.000000         0.830000  \n50%       82.000000   37.000000   42.000000         0.880000  \n75%       90.000000   41.000000   46.000000         0.930000  \nmax      124.000000   56.000000   64.000000         1.140000  ",
      "text/html": "<div>\n<style scoped>\n    .dataframe tbody tr th:only-of-type {\n        vertical-align: middle;\n    }\n\n    .dataframe tbody tr th {\n        vertical-align: top;\n    }\n\n    .dataframe thead th {\n        text-align: right;\n    }\n</style>\n<table border=\"1\" class=\"dataframe\">\n  <thead>\n    <tr style=\"text-align: right;\">\n      <th></th>\n      <th>Patient number</th>\n      <th>Cholesterol</th>\n      <th>Glucose</th>\n      <th>HDL Chol</th>\n      <th>Chol/HDL ratio</th>\n      <th>Age</th>\n      <th>Height</th>\n      <th>Weight</th>\n      <th>BMI</th>\n      <th>Systolic BP</th>\n      <th>Diastolic BP</th>\n      <th>waist</th>\n      <th>hip</th>\n      <th>Waist/hip ratio</th>\n    </tr>\n  </thead>\n  <tbody>\n    <tr>\n      <th>count</th>\n      <td>390.000000</td>\n      <td>390.000000</td>\n      <td>390.000000</td>\n      <td>390.000000</td>\n      <td>390.000000</td>\n      <td>390.000000</td>\n      <td>390.000000</td>\n      <td>390.000000</td>\n      <td>390.000000</td>\n      <td>390.000000</td>\n      <td>390.000000</td>\n      <td>390.000000</td>\n      <td>390.000000</td>\n      <td>390.000000</td>\n    </tr>\n    <tr>\n      <th>mean</th>\n      <td>195.500000</td>\n      <td>207.230769</td>\n      <td>107.338462</td>\n      <td>50.266667</td>\n      <td>4.524615</td>\n      <td>46.774359</td>\n      <td>65.951282</td>\n      <td>177.407692</td>\n      <td>28.775641</td>\n      <td>137.133333</td>\n      <td>83.289744</td>\n      <td>37.869231</td>\n      <td>42.992308</td>\n      <td>0.881385</td>\n    </tr>\n    <tr>\n      <th>std</th>\n      <td>112.727548</td>\n      <td>44.666005</td>\n      <td>53.798188</td>\n      <td>17.279069</td>\n      <td>1.736634</td>\n      <td>16.435911</td>\n      <td>3.918867</td>\n      <td>40.407824</td>\n      <td>6.600915</td>\n      <td>22.859528</td>\n      <td>13.498192</td>\n      <td>5.760947</td>\n      <td>5.664342</td>\n      <td>0.073212</td>\n    </tr>\n    <tr>\n      <th>min</th>\n      <td>1.000000</td>\n      <td>78.000000</td>\n      <td>48.000000</td>\n      <td>12.000000</td>\n      <td>1.500000</td>\n      <td>19.000000</td>\n      <td>52.000000</td>\n      <td>99.000000</td>\n      <td>15.200000</td>\n      <td>90.000000</td>\n      <td>48.000000</td>\n      <td>26.000000</td>\n      <td>30.000000</td>\n      <td>0.680000</td>\n    </tr>\n    <tr>\n      <th>25%</th>\n      <td>98.250000</td>\n      <td>179.000000</td>\n      <td>81.000000</td>\n      <td>38.000000</td>\n      <td>3.200000</td>\n      <td>34.000000</td>\n      <td>63.000000</td>\n      <td>150.250000</td>\n      <td>24.100000</td>\n      <td>122.000000</td>\n      <td>75.000000</td>\n      <td>33.000000</td>\n      <td>39.000000</td>\n      <td>0.830000</td>\n    </tr>\n    <tr>\n      <th>50%</th>\n      <td>195.500000</td>\n      <td>203.000000</td>\n      <td>90.000000</td>\n      <td>46.000000</td>\n      <td>4.200000</td>\n      <td>44.500000</td>\n      <td>66.000000</td>\n      <td>173.000000</td>\n      <td>27.800000</td>\n      <td>136.000000</td>\n      <td>82.000000</td>\n      <td>37.000000</td>\n      <td>42.000000</td>\n      <td>0.880000</td>\n    </tr>\n    <tr>\n      <th>75%</th>\n      <td>292.750000</td>\n      <td>229.000000</td>\n      <td>107.750000</td>\n      <td>59.000000</td>\n      <td>5.400000</td>\n      <td>60.000000</td>\n      <td>69.000000</td>\n      <td>200.000000</td>\n      <td>32.275000</td>\n      <td>148.000000</td>\n      <td>90.000000</td>\n      <td>41.000000</td>\n      <td>46.000000</td>\n      <td>0.930000</td>\n    </tr>\n    <tr>\n      <th>max</th>\n      <td>390.000000</td>\n      <td>443.000000</td>\n      <td>385.000000</td>\n      <td>120.000000</td>\n      <td>19.300000</td>\n      <td>92.000000</td>\n      <td>76.000000</td>\n      <td>325.000000</td>\n      <td>55.800000</td>\n      <td>250.000000</td>\n      <td>124.000000</td>\n      <td>56.000000</td>\n      <td>64.000000</td>\n      <td>1.140000</td>\n    </tr>\n  </tbody>\n</table>\n</div>"
     },
     "metadata": {}
    }
   ],
   "execution_count": null
  },
  {
   "cell_type": "code",
   "metadata": {
    "tags": [],
    "cell_id": "00011-0f2efb13-a601-49ee-a73f-ea85aaf1485e",
    "deepnote_to_be_reexecuted": false,
    "source_hash": "8272d436",
    "execution_start": 1640006917275,
    "execution_millis": 168,
    "deepnote_app_coordinates": {
     "x": 0,
     "y": 72,
     "w": 12,
     "h": 5
    },
    "deepnote_cell_type": "code"
   },
   "source": "# ¿Como se comportan las variables categoricas?\ndiabetes.describe(include=[\"O\"])",
   "outputs": [
    {
     "output_type": "execute_result",
     "execution_count": 8,
     "data": {
      "application/vnd.deepnote.dataframe.v3+json": {
       "column_count": 2,
       "row_count": 4,
       "columns": [
        {
         "name": "Gender",
         "dtype": "object",
         "stats": {
          "unique_count": 4,
          "nan_count": 0,
          "categories": [
           {
            "name": "390",
            "count": 1
           },
           {
            "name": "2",
            "count": 1
           },
           {
            "name": "2 others",
            "count": 2
           }
          ]
         }
        },
        {
         "name": "Diabetes",
         "dtype": "object",
         "stats": {
          "unique_count": 4,
          "nan_count": 0,
          "categories": [
           {
            "name": "390",
            "count": 1
           },
           {
            "name": "2",
            "count": 1
           },
           {
            "name": "2 others",
            "count": 2
           }
          ]
         }
        },
        {
         "name": "_deepnote_index_column",
         "dtype": "object"
        }
       ],
       "rows": [
        {
         "Gender": "390",
         "Diabetes": "390",
         "_deepnote_index_column": "count"
        },
        {
         "Gender": "2",
         "Diabetes": "2",
         "_deepnote_index_column": "unique"
        },
        {
         "Gender": "female",
         "Diabetes": "No diabetes",
         "_deepnote_index_column": "top"
        },
        {
         "Gender": "228",
         "Diabetes": "330",
         "_deepnote_index_column": "freq"
        }
       ]
      },
      "text/plain": "        Gender     Diabetes\ncount      390          390\nunique       2            2\ntop     female  No diabetes\nfreq       228          330",
      "text/html": "<div>\n<style scoped>\n    .dataframe tbody tr th:only-of-type {\n        vertical-align: middle;\n    }\n\n    .dataframe tbody tr th {\n        vertical-align: top;\n    }\n\n    .dataframe thead th {\n        text-align: right;\n    }\n</style>\n<table border=\"1\" class=\"dataframe\">\n  <thead>\n    <tr style=\"text-align: right;\">\n      <th></th>\n      <th>Gender</th>\n      <th>Diabetes</th>\n    </tr>\n  </thead>\n  <tbody>\n    <tr>\n      <th>count</th>\n      <td>390</td>\n      <td>390</td>\n    </tr>\n    <tr>\n      <th>unique</th>\n      <td>2</td>\n      <td>2</td>\n    </tr>\n    <tr>\n      <th>top</th>\n      <td>female</td>\n      <td>No diabetes</td>\n    </tr>\n    <tr>\n      <th>freq</th>\n      <td>228</td>\n      <td>330</td>\n    </tr>\n  </tbody>\n</table>\n</div>"
     },
     "metadata": {}
    }
   ],
   "execution_count": null
  },
  {
   "cell_type": "markdown",
   "source": "### 3.1 Procesamiento de datos",
   "metadata": {
    "tags": [],
    "cell_id": "00013-cba962d2-df30-4e3e-900a-96b4c4b7143d",
    "deepnote_app_coordinates": {
     "x": 0,
     "y": 78,
     "w": 12,
     "h": 5
    },
    "deepnote_cell_type": "markdown"
   }
  },
  {
   "cell_type": "code",
   "metadata": {
    "tags": [],
    "cell_id": "00012-de3acedf-5403-45af-ab48-817057918770",
    "deepnote_to_be_reexecuted": false,
    "source_hash": "89c5ed2d",
    "execution_start": 1640006917304,
    "execution_millis": 1,
    "deepnote_app_coordinates": {
     "x": 0,
     "y": 84,
     "w": 12,
     "h": 5
    },
    "deepnote_cell_type": "code"
   },
   "source": "# Renombramos algunas columnas\ndiabetes = diabetes.rename(columns={\"Cholesterol\":\"Colesterol\",\n                                    \"Glucose\":\"Glucosa\",\n                                    \"HDL Chol\": \"HDL colesterol\",\n                                    \"Age\":\"Edad\",\n                                    \"Gender\":\"Género\",\n                                    \"Height\":\"Altura\",\n                                    \"Weight\":\"Peso\",\n                                    \"Systolic BP\":\"Presión arterial alta\",\n                                    \"Diastolic BP\": \"Presión arterial baja\",\n                                    \"waist\":\"Cintura\",\n                                    \"hip\":\"Cadera\"})",
   "outputs": [],
   "execution_count": null
  },
  {
   "cell_type": "code",
   "metadata": {
    "tags": [],
    "cell_id": "00013-74911b90-8354-4edb-98f7-39883e51fcbc",
    "deepnote_to_be_reexecuted": false,
    "source_hash": "31a90e6e",
    "execution_start": 1640006917305,
    "execution_millis": 140,
    "deepnote_output_heights": [
     97
    ],
    "deepnote_app_coordinates": {
     "x": 0,
     "y": 90,
     "w": 12,
     "h": 5
    },
    "deepnote_cell_type": "code"
   },
   "source": "# Observamos el cambio de los nombres de las columnas\ndiabetes.columns",
   "outputs": [
    {
     "output_type": "execute_result",
     "execution_count": 10,
     "data": {
      "text/plain": "Index(['Patient number', 'Colesterol', 'Glucosa', 'HDL colesterol',\n       'Chol/HDL ratio', 'Edad', 'Género', 'Altura', 'Peso', 'BMI',\n       'Presión arterial alta', 'Presión arterial baja', 'Cintura', 'Cadera',\n       'Waist/hip ratio', 'Diabetes'],\n      dtype='object')"
     },
     "metadata": {}
    }
   ],
   "execution_count": null
  },
  {
   "cell_type": "code",
   "metadata": {
    "tags": [],
    "cell_id": "00015-900ecf17-af76-4fa9-9a2c-c19610f61d60",
    "deepnote_to_be_reexecuted": false,
    "source_hash": "f932f8c",
    "execution_start": 1640006917306,
    "execution_millis": 1,
    "deepnote_app_coordinates": {
     "x": 0,
     "y": 96,
     "w": 12,
     "h": 5
    },
    "deepnote_cell_type": "code"
   },
   "source": "# Procedemos a eliminar columnas\ndiabetes = diabetes.drop([\"Patient number\",\n                          \"Chol/HDL ratio\",\n                          \"BMI\",\n                          \"Waist/hip ratio\"], axis = 1)",
   "outputs": [],
   "execution_count": null
  },
  {
   "cell_type": "markdown",
   "source": "### 3.2 Estudio de la variable diabetes",
   "metadata": {
    "tags": [],
    "cell_id": "00017-3ffe93eb-d48c-4409-86b9-2e65ed11f3ff",
    "deepnote_app_coordinates": {
     "x": 0,
     "y": 102,
     "w": 12,
     "h": 5
    },
    "deepnote_cell_type": "markdown"
   }
  },
  {
   "cell_type": "code",
   "metadata": {
    "tags": [],
    "cell_id": "00012-b6aa5ebf-731e-44c2-bbea-c2a60bad7f32",
    "deepnote_to_be_reexecuted": false,
    "source_hash": "8cdb5eed",
    "execution_start": 1640006917355,
    "execution_millis": 207,
    "deepnote_output_heights": [
     null,
     335
    ],
    "deepnote_app_coordinates": {
     "x": 0,
     "y": 108,
     "w": 12,
     "h": 5
    },
    "deepnote_cell_type": "code"
   },
   "source": "# Gráficamos la variable dependiente\nplt.figure(figsize=(8,5))\nsns.countplot(diabetes['Diabetes'])\nplt.title(\"Personas con o sin diabetes\")\nplt.xlabel(\"Diabetes\")\nplt.show()",
   "outputs": [
    {
     "name": "stderr",
     "text": "/shared-libs/python3.9/py/lib/python3.9/site-packages/seaborn/_decorators.py:36: FutureWarning: Pass the following variable as a keyword arg: x. From version 0.12, the only valid positional argument will be `data`, and passing other arguments without an explicit keyword will result in an error or misinterpretation.\n  warnings.warn(\n",
     "output_type": "stream",
     "data": {}
    },
    {
     "data": {
      "text/plain": "<Figure size 576x360 with 1 Axes>",
      "image/png": "[encoded data removed]"
     },
     "metadata": {
      "needs_background": "light",
      "image/png": {
       "width": 500,
       "height": 333
      }
     },
     "output_type": "display_data"
    }
   ],
   "execution_count": null
  },
  {
   "cell_type": "code",
   "metadata": {
    "tags": [],
    "cell_id": "00020-ec05e2f7-c942-4851-9adc-d4ebedfe11fe",
    "deepnote_to_be_reexecuted": false,
    "source_hash": "c96bd99e",
    "execution_start": 1640006917607,
    "execution_millis": 225,
    "deepnote_output_heights": [
     335
    ],
    "deepnote_app_coordinates": {
     "x": 0,
     "y": 114,
     "w": 12,
     "h": 5
    },
    "deepnote_cell_type": "code"
   },
   "source": "# Edad en función del género\nplt.figure(figsize=(8,5))\nsns.barplot(data = diabetes, x = \"Diabetes\", y = \"Edad\", \n            hue = \"Género\", palette = \"rocket\", ci = None)\nplt.title(\"Edad en función del género\")\nplt.xlabel(\"Diabetes\")\nplt.ylabel(\"Edad\")\nplt.show()",
   "outputs": [
    {
     "data": {
      "text/plain": "<Figure size 576x360 with 1 Axes>",
      "image/png": "[encoded data removed]"
     },
     "metadata": {
      "needs_background": "light",
      "image/png": {
       "width": 494,
       "height": 333
      }
     },
     "output_type": "display_data"
    }
   ],
   "execution_count": null
  },
  {
   "cell_type": "code",
   "metadata": {
    "tags": [],
    "cell_id": "00021-4b89d8e6-15c7-4dda-abda-32b4a19d132c",
    "deepnote_to_be_reexecuted": false,
    "source_hash": "28aa3391",
    "execution_start": 1640006917887,
    "execution_millis": 268,
    "deepnote_output_heights": [
     335
    ],
    "deepnote_app_coordinates": {
     "x": 0,
     "y": 120,
     "w": 12,
     "h": 5
    },
    "deepnote_cell_type": "code"
   },
   "source": "# Colesterol en función del género\nplt.figure(figsize=(8,5))\nsns.barplot(data = diabetes, x = \"Diabetes\", y = \"Colesterol\", \n            hue = \"Género\", palette = \"crest\", ci = None)\nplt.title(\"Colesterol en función del género\")\nplt.xlabel(\"Diabetes\")\nplt.ylabel(\"Colesterol\")\nplt.show()",
   "outputs": [
    {
     "data": {
      "text/plain": "<Figure size 576x360 with 1 Axes>",
      "image/png": "[encoded data removed]"
     },
     "metadata": {
      "needs_background": "light",
      "image/png": {
       "width": 500,
       "height": 333
      }
     },
     "output_type": "display_data"
    }
   ],
   "execution_count": null
  },
  {
   "cell_type": "code",
   "metadata": {
    "tags": [],
    "cell_id": "00018-c90d4bfd-26ac-4b4d-9121-3b9247bfc0d8",
    "deepnote_to_be_reexecuted": false,
    "source_hash": "18a262ee",
    "execution_start": 1640006918207,
    "execution_millis": 213,
    "deepnote_output_heights": [
     335
    ],
    "deepnote_app_coordinates": {
     "x": 0,
     "y": 126,
     "w": 12,
     "h": 5
    },
    "deepnote_cell_type": "code"
   },
   "source": "# Glucosa en función del género\nplt.figure(figsize=(8,5))\nsns.barplot(data = diabetes, x = \"Diabetes\", y = \"Glucosa\", \n            hue = \"Género\", palette = \"magma\", ci = None)\nplt.title(\"Glucosa en función del género\")\nplt.xlabel(\"Diabetes\")\nplt.ylabel(\"Glucosa\")\nplt.show()",
   "outputs": [
    {
     "data": {
      "text/plain": "<Figure size 576x360 with 1 Axes>",
      "image/png": "[encoded data removed]"
     },
     "metadata": {
      "needs_background": "light",
      "image/png": {
       "width": 500,
       "height": 333
      }
     },
     "output_type": "display_data"
    }
   ],
   "execution_count": null
  },
  {
   "cell_type": "code",
   "metadata": {
    "tags": [],
    "cell_id": "00019-dbb2a922-c549-434d-beb8-915bf2b30adf",
    "deepnote_to_be_reexecuted": false,
    "source_hash": "a83ec70f",
    "execution_start": 1640006918428,
    "execution_millis": 261,
    "deepnote_output_heights": [
     335
    ],
    "deepnote_app_coordinates": {
     "x": 0,
     "y": 132,
     "w": 12,
     "h": 5
    },
    "deepnote_cell_type": "code"
   },
   "source": "# HDL colesterol en función del género\nplt.figure(figsize=(8,5))\nsns.barplot(data = diabetes, x = \"Diabetes\", y = \"HDL colesterol\", \n            hue = \"Género\", palette = \"cubehelix\", ci = None)\nplt.title(\"HDL colesterol en función del género\")\nplt.xlabel(\"Diabetes\")\nplt.ylabel(\"HDL colesterol\")\nplt.show()",
   "outputs": [
    {
     "data": {
      "text/plain": "<Figure size 576x360 with 1 Axes>",
      "image/png": "[encoded data removed]"
     },
     "metadata": {
      "needs_background": "light",
      "image/png": {
       "width": 494,
       "height": 333
      }
     },
     "output_type": "display_data"
    }
   ],
   "execution_count": null
  },
  {
   "cell_type": "code",
   "metadata": {
    "tags": [],
    "cell_id": "00020-9b282082-0555-4ace-879f-2b007280c066",
    "deepnote_to_be_reexecuted": false,
    "source_hash": "8b237d7",
    "execution_start": 1640006918727,
    "execution_millis": 221,
    "deepnote_output_heights": [
     335
    ],
    "deepnote_app_coordinates": {
     "x": 0,
     "y": 138,
     "w": 12,
     "h": 5
    },
    "deepnote_cell_type": "code"
   },
   "source": "# Peso en función del género\nplt.figure(figsize=(8,5))\nsns.barplot(data = diabetes, x = \"Diabetes\", y = \"Peso\", \n            hue = \"Género\", palette = \"YlOrBr\", ci = None)\nplt.title(\"Peso en función del género\")\nplt.xlabel(\"Diabetes\")\nplt.ylabel(\"Peso\")\nplt.show()",
   "outputs": [
    {
     "data": {
      "text/plain": "<Figure size 576x360 with 1 Axes>",
      "image/png": "[encoded data removed]"
     },
     "metadata": {
      "needs_background": "light",
      "image/png": {
       "width": 500,
       "height": 333
      }
     },
     "output_type": "display_data"
    }
   ],
   "execution_count": null
  },
  {
   "cell_type": "markdown",
   "source": "### 4. Tratamiento de los datos para modelación\nA continuación convertimos la variable diabletes en dummy para posteriomente crear el modelo de clasificación.",
   "metadata": {
    "tags": [],
    "cell_id": "00022-620ac346-368d-4c5c-82da-7d2ec80a5a80",
    "deepnote_app_coordinates": {
     "x": 0,
     "y": 144,
     "w": 12,
     "h": 5
    },
    "deepnote_cell_type": "markdown"
   }
  },
  {
   "cell_type": "code",
   "metadata": {
    "tags": [],
    "cell_id": "00025-d9ca54a9-72b6-447c-b536-27bd8a7969e5",
    "deepnote_to_be_reexecuted": false,
    "source_hash": "d6693655",
    "execution_start": 1640006918999,
    "execution_millis": 1,
    "deepnote_app_coordinates": {
     "x": 0,
     "y": 150,
     "w": 12,
     "h": 5
    },
    "deepnote_cell_type": "code"
   },
   "source": "# Creación de la variable dummy\ndiabetes[\"Diabetes\"] = diabetes.Diabetes.map({\"No diabetes\":0,\n                                              \"Diabetes\":1})\ndiabetes[\"Género\"] = diabetes.Género.map({\"female\":0,\n                                          \"male\":1})\n",
   "outputs": [],
   "execution_count": null
  },
  {
   "cell_type": "code",
   "metadata": {
    "tags": [],
    "cell_id": "00026-bec50bce-b84d-4663-b140-c528c678b7b7",
    "deepnote_to_be_reexecuted": false,
    "source_hash": "3e4dd807",
    "execution_start": 1640006919000,
    "execution_millis": 2,
    "deepnote_output_heights": [
     59
    ],
    "deepnote_app_coordinates": {
     "x": 0,
     "y": 156,
     "w": 12,
     "h": 5
    },
    "deepnote_cell_type": "code"
   },
   "source": "# Observamos nuevamente la información de nuestras variables\ndiabetes.info()",
   "outputs": [
    {
     "name": "stdout",
     "text": "<class 'pandas.core.frame.DataFrame'>\nRangeIndex: 390 entries, 0 to 389\nData columns (total 12 columns):\n #   Column                 Non-Null Count  Dtype\n---  ------                 --------------  -----\n 0   Colesterol             390 non-null    int64\n 1   Glucosa                390 non-null    int64\n 2   HDL colesterol         390 non-null    int64\n 3   Edad                   390 non-null    int64\n 4   Género                 390 non-null    int64\n 5   Altura                 390 non-null    int64\n 6   Peso                   390 non-null    int64\n 7   Presión arterial alta  390 non-null    int64\n 8   Presión arterial baja  390 non-null    int64\n 9   Cintura                390 non-null    int64\n 10  Cadera                 390 non-null    int64\n 11  Diabetes               390 non-null    int64\ndtypes: int64(12)\nmemory usage: 36.7 KB\n",
     "output_type": "stream",
     "data": {}
    }
   ],
   "execution_count": null
  },
  {
   "cell_type": "code",
   "metadata": {
    "tags": [],
    "cell_id": "00027-728b3583-7f1d-416d-b6dc-ba1818fff916",
    "deepnote_to_be_reexecuted": false,
    "source_hash": "5369c726",
    "execution_start": 1640006919001,
    "execution_millis": 108,
    "deepnote_app_coordinates": {
     "x": 0,
     "y": 162,
     "w": 12,
     "h": 5
    },
    "deepnote_cell_type": "code"
   },
   "source": "# Matriz de correlación\ndiabetes.corr()",
   "outputs": [
    {
     "output_type": "execute_result",
     "execution_count": 20,
     "data": {
      "application/vnd.deepnote.dataframe.v3+json": {
       "column_count": 12,
       "row_count": 12,
       "columns": [
        {
         "name": "Colesterol",
         "dtype": "float64",
         "stats": {
          "unique_count": 12,
          "nan_count": 0,
          "min": "-0.06360077256193461",
          "max": "1.0",
          "histogram": [
           {
            "bin_start": -0.06360077256193461,
            "bin_end": 0.04275930469425884,
            "count": 2
           },
           {
            "bin_start": 0.04275930469425884,
            "bin_end": 0.1491193819504523,
            "count": 3
           },
           {
            "bin_start": 0.1491193819504523,
            "bin_end": 0.2554794592066457,
            "count": 6
           },
           {
            "bin_start": 0.2554794592066457,
            "bin_end": 0.3618395364628392,
            "count": 0
           },
           {
            "bin_start": 0.3618395364628392,
            "bin_end": 0.4681996137190326,
            "count": 0
           },
           {
            "bin_start": 0.4681996137190326,
            "bin_end": 0.5745596909752261,
            "count": 0
           },
           {
            "bin_start": 0.5745596909752261,
            "bin_end": 0.6809197682314195,
            "count": 0
           },
           {
            "bin_start": 0.6809197682314195,
            "bin_end": 0.787279845487613,
            "count": 0
           },
           {
            "bin_start": 0.787279845487613,
            "bin_end": 0.8936399227438064,
            "count": 0
           },
           {
            "bin_start": 0.8936399227438064,
            "bin_end": 1,
            "count": 1
           }
          ]
         }
        },
        {
         "name": "Glucosa",
         "dtype": "float64",
         "stats": {
          "unique_count": 12,
          "nan_count": 0,
          "min": "-0.1583019646515296",
          "max": "1.0",
          "histogram": [
           {
            "bin_start": -0.1583019646515296,
            "bin_end": -0.04247176818637664,
            "count": 1
           },
           {
            "bin_start": -0.04247176818637664,
            "bin_end": 0.07335842827877631,
            "count": 1
           },
           {
            "bin_start": 0.07335842827877631,
            "bin_end": 0.18918862474392925,
            "count": 5
           },
           {
            "bin_start": 0.18918862474392925,
            "bin_end": 0.3050188212090822,
            "count": 3
           },
           {
            "bin_start": 0.3050188212090822,
            "bin_end": 0.4208490176742352,
            "count": 0
           },
           {
            "bin_start": 0.4208490176742352,
            "bin_end": 0.5366792141393881,
            "count": 0
           },
           {
            "bin_start": 0.5366792141393881,
            "bin_end": 0.6525094106045412,
            "count": 0
           },
           {
            "bin_start": 0.6525094106045412,
            "bin_end": 0.7683396070696941,
            "count": 1
           },
           {
            "bin_start": 0.7683396070696941,
            "bin_end": 0.8841698035348471,
            "count": 0
           },
           {
            "bin_start": 0.8841698035348471,
            "bin_end": 1,
            "count": 1
           }
          ]
         }
        },
        {
         "name": "HDL colesterol",
         "dtype": "float64",
         "stats": {
          "unique_count": 12,
          "nan_count": 0,
          "min": "-0.29188280320025006",
          "max": "1.0",
          "histogram": [
           {
            "bin_start": -0.29188280320025006,
            "bin_end": -0.16269452288022507,
            "count": 3
           },
           {
            "bin_start": -0.16269452288022507,
            "bin_end": -0.03350624256020007,
            "count": 4
           },
           {
            "bin_start": -0.03350624256020007,
            "bin_end": 0.09568203775982492,
            "count": 3
           },
           {
            "bin_start": 0.09568203775982492,
            "bin_end": 0.22487031807984992,
            "count": 1
           },
           {
            "bin_start": 0.22487031807984992,
            "bin_end": 0.35405859839987497,
            "count": 0
           },
           {
            "bin_start": 0.35405859839987497,
            "bin_end": 0.4832468787198999,
            "count": 0
           },
           {
            "bin_start": 0.4832468787198999,
            "bin_end": 0.6124351590399248,
            "count": 0
           },
           {
            "bin_start": 0.6124351590399248,
            "bin_end": 0.7416234393599499,
            "count": 0
           },
           {
            "bin_start": 0.7416234393599499,
            "bin_end": 0.870811719679975,
            "count": 0
           },
           {
            "bin_start": 0.870811719679975,
            "bin_end": 1,
            "count": 1
           }
          ]
         }
        },
        {
         "name": "Edad",
         "dtype": "float64",
         "stats": {
          "unique_count": 12,
          "nan_count": 0,
          "min": "-0.08222878126312079",
          "max": "1.0",
          "histogram": [
           {
            "bin_start": -0.08222878126312079,
            "bin_end": 0.02599409686319129,
            "count": 3
           },
           {
            "bin_start": 0.02599409686319129,
            "bin_end": 0.13421697498950336,
            "count": 3
           },
           {
            "bin_start": 0.13421697498950336,
            "bin_end": 0.24243985311581545,
            "count": 1
           },
           {
            "bin_start": 0.24243985311581545,
            "bin_end": 0.35066273124212755,
            "count": 3
           },
           {
            "bin_start": 0.35066273124212755,
            "bin_end": 0.45888560936843964,
            "count": 1
           },
           {
            "bin_start": 0.45888560936843964,
            "bin_end": 0.5671084874947516,
            "count": 0
           },
           {
            "bin_start": 0.5671084874947516,
            "bin_end": 0.6753313656210638,
            "count": 0
           },
           {
            "bin_start": 0.6753313656210638,
            "bin_end": 0.7835542437473758,
            "count": 0
           },
           {
            "bin_start": 0.7835542437473758,
            "bin_end": 0.8917771218736879,
            "count": 0
           },
           {
            "bin_start": 0.8917771218736879,
            "bin_end": 1,
            "count": 1
           }
          ]
         }
        },
        {
         "name": "Género",
         "dtype": "float64",
         "stats": {
          "unique_count": 12,
          "nan_count": 0,
          "min": "-0.27202792187917735",
          "max": "1.0",
          "histogram": [
           {
            "bin_start": -0.27202792187917735,
            "bin_end": -0.1448251296912596,
            "count": 1
           },
           {
            "bin_start": -0.1448251296912596,
            "bin_end": -0.017622337503341856,
            "count": 3
           },
           {
            "bin_start": -0.017622337503341856,
            "bin_end": 0.10958045468457589,
            "count": 6
           },
           {
            "bin_start": 0.10958045468457589,
            "bin_end": 0.23678324687249364,
            "count": 0
           },
           {
            "bin_start": 0.23678324687249364,
            "bin_end": 0.3639860390604114,
            "count": 0
           },
           {
            "bin_start": 0.3639860390604114,
            "bin_end": 0.4911888312483291,
            "count": 0
           },
           {
            "bin_start": 0.4911888312483291,
            "bin_end": 0.6183916234362469,
            "count": 0
           },
           {
            "bin_start": 0.6183916234362469,
            "bin_end": 0.7455944156241646,
            "count": 1
           },
           {
            "bin_start": 0.7455944156241646,
            "bin_end": 0.8727972078120824,
            "count": 0
           },
           {
            "bin_start": 0.8727972078120824,
            "bin_end": 1,
            "count": 1
           }
          ]
         }
        },
        {
         "name": "Altura",
         "dtype": "float64",
         "stats": {
          "unique_count": 12,
          "nan_count": 0,
          "min": "-0.09590635534368201",
          "max": "1.0",
          "histogram": [
           {
            "bin_start": -0.09590635534368201,
            "bin_end": 0.013684280190686196,
            "count": 5
           },
           {
            "bin_start": 0.013684280190686196,
            "bin_end": 0.1232749157250544,
            "count": 4
           },
           {
            "bin_start": 0.1232749157250544,
            "bin_end": 0.2328655512594226,
            "count": 0
           },
           {
            "bin_start": 0.2328655512594226,
            "bin_end": 0.3424561867937908,
            "count": 1
           },
           {
            "bin_start": 0.3424561867937908,
            "bin_end": 0.452046822328159,
            "count": 0
           },
           {
            "bin_start": 0.452046822328159,
            "bin_end": 0.5616374578625273,
            "count": 0
           },
           {
            "bin_start": 0.5616374578625273,
            "bin_end": 0.6712280933968955,
            "count": 0
           },
           {
            "bin_start": 0.6712280933968955,
            "bin_end": 0.7808187289312637,
            "count": 1
           },
           {
            "bin_start": 0.7808187289312637,
            "bin_end": 0.8904093644656319,
            "count": 0
           },
           {
            "bin_start": 0.8904093644656319,
            "bin_end": 1,
            "count": 1
           }
          ]
         }
        },
        {
         "name": "Peso",
         "dtype": "float64",
         "stats": {
          "unique_count": 12,
          "nan_count": 0,
          "min": "-0.29188280320025006",
          "max": "1.0",
          "histogram": [
           {
            "bin_start": -0.29188280320025006,
            "bin_end": -0.16269452288022507,
            "count": 1
           },
           {
            "bin_start": -0.16269452288022507,
            "bin_end": -0.03350624256020007,
            "count": 1
           },
           {
            "bin_start": -0.03350624256020007,
            "bin_end": 0.09568203775982492,
            "count": 2
           },
           {
            "bin_start": 0.09568203775982492,
            "bin_end": 0.22487031807984992,
            "count": 4
           },
           {
            "bin_start": 0.22487031807984992,
            "bin_end": 0.35405859839987497,
            "count": 1
           },
           {
            "bin_start": 0.35405859839987497,
            "bin_end": 0.4832468787198999,
            "count": 0
           },
           {
            "bin_start": 0.4832468787198999,
            "bin_end": 0.6124351590399248,
            "count": 0
           },
           {
            "bin_start": 0.6124351590399248,
            "bin_end": 0.7416234393599499,
            "count": 0
           },
           {
            "bin_start": 0.7416234393599499,
            "bin_end": 0.870811719679975,
            "count": 2
           },
           {
            "bin_start": 0.870811719679975,
            "bin_end": 1,
            "count": 1
           }
          ]
         }
        },
        {
         "name": "Presión arterial alta",
         "dtype": "float64",
         "stats": {
          "unique_count": 12,
          "nan_count": 0,
          "min": "-0.04070443833629656",
          "max": "1.0",
          "histogram": [
           {
            "bin_start": -0.04070443833629656,
            "bin_end": 0.0633660054973331,
            "count": 3
           },
           {
            "bin_start": 0.0633660054973331,
            "bin_end": 0.16743644933096277,
            "count": 3
           },
           {
            "bin_start": 0.16743644933096277,
            "bin_end": 0.2715068931645924,
            "count": 3
           },
           {
            "bin_start": 0.2715068931645924,
            "bin_end": 0.3755773369982221,
            "count": 0
           },
           {
            "bin_start": 0.3755773369982221,
            "bin_end": 0.4796477808318518,
            "count": 1
           },
           {
            "bin_start": 0.4796477808318518,
            "bin_end": 0.5837182246654814,
            "count": 0
           },
           {
            "bin_start": 0.5837182246654814,
            "bin_end": 0.6877886684991111,
            "count": 1
           },
           {
            "bin_start": 0.6877886684991111,
            "bin_end": 0.7918591123327408,
            "count": 0
           },
           {
            "bin_start": 0.7918591123327408,
            "bin_end": 0.8959295561663704,
            "count": 0
           },
           {
            "bin_start": 0.8959295561663704,
            "bin_end": 1,
            "count": 1
           }
          ]
         }
        },
        {
         "name": "Presión arterial baja",
         "dtype": "float64",
         "stats": {
          "unique_count": 12,
          "nan_count": 0,
          "min": "0.020262270329270533",
          "max": "1.0",
          "histogram": [
           {
            "bin_start": 0.020262270329270533,
            "bin_end": 0.11823604329634349,
            "count": 6
           },
           {
            "bin_start": 0.11823604329634349,
            "bin_end": 0.21620981626341643,
            "count": 4
           },
           {
            "bin_start": 0.21620981626341643,
            "bin_end": 0.3141835892304894,
            "count": 0
           },
           {
            "bin_start": 0.3141835892304894,
            "bin_end": 0.4121573621975623,
            "count": 0
           },
           {
            "bin_start": 0.4121573621975623,
            "bin_end": 0.5101311351646353,
            "count": 0
           },
           {
            "bin_start": 0.5101311351646353,
            "bin_end": 0.6081049081317083,
            "count": 1
           },
           {
            "bin_start": 0.6081049081317083,
            "bin_end": 0.7060786810987811,
            "count": 0
           },
           {
            "bin_start": 0.7060786810987811,
            "bin_end": 0.8040524540658541,
            "count": 0
           },
           {
            "bin_start": 0.8040524540658541,
            "bin_end": 0.9020262270329271,
            "count": 0
           },
           {
            "bin_start": 0.9020262270329271,
            "bin_end": 1,
            "count": 1
           }
          ]
         }
        },
        {
         "name": "Cintura",
         "dtype": "float64",
         "stats": {
          "unique_count": 12,
          "nan_count": 0,
          "min": "-0.2766967272721753",
          "max": "1.0",
          "histogram": [
           {
            "bin_start": -0.2766967272721753,
            "bin_end": -0.1490270545449578,
            "count": 1
           },
           {
            "bin_start": -0.1490270545449578,
            "bin_end": -0.021357381817740273,
            "count": 1
           },
           {
            "bin_start": -0.021357381817740273,
            "bin_end": 0.10631229090947725,
            "count": 1
           },
           {
            "bin_start": 0.10631229090947725,
            "bin_end": 0.23398196363669477,
            "count": 6
           },
           {
            "bin_start": 0.23398196363669477,
            "bin_end": 0.3616516363639123,
            "count": 0
           },
           {
            "bin_start": 0.3616516363639123,
            "bin_end": 0.4893213090911298,
            "count": 0
           },
           {
            "bin_start": 0.4893213090911298,
            "bin_end": 0.6169909818183473,
            "count": 0
           },
           {
            "bin_start": 0.6169909818183473,
            "bin_end": 0.7446606545455648,
            "count": 0
           },
           {
            "bin_start": 0.7446606545455648,
            "bin_end": 0.8723303272727824,
            "count": 2
           },
           {
            "bin_start": 0.8723303272727824,
            "bin_end": 1,
            "count": 1
           }
          ]
         }
        },
        {
         "name": "Cadera",
         "dtype": "float64",
         "stats": {
          "unique_count": 12,
          "nan_count": 0,
          "min": "-0.27202792187917735",
          "max": "1.0",
          "histogram": [
           {
            "bin_start": -0.27202792187917735,
            "bin_end": -0.1448251296912596,
            "count": 2
           },
           {
            "bin_start": -0.1448251296912596,
            "bin_end": -0.017622337503341856,
            "count": 1
           },
           {
            "bin_start": -0.017622337503341856,
            "bin_end": 0.10958045468457589,
            "count": 2
           },
           {
            "bin_start": 0.10958045468457589,
            "bin_end": 0.23678324687249364,
            "count": 4
           },
           {
            "bin_start": 0.23678324687249364,
            "bin_end": 0.3639860390604114,
            "count": 0
           },
           {
            "bin_start": 0.3639860390604114,
            "bin_end": 0.4911888312483291,
            "count": 0
           },
           {
            "bin_start": 0.4911888312483291,
            "bin_end": 0.6183916234362469,
            "count": 0
           },
           {
            "bin_start": 0.6183916234362469,
            "bin_end": 0.7455944156241646,
            "count": 0
           },
           {
            "bin_start": 0.7455944156241646,
            "bin_end": 0.8727972078120824,
            "count": 2
           },
           {
            "bin_start": 0.8727972078120824,
            "bin_end": 1,
            "count": 1
           }
          ]
         }
        },
        {
         "name": "Diabetes",
         "dtype": "float64",
         "stats": {
          "unique_count": 12,
          "nan_count": 0,
          "min": "-0.12313336495285608",
          "max": "1.0",
          "histogram": [
           {
            "bin_start": -0.12313336495285608,
            "bin_end": -0.010820028457570477,
            "count": 1
           },
           {
            "bin_start": -0.010820028457570477,
            "bin_end": 0.10149330803771513,
            "count": 3
           },
           {
            "bin_start": 0.10149330803771513,
            "bin_end": 0.2138066445330007,
            "count": 4
           },
           {
            "bin_start": 0.2138066445330007,
            "bin_end": 0.3261199810282863,
            "count": 2
           },
           {
            "bin_start": 0.3261199810282863,
            "bin_end": 0.43843331752357195,
            "count": 0
           },
           {
            "bin_start": 0.43843331752357195,
            "bin_end": 0.5507466540188575,
            "count": 0
           },
           {
            "bin_start": 0.5507466540188575,
            "bin_end": 0.6630599905141431,
            "count": 0
           },
           {
            "bin_start": 0.6630599905141431,
            "bin_end": 0.7753733270094287,
            "count": 1
           },
           {
            "bin_start": 0.7753733270094287,
            "bin_end": 0.8876866635047143,
            "count": 0
           },
           {
            "bin_start": 0.8876866635047143,
            "bin_end": 1,
            "count": 1
           }
          ]
         }
        },
        {
         "name": "_deepnote_index_column",
         "dtype": "object"
        }
       ],
       "rows": [
        {
         "Colesterol": 1,
         "Glucosa": 0.15810207758834766,
         "HDL colesterol": 0.1931617034054156,
         "Edad": 0.24733346956273292,
         "Género": -0.03013853326463398,
         "Altura": -0.06360077256193461,
         "Peso": 0.062358628507392225,
         "Presión arterial alta": 0.20774144427308305,
         "Presión arterial baja": 0.1662413033226516,
         "Cintura": 0.13403781942639653,
         "Cadera": 0.09336358242717405,
         "Diabetes": 0.2042621677139273,
         "_deepnote_index_column": "Colesterol"
        },
        {
         "Colesterol": 0.15810207758834766,
         "Glucosa": 1,
         "HDL colesterol": -0.1583019646515296,
         "Edad": 0.29439196656277383,
         "Género": 0.09337232878428825,
         "Altura": 0.0980517987982113,
         "Peso": 0.19035786403377297,
         "Presión arterial alta": 0.16277716359262356,
         "Presión arterial baja": 0.020262270329270533,
         "Cintura": 0.22233555269574337,
         "Cadera": 0.1382229359376549,
         "Diabetes": 0.6890795038664445,
         "_deepnote_index_column": "Glucosa"
        },
        {
         "Colesterol": 0.1931617034054156,
         "Glucosa": -0.1583019646515296,
         "HDL colesterol": 1,
         "Edad": 0.02820971786830886,
         "Género": -0.10830501128324135,
         "Altura": -0.0872382538476301,
         "Peso": -0.29188280320025006,
         "Presión arterial alta": 0.03180658064577673,
         "Presión arterial baja": 0.07834183332170948,
         "Cintura": -0.2766967272721753,
         "Cadera": -0.2238372095914876,
         "Diabetes": -0.12313336495285608,
         "_deepnote_index_column": "HDL colesterol"
        },
        {
         "Colesterol": 0.24733346956273292,
         "Glucosa": 0.29439196656277383,
         "HDL colesterol": 0.02820971786830886,
         "Edad": 1,
         "Género": 0.08417659883729979,
         "Altura": -0.08222878126312079,
         "Peso": -0.056783858508088786,
         "Presión arterial alta": 0.4534172293883507,
         "Presión arterial baja": 0.06864873330043307,
         "Cintura": 0.1505847997620123,
         "Cadera": 0.004675448387287782,
         "Diabetes": 0.30199466646282513,
         "_deepnote_index_column": "Edad"
        },
        {
         "Colesterol": -0.03013853326463398,
         "Glucosa": 0.09337232878428825,
         "HDL colesterol": -0.10830501128324135,
         "Edad": 0.08417659883729979,
         "Género": 1,
         "Altura": 0.6778764102683271,
         "Peso": 0.09205285175392315,
         "Presión arterial alta": 0.0354173718453123,
         "Presión arterial baja": 0.07104279303025404,
         "Cintura": -0.04595512007125586,
         "Cadera": -0.27202792187917735,
         "Diabetes": 0.015530726241155849,
         "_deepnote_index_column": "Género"
        },
        {
         "Colesterol": -0.06360077256193461,
         "Glucosa": 0.0980517987982113,
         "HDL colesterol": -0.0872382538476301,
         "Edad": -0.08222878126312079,
         "Género": 0.6778764102683271,
         "Altura": 1,
         "Peso": 0.2553885104449847,
         "Presión arterial alta": -0.04070443833629656,
         "Presión arterial baja": 0.043616542268145334,
         "Cintura": 0.05744740524640759,
         "Cadera": -0.09590635534368201,
         "Diabetes": 0.02346552773375929,
         "_deepnote_index_column": "Altura"
        },
        {
         "Colesterol": 0.062358628507392225,
         "Glucosa": 0.19035786403377297,
         "HDL colesterol": -0.29188280320025006,
         "Edad": -0.056783858508088786,
         "Género": 0.09205285175392315,
         "Altura": 0.2553885104449847,
         "Peso": 1,
         "Presión arterial alta": 0.0974972869219088,
         "Presión arterial baja": 0.1664768228093187,
         "Cintura": 0.847765543010083,
         "Cadera": 0.8269846746383662,
         "Diabetes": 0.16298735663767402,
         "_deepnote_index_column": "Peso"
        },
        {
         "Colesterol": 0.20774144427308305,
         "Glucosa": 0.16277716359262356,
         "HDL colesterol": 0.03180658064577673,
         "Edad": 0.4534172293883507,
         "Género": 0.0354173718453123,
         "Altura": -0.04070443833629656,
         "Peso": 0.0974972869219088,
         "Presión arterial alta": 1,
         "Presión arterial baja": 0.6036615208631579,
         "Cintura": 0.21093380378596643,
         "Cadera": 0.15532064648674443,
         "Diabetes": 0.1985995824274408,
         "_deepnote_index_column": "Presión arterial alta"
        },
        {
         "Colesterol": 0.1662413033226516,
         "Glucosa": 0.020262270329270533,
         "HDL colesterol": 0.07834183332170948,
         "Edad": 0.06864873330043307,
         "Género": 0.07104279303025404,
         "Altura": 0.043616542268145334,
         "Peso": 0.1664768228093187,
         "Presión arterial alta": 0.6036615208631579,
         "Presión arterial baja": 1,
         "Cintura": 0.16584627147694483,
         "Cadera": 0.14389835071019053,
         "Diabetes": 0.049351066354461536,
         "_deepnote_index_column": "Presión arterial baja"
        },
        {
         "Colesterol": 0.13403781942639653,
         "Glucosa": 0.22233555269574337,
         "HDL colesterol": -0.2766967272721753,
         "Edad": 0.1505847997620123,
         "Género": -0.04595512007125586,
         "Altura": 0.05744740524640759,
         "Peso": 0.847765543010083,
         "Presión arterial alta": 0.21093380378596643,
         "Presión arterial baja": 0.16584627147694483,
         "Cintura": 1,
         "Cadera": 0.8351774400696714,
         "Diabetes": 0.22337794978982733,
         "_deepnote_index_column": "Cintura"
        }
       ]
      },
      "text/plain": "                       Colesterol   Glucosa  HDL colesterol      Edad  \\\nColesterol               1.000000  0.158102        0.193162  0.247333   \nGlucosa                  0.158102  1.000000       -0.158302  0.294392   \nHDL colesterol           0.193162 -0.158302        1.000000  0.028210   \nEdad                     0.247333  0.294392        0.028210  1.000000   \nGénero                  -0.030139  0.093372       -0.108305  0.084177   \nAltura                  -0.063601  0.098052       -0.087238 -0.082229   \nPeso                     0.062359  0.190358       -0.291883 -0.056784   \nPresión arterial alta    0.207741  0.162777        0.031807  0.453417   \nPresión arterial baja    0.166241  0.020262        0.078342  0.068649   \nCintura                  0.134038  0.222336       -0.276697  0.150585   \nCadera                   0.093364  0.138223       -0.223837  0.004675   \nDiabetes                 0.204262  0.689080       -0.123133  0.301995   \n\n                         Género    Altura      Peso  Presión arterial alta  \\\nColesterol            -0.030139 -0.063601  0.062359               0.207741   \nGlucosa                0.093372  0.098052  0.190358               0.162777   \nHDL colesterol        -0.108305 -0.087238 -0.291883               0.031807   \nEdad                   0.084177 -0.082229 -0.056784               0.453417   \nGénero                 1.000000  0.677876  0.092053               0.035417   \nAltura                 0.677876  1.000000  0.255389              -0.040704   \nPeso                   0.092053  0.255389  1.000000               0.097497   \nPresión arterial alta  0.035417 -0.040704  0.097497               1.000000   \nPresión arterial baja  0.071043  0.043617  0.166477               0.603662   \nCintura               -0.045955  0.057447  0.847766               0.210934   \nCadera                -0.272028 -0.095906  0.826985               0.155321   \nDiabetes               0.015531  0.023466  0.162987               0.198600   \n\n                       Presión arterial baja   Cintura    Cadera  Diabetes  \nColesterol                          0.166241  0.134038  0.093364  0.204262  \nGlucosa                             0.020262  0.222336  0.138223  0.689080  \nHDL colesterol                      0.078342 -0.276697 -0.223837 -0.123133  \nEdad                                0.068649  0.150585  0.004675  0.301995  \nGénero                              0.071043 -0.045955 -0.272028  0.015531  \nAltura                              0.043617  0.057447 -0.095906  0.023466  \nPeso                                0.166477  0.847766  0.826985  0.162987  \nPresión arterial alta               0.603662  0.210934  0.155321  0.198600  \nPresión arterial baja               1.000000  0.165846  0.143898  0.049351  \nCintura                             0.165846  1.000000  0.835177  0.223378  \nCadera                              0.143898  0.835177  1.000000  0.143792  \nDiabetes                            0.049351  0.223378  0.143792  1.000000  ",
      "text/html": "<div>\n<style scoped>\n    .dataframe tbody tr th:only-of-type {\n        vertical-align: middle;\n    }\n\n    .dataframe tbody tr th {\n        vertical-align: top;\n    }\n\n    .dataframe thead th {\n        text-align: right;\n    }\n</style>\n<table border=\"1\" class=\"dataframe\">\n  <thead>\n    <tr style=\"text-align: right;\">\n      <th></th>\n      <th>Colesterol</th>\n      <th>Glucosa</th>\n      <th>HDL colesterol</th>\n      <th>Edad</th>\n      <th>Género</th>\n      <th>Altura</th>\n      <th>Peso</th>\n      <th>Presión arterial alta</th>\n      <th>Presión arterial baja</th>\n      <th>Cintura</th>\n      <th>Cadera</th>\n      <th>Diabetes</th>\n    </tr>\n  </thead>\n  <tbody>\n    <tr>\n      <th>Colesterol</th>\n      <td>1.000000</td>\n      <td>0.158102</td>\n      <td>0.193162</td>\n      <td>0.247333</td>\n      <td>-0.030139</td>\n      <td>-0.063601</td>\n      <td>0.062359</td>\n      <td>0.207741</td>\n      <td>0.166241</td>\n      <td>0.134038</td>\n      <td>0.093364</td>\n      <td>0.204262</td>\n    </tr>\n    <tr>\n      <th>Glucosa</th>\n      <td>0.158102</td>\n      <td>1.000000</td>\n      <td>-0.158302</td>\n      <td>0.294392</td>\n      <td>0.093372</td>\n      <td>0.098052</td>\n      <td>0.190358</td>\n      <td>0.162777</td>\n      <td>0.020262</td>\n      <td>0.222336</td>\n      <td>0.138223</td>\n      <td>0.689080</td>\n    </tr>\n    <tr>\n      <th>HDL colesterol</th>\n      <td>0.193162</td>\n      <td>-0.158302</td>\n      <td>1.000000</td>\n      <td>0.028210</td>\n      <td>-0.108305</td>\n      <td>-0.087238</td>\n      <td>-0.291883</td>\n      <td>0.031807</td>\n      <td>0.078342</td>\n      <td>-0.276697</td>\n      <td>-0.223837</td>\n      <td>-0.123133</td>\n    </tr>\n    <tr>\n      <th>Edad</th>\n      <td>0.247333</td>\n      <td>0.294392</td>\n      <td>0.028210</td>\n      <td>1.000000</td>\n      <td>0.084177</td>\n      <td>-0.082229</td>\n      <td>-0.056784</td>\n      <td>0.453417</td>\n      <td>0.068649</td>\n      <td>0.150585</td>\n      <td>0.004675</td>\n      <td>0.301995</td>\n    </tr>\n    <tr>\n      <th>Género</th>\n      <td>-0.030139</td>\n      <td>0.093372</td>\n      <td>-0.108305</td>\n      <td>0.084177</td>\n      <td>1.000000</td>\n      <td>0.677876</td>\n      <td>0.092053</td>\n      <td>0.035417</td>\n      <td>0.071043</td>\n      <td>-0.045955</td>\n      <td>-0.272028</td>\n      <td>0.015531</td>\n    </tr>\n    <tr>\n      <th>Altura</th>\n      <td>-0.063601</td>\n      <td>0.098052</td>\n      <td>-0.087238</td>\n      <td>-0.082229</td>\n      <td>0.677876</td>\n      <td>1.000000</td>\n      <td>0.255389</td>\n      <td>-0.040704</td>\n      <td>0.043617</td>\n      <td>0.057447</td>\n      <td>-0.095906</td>\n      <td>0.023466</td>\n    </tr>\n    <tr>\n      <th>Peso</th>\n      <td>0.062359</td>\n      <td>0.190358</td>\n      <td>-0.291883</td>\n      <td>-0.056784</td>\n      <td>0.092053</td>\n      <td>0.255389</td>\n      <td>1.000000</td>\n      <td>0.097497</td>\n      <td>0.166477</td>\n      <td>0.847766</td>\n      <td>0.826985</td>\n      <td>0.162987</td>\n    </tr>\n    <tr>\n      <th>Presión arterial alta</th>\n      <td>0.207741</td>\n      <td>0.162777</td>\n      <td>0.031807</td>\n      <td>0.453417</td>\n      <td>0.035417</td>\n      <td>-0.040704</td>\n      <td>0.097497</td>\n      <td>1.000000</td>\n      <td>0.603662</td>\n      <td>0.210934</td>\n      <td>0.155321</td>\n      <td>0.198600</td>\n    </tr>\n    <tr>\n      <th>Presión arterial baja</th>\n      <td>0.166241</td>\n      <td>0.020262</td>\n      <td>0.078342</td>\n      <td>0.068649</td>\n      <td>0.071043</td>\n      <td>0.043617</td>\n      <td>0.166477</td>\n      <td>0.603662</td>\n      <td>1.000000</td>\n      <td>0.165846</td>\n      <td>0.143898</td>\n      <td>0.049351</td>\n    </tr>\n    <tr>\n      <th>Cintura</th>\n      <td>0.134038</td>\n      <td>0.222336</td>\n      <td>-0.276697</td>\n      <td>0.150585</td>\n      <td>-0.045955</td>\n      <td>0.057447</td>\n      <td>0.847766</td>\n      <td>0.210934</td>\n      <td>0.165846</td>\n      <td>1.000000</td>\n      <td>0.835177</td>\n      <td>0.223378</td>\n    </tr>\n    <tr>\n      <th>Cadera</th>\n      <td>0.093364</td>\n      <td>0.138223</td>\n      <td>-0.223837</td>\n      <td>0.004675</td>\n      <td>-0.272028</td>\n      <td>-0.095906</td>\n      <td>0.826985</td>\n      <td>0.155321</td>\n      <td>0.143898</td>\n      <td>0.835177</td>\n      <td>1.000000</td>\n      <td>0.143792</td>\n    </tr>\n    <tr>\n      <th>Diabetes</th>\n      <td>0.204262</td>\n      <td>0.689080</td>\n      <td>-0.123133</td>\n      <td>0.301995</td>\n      <td>0.015531</td>\n      <td>0.023466</td>\n      <td>0.162987</td>\n      <td>0.198600</td>\n      <td>0.049351</td>\n      <td>0.223378</td>\n      <td>0.143792</td>\n      <td>1.000000</td>\n    </tr>\n  </tbody>\n</table>\n</div>"
     },
     "metadata": {}
    }
   ],
   "execution_count": null
  },
  {
   "cell_type": "code",
   "metadata": {
    "tags": [],
    "cell_id": "00027-c06ed950-63d8-429c-88d5-09d9a8ab0cc1",
    "deepnote_to_be_reexecuted": false,
    "source_hash": "6747cf4f",
    "execution_start": 1640006919112,
    "execution_millis": 671,
    "deepnote_output_heights": [
     465
    ],
    "deepnote_app_coordinates": {
     "x": 0,
     "y": 168,
     "w": 12,
     "h": 5
    },
    "deepnote_cell_type": "code"
   },
   "source": "# Gráfica de matriz de correlación\nplt.figure(figsize=(10,6))\nsns.heatmap(diabetes.corr(), vmax = 0.9, square= True)\nplt.title(\"Matriz de correlación de Pearson\")\nplt.show()\n",
   "outputs": [
    {
     "data": {
      "text/plain": "<Figure size 720x432 with 2 Axes>",
      "image/png": "[encoded data removed]"
     },
     "metadata": {
      "needs_background": "light",
      "image/png": {
       "width": 523,
       "height": 463
      }
     },
     "output_type": "display_data"
    }
   ],
   "execution_count": null
  },
  {
   "cell_type": "markdown",
   "source": "### 5. Modelo de clasificación con scikit-learn\nEn esta sección vamos a crear un modelo de clasificación con la libreria scikit-learn.",
   "metadata": {
    "tags": [],
    "cell_id": "00029-1eeb4beb-df49-4d14-9bea-7422ae213305",
    "deepnote_app_coordinates": {
     "x": 0,
     "y": 174,
     "w": 12,
     "h": 5
    },
    "deepnote_cell_type": "markdown"
   }
  },
  {
   "cell_type": "code",
   "metadata": {
    "tags": [],
    "cell_id": "00030-b493767b-5ca3-4141-80be-78f7f45dc0ee",
    "deepnote_to_be_reexecuted": false,
    "source_hash": "988ac958",
    "execution_start": 1640006919692,
    "execution_millis": 0,
    "deepnote_app_coordinates": {
     "x": 0,
     "y": 180,
     "w": 12,
     "h": 5
    },
    "deepnote_cell_type": "code"
   },
   "source": "# Creamos nuestra varible dependiente y independientes\nX = diabetes.drop([\"Diabetes\"],axis=1) # Varibles independientes o explicativas\nY = diabetes[\"Diabetes\"] # Variable dependiente en este caso si tiene o no diabetes",
   "outputs": [],
   "execution_count": null
  },
  {
   "cell_type": "code",
   "metadata": {
    "tags": [],
    "cell_id": "00031-d6d44c92-4e09-4cb0-859b-d70300bd57e2",
    "deepnote_to_be_reexecuted": false,
    "source_hash": "52cae0c0",
    "execution_start": 1640006919692,
    "execution_millis": 0,
    "deepnote_app_coordinates": {
     "x": 0,
     "y": 186,
     "w": 12,
     "h": 5
    },
    "deepnote_cell_type": "code"
   },
   "source": "# Dividimos nuestros datos\nX_train, X_test, Y_train, Y_test = train_test_split(X, Y, test_size= 0.2, random_state= 0)",
   "outputs": [],
   "execution_count": null
  },
  {
   "cell_type": "code",
   "metadata": {
    "tags": [],
    "cell_id": "00032-704717e5-9a2d-4bd4-8a1c-38d1ec460164",
    "deepnote_to_be_reexecuted": false,
    "source_hash": "745c7f89",
    "execution_start": 1640006919693,
    "execution_millis": 96,
    "deepnote_app_coordinates": {
     "x": 0,
     "y": 192,
     "w": 12,
     "h": 5
    },
    "deepnote_cell_type": "code"
   },
   "source": "# Procedemos aplicar nuestro algoritmo\nlogreg = LogisticRegression()\nlogreg.fit(X_train, Y_train) # Ejecución del modelo\nY_pred = logreg.predict(X_test)",
   "outputs": [
    {
     "name": "stderr",
     "text": "/shared-libs/python3.9/py/lib/python3.9/site-packages/sklearn/linear_model/_logistic.py:814: ConvergenceWarning: lbfgs failed to converge (status=1):\nSTOP: TOTAL NO. of ITERATIONS REACHED LIMIT.\n\nIncrease the number of iterations (max_iter) or scale the data as shown in:\n    https://scikit-learn.org/stable/modules/preprocessing.html\nPlease also refer to the documentation for alternative solver options:\n    https://scikit-learn.org/stable/modules/linear_model.html#logistic-regression\n  n_iter_i = _check_optimize_result(\n",
     "output_type": "stream",
     "data": {}
    }
   ],
   "execution_count": null
  },
  {
   "cell_type": "code",
   "metadata": {
    "tags": [],
    "cell_id": "00033-6be91b37-37d7-4991-b15d-fa855db9c9de",
    "deepnote_to_be_reexecuted": false,
    "source_hash": "c51a2658",
    "execution_start": 1640006919736,
    "execution_millis": 53,
    "deepnote_output_heights": [
     78
    ],
    "deepnote_app_coordinates": {
     "x": 0,
     "y": 198,
     "w": 12,
     "h": 5
    },
    "deepnote_cell_type": "code"
   },
   "source": "# Ejecutamos y_pred para observar los datos que se ha aplicado\nY_pred",
   "outputs": [
    {
     "output_type": "execute_result",
     "execution_count": 25,
     "data": {
      "text/plain": "array([0, 0, 0, 0, 0, 1, 1, 0, 0, 0, 0, 0, 0, 0, 0, 0, 0, 0, 1, 0, 0, 0,\n       0, 0, 0, 0, 1, 0, 0, 0, 0, 0, 0, 0, 0, 0, 1, 0, 0, 0, 0, 0, 0, 0,\n       0, 0, 0, 0, 1, 0, 0, 0, 0, 0, 0, 0, 0, 0, 1, 1, 0, 0, 0, 0, 0, 0,\n       0, 0, 0, 0, 0, 1, 0, 0, 0, 0, 0, 0])"
     },
     "metadata": {}
    }
   ],
   "execution_count": null
  },
  {
   "cell_type": "code",
   "metadata": {
    "tags": [],
    "cell_id": "00034-9fa4aadf-a522-40e6-a88b-d268163bc85f",
    "deepnote_to_be_reexecuted": false,
    "source_hash": "da1bf5dc",
    "execution_start": 1640006919737,
    "execution_millis": 53,
    "deepnote_output_heights": [
     40
    ],
    "deepnote_app_coordinates": {
     "x": 0,
     "y": 204,
     "w": 12,
     "h": 5
    },
    "deepnote_cell_type": "code"
   },
   "source": "# Creamos una matriz de confusión\ncnf_matrix = metrics.confusion_matrix(Y_test, Y_pred)\ncnf_matrix",
   "outputs": [
    {
     "output_type": "execute_result",
     "execution_count": 26,
     "data": {
      "text/plain": "array([[63,  1],\n       [ 6,  8]])"
     },
     "metadata": {}
    }
   ],
   "execution_count": null
  },
  {
   "cell_type": "code",
   "metadata": {
    "tags": [],
    "cell_id": "00035-01470ddd-c267-4ffd-98be-6a402934d171",
    "deepnote_to_be_reexecuted": false,
    "source_hash": "321ed22f",
    "execution_start": 1640006919805,
    "execution_millis": 300,
    "deepnote_output_heights": [
     21,
     323
    ],
    "deepnote_app_coordinates": {
     "x": 0,
     "y": 210,
     "w": 12,
     "h": 5
    },
    "deepnote_cell_type": "code"
   },
   "source": "# Gráficamos la matriz de confusión\nclass_names = [0, 1]\nfig, ax = plt.subplots()\ntick_marks = np.arange(len(class_names))\nplt.xticks(tick_marks, class_names)\nplt.yticks(tick_marks, class_names)\n\nsns.heatmap(pd.DataFrame(cnf_matrix), annot = True, cmap = \"Blues_r\", fmt = \"g\")\nax.xaxis.set_label_position(\"top\")\nplt.tight_layout()\nplt.title(\"Matriz de confusión\", y = 1.1)\nplt.ylabel(\"Etiqueta actual\")\nplt.xlabel(\"Etiqueta de predicción\")",
   "outputs": [
    {
     "output_type": "execute_result",
     "execution_count": 27,
     "data": {
      "text/plain": "Text(0.5, 257.44, 'Etiqueta de predicción')"
     },
     "metadata": {}
    },
    {
     "data": {
      "text/plain": "<Figure size 432x288 with 2 Axes>",
      "image/png": "[encoded data removed]"
     },
     "metadata": {
      "needs_background": "light",
      "image/png": {
       "width": 411,
       "height": 321
      }
     },
     "output_type": "display_data"
    }
   ],
   "execution_count": null
  },
  {
   "cell_type": "code",
   "metadata": {
    "tags": [],
    "cell_id": "00036-dd59857d-81fb-4b8a-8677-fbb21ce21f9f",
    "deepnote_to_be_reexecuted": false,
    "source_hash": "659cd4a0",
    "execution_start": 1640006920147,
    "execution_millis": 0,
    "deepnote_app_coordinates": {
     "x": 0,
     "y": 216,
     "w": 12,
     "h": 5
    },
    "deepnote_cell_type": "code"
   },
   "source": "# Exactitud del modelo\nprint(\"Exactitud\", metrics.accuracy_score(Y_test, Y_pred))",
   "outputs": [
    {
     "name": "stdout",
     "text": "Exactitud 0.9102564102564102\n",
     "output_type": "stream",
     "data": {}
    }
   ],
   "execution_count": null
  },
  {
   "cell_type": "markdown",
   "source": "### 5.1 Aplicación del modulo de PCA\n",
   "metadata": {
    "tags": [],
    "deepnote_app_coordinates": {
     "x": 0,
     "y": 0,
     "w": 12,
     "h": 5
    },
    "cell_id": "00036-608a14fb-ee29-4b4b-bbdd-a18b2d71723f",
    "deepnote_cell_type": "markdown"
   }
  },
  {
   "cell_type": "code",
   "source": "# Normalizamos los datos\nX = StandardScaler().fit_transform(X)",
   "metadata": {
    "tags": [],
    "deepnote_app_coordinates": {
     "x": 0,
     "y": 0,
     "w": 12,
     "h": 5
    },
    "cell_id": "00037-23f3a2fc-4bab-4f9b-afe8-8284877bb44d",
    "deepnote_to_be_reexecuted": false,
    "source_hash": "bc23bccf",
    "execution_start": 1640006920148,
    "execution_millis": 4,
    "deepnote_cell_type": "code"
   },
   "outputs": [],
   "execution_count": null
  },
  {
   "cell_type": "code",
   "source": "# Dividimos nuestros datos\nX_train, X_test, Y_train, Y_test = train_test_split(X, Y, test_size= 0.2, random_state= 42)",
   "metadata": {
    "tags": [],
    "deepnote_app_coordinates": {
     "x": 0,
     "y": 0,
     "w": 12,
     "h": 5
    },
    "cell_id": "00038-1567f604-4c5f-48ea-abf3-30d9ce769026",
    "deepnote_to_be_reexecuted": false,
    "source_hash": "8b73e5fb",
    "execution_start": 1640006920149,
    "execution_millis": 1,
    "deepnote_cell_type": "code"
   },
   "outputs": [],
   "execution_count": null
  },
  {
   "cell_type": "code",
   "source": "# Creamos la variable de pca\npca = PCA(n_components=3)\npca.fit(X_train)",
   "metadata": {
    "tags": [],
    "deepnote_app_coordinates": {
     "x": 0,
     "y": 0,
     "w": 12,
     "h": 5
    },
    "cell_id": "00039-a69e7a98-1bdf-4de5-a072-53695f2a473d",
    "deepnote_to_be_reexecuted": false,
    "source_hash": "f8fa7fec",
    "execution_start": 1640006920150,
    "execution_millis": 9,
    "deepnote_output_heights": [
     21
    ],
    "deepnote_cell_type": "code"
   },
   "outputs": [
    {
     "output_type": "execute_result",
     "execution_count": 31,
     "data": {
      "text/plain": "PCA(n_components=3)"
     },
     "metadata": {}
    }
   ],
   "execution_count": null
  },
  {
   "cell_type": "code",
   "source": "# Creamos la variable ipca\nipca = IncrementalPCA(n_components=3)\nipca.fit(X_train)\n",
   "metadata": {
    "tags": [],
    "deepnote_app_coordinates": {
     "x": 0,
     "y": 0,
     "w": 12,
     "h": 5
    },
    "cell_id": "00040-04759fa7-377f-453b-b1c5-580d3f2b3767",
    "deepnote_to_be_reexecuted": false,
    "source_hash": "6f6da266",
    "execution_start": 1640006920161,
    "execution_millis": 12,
    "deepnote_output_heights": [
     21
    ],
    "deepnote_cell_type": "code"
   },
   "outputs": [
    {
     "output_type": "execute_result",
     "execution_count": 32,
     "data": {
      "text/plain": "IncrementalPCA(n_components=3)"
     },
     "metadata": {}
    }
   ],
   "execution_count": null
  },
  {
   "cell_type": "code",
   "source": "# Aplicamos la regresión logistica con PCA\nlogistic = LogisticRegression(solver='lbfgs')\ndt_train = pca.transform(X_train)\ndt_test = pca.transform(X_test)\nlogistic.fit(dt_train, Y_train)\nprint(\"SCORE PCA: \", logistic.score(dt_test, Y_test))",
   "metadata": {
    "tags": [],
    "deepnote_app_coordinates": {
     "x": 0,
     "y": 0,
     "w": 12,
     "h": 5
    },
    "cell_id": "00041-0622a7bb-462c-4894-9a91-20ed5ac31551",
    "deepnote_to_be_reexecuted": false,
    "source_hash": "49015288",
    "execution_start": 1640007359991,
    "execution_millis": 5,
    "deepnote_cell_type": "code"
   },
   "outputs": [
    {
     "name": "stdout",
     "text": "SCORE PCA:  0.7948717948717948\n",
     "output_type": "stream",
     "data": {}
    }
   ],
   "execution_count": null
  },
  {
   "cell_type": "code",
   "source": "# Aplicamos la regresión logistica con IPCA\ndt_train = ipca.transform(X_train)\ndt_test = ipca.transform(X_test)\nlogistic.fit(dt_train, Y_train)\nprint(\"SCORE IPCA: \", logistic.score(dt_test, Y_test))",
   "metadata": {
    "tags": [],
    "deepnote_app_coordinates": {
     "x": 0,
     "y": 0,
     "w": 12,
     "h": 5
    },
    "cell_id": "00042-0189fad3-8fbd-41f3-8995-f5f9882c38a6",
    "deepnote_to_be_reexecuted": false,
    "source_hash": "26dc9dd7",
    "execution_start": 1640007438605,
    "execution_millis": 7,
    "deepnote_cell_type": "code"
   },
   "outputs": [
    {
     "name": "stdout",
     "text": "SCORE IPCA:  0.782051282051282\n",
     "output_type": "stream",
     "data": {}
    }
   ],
   "execution_count": null
  },
  {
   "cell_type": "markdown",
   "source": "Podemos apreciar que la implementación de PCA y IPCA tienen un rendimiento similar. Con PCA solo se necesita 3 variables artificiales para llegar a un resultado aceptable.",
   "metadata": {
    "tags": [],
    "deepnote_app_coordinates": {
     "x": 0,
     "y": 0,
     "w": 12,
     "h": 5
    },
    "cell_id": "00043-191d5e18-2c34-412d-a6e5-bbb599a56929",
    "deepnote_cell_type": "markdown"
   }
  },
  {
   "cell_type": "markdown",
   "source": "### 6. Conclusiones\nEn conclusión, el modelo tiene una exactitud del 91% clasificando a las personas con o sin diabetes. Para el caso de estos datos podemos apreciar que el modelo clasifico de forma correcta 63 personas como no diabeticas y 8 que si presentaban la enfermedad. La variable mas significativa es la glucosa en la sangre. Además, a nivel gráfico se puede valorar que el mayor porcentaje con diabetes son mujeres.",
   "metadata": {
    "tags": [],
    "cell_id": "00037-e6f8cb57-8aea-4b76-917e-453f29ea9910",
    "deepnote_app_coordinates": {
     "x": 0,
     "y": 222,
     "w": 12,
     "h": 5
    },
    "deepnote_cell_type": "markdown"
   }
  },
  {
   "cell_type": "markdown",
   "source": "<a style='text-decoration:none;line-height:16px;display:flex;color:#5B5B62;padding:10px;justify-content:end;' href='https://deepnote.com?utm_source=created-in-deepnote-cell&projectId=eeb74c36-f3dd-4b1e-8914-154c400aca7b' target=\"_blank\">\n<img alt='Created in deepnote.com' style='display:inline;max-height:16px;margin:0px;margin-right:7.5px;' src='data:image/svg+xml;base64,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' > </img>\nCreated in <span style='font-weight:600;margin-left:4px;'>Deepnote</span></a>",
   "metadata": {
    "tags": [],
    "created_in_deepnote_cell": true,
    "deepnote_cell_type": "markdown"
   }
  }
 ],
 "nbformat": 4,
 "nbformat_minor": 2,
 "metadata": {
  "orig_nbformat": 2,
  "deepnote": {
   "is_reactive": false
  },
  "deepnote_notebook_id": "04d492f2-7907-4e3b-8690-23cff65a77a1",
  "deepnote_execution_queue": [],
  "deepnote_app_layout": "article"
 }
}